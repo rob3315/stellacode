{
 "cells": [
  {
   "cell_type": "markdown",
   "metadata": {},
   "source": [
    "# Regcoil\n",
    "Stellacode includes the [regcoil](https://github.com/landreman/regcoil) algorithm for finding the optimal current density for reproducing a given magnetic field from a given coil surface."
   ]
  },
  {
   "cell_type": "markdown",
   "metadata": {},
   "source": [
    "The first step is to choose a plasma configuration and create the regcoil solver object. Some predefined configuration are available in stellacode. Let's choose the W7X configuration."
   ]
  },
  {
   "cell_type": "code",
   "execution_count": 1,
   "metadata": {},
   "outputs": [
    {
     "name": "stdout",
     "output_type": "stream",
     "text": [
      "Notebook initialized with ipy backend.\n"
     ]
    },
    {
     "name": "stderr",
     "output_type": "stream",
     "text": [
      "WARNING: All log messages before absl::InitializeLog() is called are written to STDERR\n",
      "I0000 00:00:1696860086.243532   17086 tfrt_cpu_pjrt_client.cc:349] TfrtCpuClient created.\n",
      "No GPU/TPU found, falling back to CPU. (Set TF_CPP_MIN_LOG_LEVEL=0 and rerun for more info.)\n"
     ]
    }
   ],
   "source": [
    "from mayavi import mlab\n",
    "mlab.init_notebook()\n",
    "\n",
    "from stellacode.definitions import w7x_plasma\n",
    "from stellacode.costs import EMCost\n",
    "from stellacode.surface import IntegrationParams\n",
    "\n",
    "em_cost = EMCost.from_plasma_config(\n",
    "    plasma_config=w7x_plasma,\n",
    "    integration_par=IntegrationParams(num_points_u=16, num_points_v=16),\n",
    ")\n"
   ]
  },
  {
   "cell_type": "markdown",
   "metadata": {},
   "source": [
    "Then we can build a coil factory (a class used to create coil objects):"
   ]
  },
  {
   "cell_type": "code",
   "execution_count": 2,
   "metadata": {},
   "outputs": [],
   "source": [
    "from stellacode.surface import WrappedCoil\n",
    "\n",
    "coil_factory = WrappedCoil.from_plasma(\n",
    "    surf_plasma=em_cost.Sp,\n",
    "    surf_type=\"toroidal\",\n",
    "    n_harmonics=4,\n",
    "    factor=6,\n",
    ")\n",
    "\n"
   ]
  },
  {
   "cell_type": "markdown",
   "metadata": {},
   "source": [
    "Then we can build the coil operator, which is a linear operator acting on current parameters and returning a current object:"
   ]
  },
  {
   "cell_type": "code",
   "execution_count": 3,
   "metadata": {},
   "outputs": [],
   "source": [
    "coil_op = coil_factory()"
   ]
  },
  {
   "cell_type": "markdown",
   "metadata": {},
   "source": [
    "We can retrieve the current parameters and use them to build a coil surface:"
   ]
  },
  {
   "cell_type": "markdown",
   "metadata": {},
   "source": [
    "Then we can solve for the value of $\\lambda$ given to EMCost"
   ]
  },
  {
   "cell_type": "code",
   "execution_count": 4,
   "metadata": {},
   "outputs": [
    {
     "name": "stdout",
     "output_type": "stream",
     "text": [
      "{'err_max_B': Array(2.1029208, dtype=float32), 'cost_B': Array(48.3173, dtype=float32), 'em_cost': Array(1.0466975e+14, dtype=float32), 'cost_J': Array(1.04669756e+15, dtype=float32), 'max_j': Array(2714388.2, dtype=float32)}\n"
     ]
    }
   ],
   "source": [
    "cost, metrics, results, S = em_cost.cost(coil_op)\n",
    "print(metrics)"
   ]
  },
  {
   "cell_type": "code",
   "execution_count": 5,
   "metadata": {},
   "outputs": [],
   "source": [
    "coil_surface = coil_op.get_coil(results.phi_mn_wnet_cur) "
   ]
  },
  {
   "cell_type": "markdown",
   "metadata": {},
   "source": [
    "Then we can plot the current obtained:"
   ]
  },
  {
   "cell_type": "code",
   "execution_count": 6,
   "metadata": {},
   "outputs": [],
   "source": [
    "\n",
    "em_cost.Sp.plot()\n",
    "coil_surface.plot(vector_field=coil_surface.j_3d)"
   ]
  }
 ],
 "metadata": {
  "kernelspec": {
   "display_name": "stellacode",
   "language": "python",
   "name": "python3"
  },
  "language_info": {
   "codemirror_mode": {
    "name": "ipython",
    "version": 3
   },
   "file_extension": ".py",
   "mimetype": "text/x-python",
   "name": "python",
   "nbconvert_exporter": "python",
   "pygments_lexer": "ipython3",
   "version": "3.10.12"
  },
  "orig_nbformat": 4
 },
 "nbformat": 4,
 "nbformat_minor": 2
}
