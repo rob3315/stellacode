{
 "cells": [
  {
   "cell_type": "markdown",
   "metadata": {},
   "source": [
    "# Piecewise cylindrical CWS optimization"
   ]
  },
  {
   "cell_type": "markdown",
   "metadata": {},
   "source": [
    "A notebook to run a shape + current optimization for a given plasma configuration\n",
    "\n",
    "- Define the cost\n",
    "- Set up the coil factory\n",
    "- Set up the optimizer\n",
    "- Run the optimization"
   ]
  },
  {
   "cell_type": "code",
   "execution_count": 1,
   "metadata": {},
   "outputs": [
    {
     "name": "stderr",
     "output_type": "stream",
     "text": [
      "An NVIDIA GPU may be present on this machine, but a CUDA-enabled jaxlib is not installed. Falling back to cpu.\n"
     ]
    }
   ],
   "source": [
    "%gui qt\n",
    "\n",
    "from mayavi import mlab\n",
    "\n",
    "from stellacode.costs import EMCost\n",
    "from stellacode.surface import IntegrationParams\n",
    "from stellacode.costs import (\n",
    "    AggregateCost,\n",
    "    DistanceCost,\n",
    "    PoloidalCurrentCost,\n",
    "    CurrentCtrCost,\n",
    ")\n",
    "from stellacode.costs.utils import Constraint\n",
    "\n",
    "from stellacode.surface import WrappedCoil,FourierSurfaceFactory\n",
    "from stellacode.optimizer import Optimizer\n",
    "from stellacode.tools.plots import plot_CWS_LCFS, plot_cross_sections\n"
   ]
  },
  {
   "cell_type": "markdown",
   "metadata": {},
   "source": [
    "Load the W7-X plasma configuration"
   ]
  },
  {
   "cell_type": "code",
   "execution_count": 2,
   "metadata": {},
   "outputs": [],
   "source": [
    "from stellacode.definitions import w7x_plasma\n",
    "plasma_config = w7x_plasma"
   ]
  },
  {
   "cell_type": "code",
   "execution_count": 3,
   "metadata": {},
   "outputs": [],
   "source": [
    "n_harmonics_phi = 16\n",
    "n_harmonics_u = 4\n",
    "n_harmonics_v = 4\n",
    "factor = 4\n",
    "rotate_diff_current = 1  # num_cyl\n",
    "make_joints = False  # oblique cut to make joints btw cylinders\n",
    "\n",
    "lamb = 1e-27\n",
    "train_currents = True\n",
    "currentit = 1e8\n",
    "\n",
    "maxiter = 1\n",
    "optim_method = \"L-BFGS-B\""
   ]
  },
  {
   "cell_type": "code",
   "execution_count": 4,
   "metadata": {},
   "outputs": [],
   "source": [
    "integration_par = IntegrationParams(\n",
    "    num_points_u=n_harmonics_u * factor, num_points_v=n_harmonics_v * factor)\n",
    "Sp = FourierSurfaceFactory.from_file(\n",
    "    plasma_config.path_plasma, integration_par=integration_par)"
   ]
  },
  {
   "cell_type": "code",
   "execution_count": 5,
   "metadata": {},
   "outputs": [],
   "source": [
    "costs = []"
   ]
  },
  {
   "cell_type": "markdown",
   "metadata": {},
   "source": [
    "Constraint related to the magnetic field regression"
   ]
  },
  {
   "cell_type": "code",
   "execution_count": 6,
   "metadata": {},
   "outputs": [],
   "source": [
    "em_cost = EMCost.from_plasma_config(\n",
    "    lamb=1e-30,\n",
    "    plasma_config=plasma_config,\n",
    "    integration_par=integration_par,\n",
    "    train_currents=True\n",
    ")\n",
    "costs.append(em_cost)"
   ]
  },
  {
   "cell_type": "markdown",
   "metadata": {},
   "source": [
    "Constraint on the distance between LCFS and coil"
   ]
  },
  {
   "cell_type": "code",
   "execution_count": 7,
   "metadata": {},
   "outputs": [],
   "source": [
    "distance = DistanceCost(\n",
    "    Sp=em_cost.Sp,\n",
    "    constraint=Constraint(\n",
    "        limit=em_cost.Sp.get_minor_radius(),\n",
    "        distance=0.03,\n",
    "        minimum=True,\n",
    "        method=\"quadratic\"\n",
    "    ),\n",
    ")\n",
    "costs.append(distance)"
   ]
  },
  {
   "cell_type": "markdown",
   "metadata": {},
   "source": [
    "Add a limit on the current intensity"
   ]
  },
  {
   "cell_type": "code",
   "execution_count": 8,
   "metadata": {},
   "outputs": [],
   "source": [
    "current_ctr = CurrentCtrCost(\n",
    "    constraint=Constraint(\n",
    "        limit=currentit,\n",
    "        distance=0.3*currentit,\n",
    "        minimum=False,\n",
    "        method=\"quadratic\"\n",
    "    )\n",
    ")\n",
    "costs.append(current_ctr)"
   ]
  },
  {
   "cell_type": "markdown",
   "metadata": {},
   "source": [
    "Add a constraint to avoid negative poloidal currents"
   ]
  },
  {
   "cell_type": "code",
   "execution_count": 9,
   "metadata": {},
   "outputs": [],
   "source": [
    "pol_curr_ctr = PoloidalCurrentCost(\n",
    "    Sp=em_cost.Sp, constraint=Constraint(\n",
    "        limit=0, distance=1e6, minimum=True, method=\"quadratic\")\n",
    ")\n",
    "costs.append(pol_curr_ctr)"
   ]
  },
  {
   "cell_type": "markdown",
   "metadata": {},
   "source": [
    "Sum of all these costs"
   ]
  },
  {
   "cell_type": "code",
   "execution_count": 10,
   "metadata": {},
   "outputs": [],
   "source": [
    "agg_cost = AggregateCost(\n",
    "    costs=costs\n",
    ")"
   ]
  },
  {
   "cell_type": "markdown",
   "metadata": {},
   "source": [
    "Definition of the coil factory."
   ]
  },
  {
   "cell_type": "code",
   "execution_count": 11,
   "metadata": {},
   "outputs": [],
   "source": [
    "coil_factory = WrappedCoil.from_plasma(\n",
    "    surf_plasma=em_cost.Sp,\n",
    "    surf_type=\"cylindrical\",\n",
    "    make_joints=make_joints,\n",
    "    rotate_diff_current=rotate_diff_current,\n",
    "    n_harmonics=n_harmonics_phi,  # Number of harmonics in the current fourier expansion\n",
    "    factor=factor,  # The number of points on the grid is n_harmonics * factor\n",
    ")"
   ]
  },
  {
   "cell_type": "markdown",
   "metadata": {},
   "source": [
    "Parameters that will be optimized :"
   ]
  },
  {
   "cell_type": "code",
   "execution_count": 12,
   "metadata": {},
   "outputs": [
    {
     "data": {
      "text/plain": [
       "{'0.fourier_coeffs': Array([[0., 0.]], dtype=float32),\n",
       " '0.axis_angle': 0.0,\n",
       " '0.radius': Array(1.1370535, dtype=float32),\n",
       " '0.distance': 5.5,\n",
       " '1.0.phi_mn': array([0., 0., 0., 0., 0., 0., 0., 0., 0., 0., 0., 0., 0., 0., 0., 0., 0.,\n",
       "        0., 0., 0., 0., 0., 0., 0., 0., 0., 0., 0., 0., 0., 0., 0., 0., 0.,\n",
       "        0., 0., 0., 0., 0., 0., 0., 0., 0., 0., 0., 0., 0., 0., 0., 0., 0.,\n",
       "        0., 0., 0., 0., 0., 0., 0., 0., 0., 0., 0., 0., 0., 0., 0., 0., 0.,\n",
       "        0., 0., 0., 0., 0., 0., 0., 0., 0., 0., 0., 0., 0., 0., 0., 0., 0.,\n",
       "        0., 0., 0., 0., 0., 0., 0., 0., 0., 0., 0., 0., 0., 0., 0., 0., 0.,\n",
       "        0., 0., 0., 0., 0., 0., 0., 0., 0., 0., 0., 0., 0., 0., 0., 0., 0.,\n",
       "        0., 0., 0., 0., 0., 0., 0., 0., 0., 0., 0., 0., 0., 0., 0., 0., 0.,\n",
       "        0., 0., 0., 0., 0., 0., 0., 0., 0., 0., 0., 0., 0., 0., 0., 0., 0.,\n",
       "        0., 0., 0., 0., 0., 0., 0., 0., 0., 0., 0., 0., 0., 0., 0., 0., 0.,\n",
       "        0., 0., 0., 0., 0., 0., 0., 0., 0., 0., 0., 0., 0., 0., 0., 0., 0.,\n",
       "        0., 0., 0., 0., 0., 0., 0., 0., 0., 0., 0., 0., 0., 0., 0., 0., 0.,\n",
       "        0., 0., 0., 0., 0., 0., 0., 0., 0., 0., 0., 0., 0., 0., 0., 0., 0.,\n",
       "        0., 0., 0., 0., 0., 0., 0., 0., 0., 0., 0., 0., 0., 0., 0., 0., 0.,\n",
       "        0., 0., 0., 0., 0., 0., 0., 0., 0., 0., 0., 0., 0., 0., 0., 0., 0.,\n",
       "        0., 0., 0., 0., 0., 0., 0., 0., 0., 0., 0., 0., 0., 0., 0., 0., 0.,\n",
       "        0., 0., 0., 0., 0., 0., 0., 0., 0., 0., 0., 0., 0., 0., 0., 0., 0.,\n",
       "        0., 0., 0., 0., 0., 0., 0., 0., 0., 0., 0., 0., 0., 0., 0., 0., 0.,\n",
       "        0., 0., 0., 0., 0., 0., 0., 0., 0., 0., 0., 0., 0., 0., 0., 0., 0.,\n",
       "        0., 0., 0., 0., 0., 0., 0., 0., 0., 0., 0., 0., 0., 0., 0., 0., 0.,\n",
       "        0., 0., 0., 0., 0., 0., 0., 0., 0., 0., 0., 0., 0., 0., 0., 0., 0.,\n",
       "        0., 0., 0., 0., 0., 0., 0., 0., 0., 0., 0., 0., 0., 0., 0., 0., 0.,\n",
       "        0., 0., 0., 0., 0., 0., 0., 0., 0., 0., 0., 0., 0., 0., 0., 0., 0.,\n",
       "        0., 0., 0., 0., 0., 0., 0., 0., 0., 0., 0., 0., 0., 0., 0., 0., 0.,\n",
       "        0., 0., 0., 0., 0., 0., 0., 0., 0., 0., 0., 0., 0., 0., 0., 0., 0.,\n",
       "        0., 0., 0., 0., 0., 0., 0., 0., 0., 0., 0., 0., 0., 0., 0., 0., 0.,\n",
       "        0., 0., 0., 0., 0., 0., 0., 0., 0., 0., 0., 0., 0., 0., 0., 0., 0.,\n",
       "        0., 0., 0., 0., 0., 0., 0., 0., 0., 0., 0., 0., 0., 0., 0., 0., 0.,\n",
       "        0., 0., 0., 0., 0., 0., 0., 0., 0., 0., 0., 0., 0., 0., 0., 0., 0.,\n",
       "        0., 0., 0., 0., 0., 0., 0., 0., 0., 0., 0., 0., 0., 0., 0., 0., 0.,\n",
       "        0., 0., 0., 0., 0., 0., 0., 0., 0., 0., 0., 0., 0., 0., 0., 0., 0.,\n",
       "        0., 0., 0., 0., 0., 0., 0., 0., 0., 0., 0., 0., 0., 0., 0., 0., 0.,\n",
       "        0., 0., 0., 0., 0., 0., 0., 0., 0., 0., 0., 0., 0., 0., 0., 0., 0.,\n",
       "        0., 0., 0., 0., 0., 0., 0., 0., 0., 0., 0., 0., 0., 0., 0., 0., 0.,\n",
       "        0., 0., 0., 0., 0., 0., 0., 0., 0., 0., 0., 0., 0., 0., 0., 0., 0.])}"
      ]
     },
     "execution_count": 12,
     "metadata": {},
     "output_type": "execute_result"
    }
   ],
   "source": [
    "coil_factory.get_trainable_params()"
   ]
  },
  {
   "cell_type": "markdown",
   "metadata": {},
   "source": [
    "Definition of the optimizer"
   ]
  },
  {
   "cell_type": "code",
   "execution_count": 13,
   "metadata": {},
   "outputs": [],
   "source": [
    "opt = Optimizer.from_cost(\n",
    "    agg_cost,\n",
    "    coil_factory,\n",
    "    method=optim_method,  # Quasi-Newton method very good for non constrained optimization\n",
    "    kwargs=dict(\n",
    "        options={\"disp\": True, \"maxiter\": maxiter},\n",
    "    ),\n",
    "    save_res=True,\n",
    "    output_folder_name=\"../outputs/\"\n",
    ")"
   ]
  },
  {
   "cell_type": "markdown",
   "metadata": {},
   "source": [
    "Parameters before optimization:"
   ]
  },
  {
   "cell_type": "code",
   "execution_count": 14,
   "metadata": {},
   "outputs": [
    {
     "data": {
      "text/plain": [
       "{'0.fourier_coeffs': Array([[0., 0.]], dtype=float32),\n",
       " '0.axis_angle': 0.0,\n",
       " '0.radius': Array(1.1370535, dtype=float32),\n",
       " '0.distance': 5.5,\n",
       " '1.0.phi_mn': array([0., 0., 0., 0., 0., 0., 0., 0., 0., 0., 0., 0., 0., 0., 0., 0., 0.,\n",
       "        0., 0., 0., 0., 0., 0., 0., 0., 0., 0., 0., 0., 0., 0., 0., 0., 0.,\n",
       "        0., 0., 0., 0., 0., 0., 0., 0., 0., 0., 0., 0., 0., 0., 0., 0., 0.,\n",
       "        0., 0., 0., 0., 0., 0., 0., 0., 0., 0., 0., 0., 0., 0., 0., 0., 0.,\n",
       "        0., 0., 0., 0., 0., 0., 0., 0., 0., 0., 0., 0., 0., 0., 0., 0., 0.,\n",
       "        0., 0., 0., 0., 0., 0., 0., 0., 0., 0., 0., 0., 0., 0., 0., 0., 0.,\n",
       "        0., 0., 0., 0., 0., 0., 0., 0., 0., 0., 0., 0., 0., 0., 0., 0., 0.,\n",
       "        0., 0., 0., 0., 0., 0., 0., 0., 0., 0., 0., 0., 0., 0., 0., 0., 0.,\n",
       "        0., 0., 0., 0., 0., 0., 0., 0., 0., 0., 0., 0., 0., 0., 0., 0., 0.,\n",
       "        0., 0., 0., 0., 0., 0., 0., 0., 0., 0., 0., 0., 0., 0., 0., 0., 0.,\n",
       "        0., 0., 0., 0., 0., 0., 0., 0., 0., 0., 0., 0., 0., 0., 0., 0., 0.,\n",
       "        0., 0., 0., 0., 0., 0., 0., 0., 0., 0., 0., 0., 0., 0., 0., 0., 0.,\n",
       "        0., 0., 0., 0., 0., 0., 0., 0., 0., 0., 0., 0., 0., 0., 0., 0., 0.,\n",
       "        0., 0., 0., 0., 0., 0., 0., 0., 0., 0., 0., 0., 0., 0., 0., 0., 0.,\n",
       "        0., 0., 0., 0., 0., 0., 0., 0., 0., 0., 0., 0., 0., 0., 0., 0., 0.,\n",
       "        0., 0., 0., 0., 0., 0., 0., 0., 0., 0., 0., 0., 0., 0., 0., 0., 0.,\n",
       "        0., 0., 0., 0., 0., 0., 0., 0., 0., 0., 0., 0., 0., 0., 0., 0., 0.,\n",
       "        0., 0., 0., 0., 0., 0., 0., 0., 0., 0., 0., 0., 0., 0., 0., 0., 0.,\n",
       "        0., 0., 0., 0., 0., 0., 0., 0., 0., 0., 0., 0., 0., 0., 0., 0., 0.,\n",
       "        0., 0., 0., 0., 0., 0., 0., 0., 0., 0., 0., 0., 0., 0., 0., 0., 0.,\n",
       "        0., 0., 0., 0., 0., 0., 0., 0., 0., 0., 0., 0., 0., 0., 0., 0., 0.,\n",
       "        0., 0., 0., 0., 0., 0., 0., 0., 0., 0., 0., 0., 0., 0., 0., 0., 0.,\n",
       "        0., 0., 0., 0., 0., 0., 0., 0., 0., 0., 0., 0., 0., 0., 0., 0., 0.,\n",
       "        0., 0., 0., 0., 0., 0., 0., 0., 0., 0., 0., 0., 0., 0., 0., 0., 0.,\n",
       "        0., 0., 0., 0., 0., 0., 0., 0., 0., 0., 0., 0., 0., 0., 0., 0., 0.,\n",
       "        0., 0., 0., 0., 0., 0., 0., 0., 0., 0., 0., 0., 0., 0., 0., 0., 0.,\n",
       "        0., 0., 0., 0., 0., 0., 0., 0., 0., 0., 0., 0., 0., 0., 0., 0., 0.,\n",
       "        0., 0., 0., 0., 0., 0., 0., 0., 0., 0., 0., 0., 0., 0., 0., 0., 0.,\n",
       "        0., 0., 0., 0., 0., 0., 0., 0., 0., 0., 0., 0., 0., 0., 0., 0., 0.,\n",
       "        0., 0., 0., 0., 0., 0., 0., 0., 0., 0., 0., 0., 0., 0., 0., 0., 0.,\n",
       "        0., 0., 0., 0., 0., 0., 0., 0., 0., 0., 0., 0., 0., 0., 0., 0., 0.,\n",
       "        0., 0., 0., 0., 0., 0., 0., 0., 0., 0., 0., 0., 0., 0., 0., 0., 0.,\n",
       "        0., 0., 0., 0., 0., 0., 0., 0., 0., 0., 0., 0., 0., 0., 0., 0., 0.,\n",
       "        0., 0., 0., 0., 0., 0., 0., 0., 0., 0., 0., 0., 0., 0., 0., 0., 0.,\n",
       "        0., 0., 0., 0., 0., 0., 0., 0., 0., 0., 0., 0., 0., 0., 0., 0., 0.])}"
      ]
     },
     "execution_count": 14,
     "metadata": {},
     "output_type": "execute_result"
    }
   ],
   "source": [
    "opt.init_param"
   ]
  },
  {
   "cell_type": "markdown",
   "metadata": {},
   "source": [
    "Run the optimization"
   ]
  },
  {
   "cell_type": "code",
   "execution_count": 15,
   "metadata": {},
   "outputs": [
    {
     "name": "stdout",
     "output_type": "stream",
     "text": [
      "max_deltaB_normal: 2.2153429985046387, deltaB_B_L2: 168.43385314941406, deltaB_B_max: 89.27053833007812, cost_B: 41.26416015625, em_cost: 41.26416015625, max_j: 2455346.75, min_distance: 0.037626687437295914, mean_min_distance: 5.2765374183654785, max_distance: 13.349851608276367, mean_max_distance: 9.576884269714355, cost_distance: 205.67318725585938, cost_j_ctr: 0.0, cost_ju_ctr: 4962466.0, max_ju: -15566239.0, min_ju: -15566239.0, total_cost: 4962713.0, \n",
      "RUNNING THE L-BFGS-B CODE\n",
      "\n",
      "           * * *\n",
      "\n",
      "Machine precision = 2.220D-16\n",
      " N =          600     M =           10\n",
      "\n",
      "At X0         0 variables are exactly at the bounds\n",
      "\n",
      "At iterate    0    f=  4.96271D+06    |proj g|=  2.05559D+03\n"
     ]
    },
    {
     "name": "stderr",
     "output_type": "stream",
     "text": [
      " This problem is unconstrained.\n"
     ]
    },
    {
     "name": "stdout",
     "output_type": "stream",
     "text": [
      "max_deltaB_normal: 1561431.5, deltaB_B_L2: 178.66644287109375, deltaB_B_max: 244.0365447998047, cost_B: 2441379.75, em_cost: 2441379.75, max_j: 4914373632.0, min_distance: 0.01715952344238758, mean_min_distance: 5.260852813720703, max_distance: 13.30969524383545, mean_max_distance: 9.537663459777832, cost_distance: 135.40550231933594, cost_j_ctr: 0.0, cost_ju_ctr: 29514174464.0, max_ju: 23322550272.0, min_ju: -18950172672.0, total_cost: 29516615680.0, \n",
      "max_deltaB_normal: 2.2150168418884277, deltaB_B_L2: 140.2462158203125, deltaB_B_max: 111.25418853759766, cost_B: 41.2611198425293, em_cost: 41.2611198425293, max_j: 2456023.5, min_distance: 0.037626687437295914, mean_min_distance: 5.2765374183654785, max_distance: 13.349851608276367, mean_max_distance: 9.576884269714355, cost_distance: 205.67318725585938, cost_j_ctr: 0.0, cost_ju_ctr: 4962464.5, max_ju: -15560950.0, min_ju: -15570530.0, total_cost: 4962711.5, \n",
      "max_deltaB_normal: 2.215188980102539, deltaB_B_L2: 403.8839111328125, deltaB_B_max: 264.8214416503906, cost_B: 41.26271057128906, em_cost: 41.26271057128906, max_j: 2455666.25, min_distance: 0.037626687437295914, mean_min_distance: 5.2765374183654785, max_distance: 13.349851608276367, mean_max_distance: 9.576884269714355, cost_distance: 205.67318725585938, cost_j_ctr: 0.0, cost_ju_ctr: 4962466.0, max_ju: -15563750.0, min_ju: -15568266.0, total_cost: 4962713.0, \n",
      "max_deltaB_normal: 2.2150161266326904, deltaB_B_L2: 140.2462158203125, deltaB_B_max: 111.25418853759766, cost_B: 41.2611198425293, em_cost: 41.2611198425293, max_j: 2456023.5, min_distance: 0.037626687437295914, mean_min_distance: 5.2765374183654785, max_distance: 13.349851608276367, mean_max_distance: 9.576884269714355, cost_distance: 205.67318725585938, cost_j_ctr: 0.0, cost_ju_ctr: 4962464.5, max_ju: -15560950.0, min_ju: -15570530.0, total_cost: 4962711.5, \n",
      "max_deltaB_normal: 2.215129852294922, deltaB_B_L2: 78.93572235107422, deltaB_B_max: 48.21809005737305, cost_B: 41.262168884277344, em_cost: 41.262168884277344, max_j: 2455787.0, min_distance: 0.037626687437295914, mean_min_distance: 5.2765374183654785, max_distance: 13.349851608276367, mean_max_distance: 9.576884269714355, cost_distance: 205.67318725585938, cost_j_ctr: 0.0, cost_ju_ctr: 4962465.0, max_ju: -15562793.0, min_ju: -15569032.0, total_cost: 4962712.0, \n"
     ]
    },
    {
     "name": "stderr",
     "output_type": "stream",
     "text": [
      "WARNING:root:optimization ended, saving file\n"
     ]
    },
    {
     "name": "stdout",
     "output_type": "stream",
     "text": [
      "\n",
      "At iterate    1    f=  4.96271D+06    |proj g|=  4.66426D+03\n",
      "\n",
      "           * * *\n",
      "\n",
      "Tit   = total number of iterations\n",
      "Tnf   = total number of function evaluations\n",
      "Tnint = total number of segments explored during Cauchy searches\n",
      "Skip  = number of BFGS updates skipped\n",
      "Nact  = number of active bounds at final generalized Cauchy point\n",
      "Projg = norm of the final projected gradient\n",
      "F     = final function value\n",
      "\n",
      "           * * *\n",
      "\n",
      "   N    Tit     Tnf  Tnint  Skip  Nact     Projg        F\n",
      "  600      1      6      1     0     0   4.664D+03   4.963D+06\n",
      "  F =   4962712.0000000000     \n",
      "\n",
      "STOP: TOTAL NO. of ITERATIONS REACHED LIMIT                 \n",
      "{'max_deltaB_normal': Array(2.2151299, dtype=float32), 'deltaB_B_L2': Array(78.93572, dtype=float32), 'deltaB_B_max': Array(48.21809, dtype=float32), 'cost_B': Array(41.26217, dtype=float32), 'em_cost': Array(41.26217, dtype=float32), 'max_j': Array(2455787., dtype=float32), 'min_distance': Array(0.03762669, dtype=float32), 'mean_min_distance': Array(5.2765374, dtype=float32), 'max_distance': Array(13.349852, dtype=float32), 'mean_max_distance': Array(9.576884, dtype=float32), 'cost_distance': Array(205.67319, dtype=float32), 'cost_j_ctr': Array(0., dtype=float32), 'cost_ju_ctr': Array(4962465., dtype=float32), 'max_ju': Array(-15562793., dtype=float32), 'min_ju': Array(-15569032., dtype=float32), 'total_cost': Array(4962712., dtype=float32)}\n"
     ]
    }
   ],
   "source": [
    "cost, metrics, results, optimized_params = opt.optimize()\n",
    "print(metrics)"
   ]
  },
  {
   "cell_type": "markdown",
   "metadata": {},
   "source": [
    "Optimized parameters :"
   ]
  },
  {
   "cell_type": "code",
   "execution_count": 16,
   "metadata": {},
   "outputs": [
    {
     "data": {
      "text/plain": [
       "{'0.fourier_coeffs': array([[-5.51600288e-09,  4.15265662e-11]]),\n",
       " '0.axis_angle': array(-9.18613615e-10),\n",
       " '0.radius': array(1.1370535),\n",
       " '0.distance': array(5.5),\n",
       " '1.0.phi_mn': array([-5.89035719e-10,  5.19366094e-09, -8.30174147e-10,  3.37498824e-09,\n",
       "        -5.42441993e-10, -3.20872330e-09, -8.91858687e-10, -1.94573943e-09,\n",
       "        -2.66829536e-09,  6.01648285e-09, -1.11635785e-09,  1.41822534e-08,\n",
       "         1.84192204e-09,  9.23356005e-10,  5.24586880e-09, -1.09814570e-08,\n",
       "        -2.36825148e-10,  1.39965512e-08,  7.63558319e-10, -1.08253306e-08,\n",
       "         7.10114478e-11, -7.48786944e-09, -3.51670443e-10, -7.78315871e-09,\n",
       "        -1.78118115e-09, -1.87821809e-09, -2.67075128e-09,  6.41841621e-09,\n",
       "        -1.03043206e-09,  7.03924440e-09,  1.83842172e-09, -2.35227978e-09,\n",
       "         1.24078026e-09, -1.01692765e-08, -1.47434110e-08, -1.20750215e-09,\n",
       "         1.54784873e-08, -6.30777038e-10,  1.45594730e-08,  1.81648727e-10,\n",
       "         1.41751843e-08,  2.24612367e-09,  5.44078474e-09,  3.61712208e-09,\n",
       "        -6.84890975e-09,  1.33435953e-09, -8.02875998e-09, -2.72484478e-09,\n",
       "         5.38776320e-09, -1.75026856e-09,  1.65236701e-08,  7.79286753e-09,\n",
       "         6.94225805e-10, -5.10558741e-09,  9.89370916e-10, -1.07229262e-08,\n",
       "         4.84880938e-10, -1.20552655e-08, -1.00489867e-09, -6.61048308e-09,\n",
       "        -2.15666150e-09,  2.21517134e-09, -6.66657440e-10,  3.38828570e-09,\n",
       "         2.19551113e-09, -6.32053871e-09,  1.27052183e-09, -1.43646609e-08,\n",
       "         5.20225657e-10, -1.97216877e-10,  2.70958172e-09,  9.13254157e-11,\n",
       "        -2.56461821e-09, -4.90318109e-10, -5.14212862e-10, -9.17877808e-10,\n",
       "         2.65083131e-09, -6.88283127e-10,  3.21646885e-09, -3.93042523e-10,\n",
       "         2.81257991e-09, -3.55363838e-10,  3.18067063e-09, -7.25969606e-11,\n",
       "         3.51013408e-09, -6.28405735e-09, -1.06829835e-10, -4.52341386e-09,\n",
       "        -1.19115036e-09,  9.68696537e-09, -5.95879313e-10,  1.44225946e-08,\n",
       "         1.85643168e-09,  4.70532250e-09,  2.89926179e-09, -5.54541014e-09,\n",
       "         1.00572596e-09, -6.25896694e-09, -1.91262300e-09,  3.19620781e-09,\n",
       "        -1.27918549e-09,  1.08540083e-08,  7.74154013e-09,  2.25623324e-10,\n",
       "         6.07702691e-09,  1.61615594e-09, -1.00458284e-08,  1.42820358e-09,\n",
       "        -1.88578922e-08, -1.44500353e-09, -9.17441799e-09, -3.11076633e-09,\n",
       "         4.35110953e-09, -7.16820479e-10,  5.50509774e-09,  3.39866730e-09,\n",
       "        -8.59710352e-09,  2.05932106e-09, -2.00225912e-08, -5.11981475e-09,\n",
       "        -2.11733653e-10, -4.52736076e-09, -1.19997321e-09,  5.80238800e-09,\n",
       "        -1.31543947e-09,  1.30240412e-08,  5.62194563e-10,  7.06287038e-09,\n",
       "         1.62038998e-09, -1.69691479e-09, -8.72225521e-12, -2.33352975e-09,\n",
       "        -3.00981371e-09,  8.51319860e-09, -1.79297644e-09,  1.73179436e-08,\n",
       "         1.82622910e-10,  9.63177735e-11,  5.09117388e-12,  1.56845785e-10,\n",
       "         3.12886920e-10,  3.28757761e-10, -6.78068049e-10,  2.90328410e-10,\n",
       "        -4.81076567e-10,  4.27958362e-10, -1.07567258e-09,  3.96554324e-10,\n",
       "        -9.55062338e-10,  6.26131852e-10, -1.99888217e-09,  5.07263259e-10,\n",
       "        -3.28353843e-09,  4.35232455e-09,  4.66675462e-11,  4.80675492e-09,\n",
       "         9.47093163e-10, -5.57212024e-09,  9.26480537e-10, -1.18270818e-08,\n",
       "        -8.27883920e-10, -6.55702414e-09, -2.15246101e-09,  3.46531085e-09,\n",
       "        -2.40754122e-10,  3.45739301e-09,  2.49643127e-09, -6.50337355e-09,\n",
       "         1.29632885e-09, -1.36576206e-08, -6.17447904e-09, -1.71033796e-10,\n",
       "        -7.00847521e-09, -1.57421299e-09,  7.74725965e-09, -1.70542228e-09,\n",
       "         1.82762980e-08,  9.55171686e-10,  1.04682291e-08,  2.93700458e-09,\n",
       "        -4.66243047e-09,  3.84688568e-11, -5.04956220e-09, -4.38844264e-09,\n",
       "         1.07269396e-08, -2.65449140e-09,  2.24899468e-08,  4.59901263e-09,\n",
       "         1.91313243e-10,  5.58780734e-09,  1.32658560e-09, -5.56377502e-09,\n",
       "         1.63826789e-09, -1.51488469e-08, -5.58538064e-10, -9.39158595e-09,\n",
       "        -2.38717150e-09,  3.74112404e-09, -1.56922100e-10,  5.08437045e-09,\n",
       "         3.71539157e-09, -7.39086606e-09,  2.71953194e-09, -1.74594657e-08,\n",
       "        -6.80723049e-10, -9.05729033e-11, -1.43374997e-09, -3.42479006e-10,\n",
       "        -2.99829780e-10, -7.16644853e-10,  3.40098850e-09, -3.16464643e-10,\n",
       "         3.85980382e-09,  6.55674752e-10, -5.34304497e-10,  4.27363539e-10,\n",
       "        -2.77087068e-09, -7.42029836e-10, -8.91688070e-10, -1.29980129e-09,\n",
       "         2.08025689e-09, -3.45894058e-09, -7.21609644e-11, -3.46784940e-09,\n",
       "        -8.64716280e-10,  6.44750126e-09, -6.13053134e-10,  1.11633603e-08,\n",
       "         1.21370998e-09,  3.62820685e-09,  1.65804613e-09, -3.70331948e-09,\n",
       "        -4.40874934e-10, -1.81421945e-09, -2.72083177e-09,  8.10791300e-09,\n",
       "        -9.83068431e-10,  1.38887425e-08,  5.59364372e-09,  1.65334731e-10,\n",
       "         6.90938636e-09,  1.58513466e-09, -8.40182063e-09,  1.75695952e-09,\n",
       "        -2.02621137e-08, -1.47241563e-09, -9.61693820e-09, -3.29548264e-09,\n",
       "         6.42983254e-09, -4.07535901e-11,  6.70530884e-09,  4.68351555e-09,\n",
       "        -9.48317633e-09,  3.02374989e-09, -2.11418987e-08, -4.57203876e-09,\n",
       "        -1.37266962e-10, -7.07678219e-09, -1.38557858e-09,  4.18296546e-09,\n",
       "        -2.08431514e-09,  1.79795456e-08,  6.84742486e-10,  1.10933104e-08,\n",
       "         3.20138275e-09, -5.47383539e-09,  7.54953169e-10, -8.77162186e-09,\n",
       "        -4.03733651e-09,  4.67750622e-09, -3.66044582e-09,  1.62981096e-08,\n",
       "         9.42143344e-10,  1.00451768e-11,  3.42514769e-09,  3.19074818e-10,\n",
       "         3.65097673e-09,  1.37333104e-09, -5.06601658e-09,  7.53573624e-10,\n",
       "        -7.13940905e-09, -1.19919800e-09,  6.02570486e-10, -1.16766596e-09,\n",
       "         5.84510373e-09,  1.07938467e-09,  2.65357471e-09,  2.35037545e-09,\n",
       "        -3.09498808e-09,  3.25872983e-09,  8.51736081e-11,  2.75642231e-09,\n",
       "         9.36063313e-10, -9.52081829e-09,  1.16705140e-10, -1.09250845e-08,\n",
       "        -1.88694979e-09, -4.58553847e-10, -1.60668902e-09,  5.52079719e-09,\n",
       "         8.99182121e-10,  1.19550002e-09,  2.51501001e-09, -7.63321124e-09,\n",
       "         3.79747863e-10, -1.08360524e-08,  8.90544333e-10, -1.76759191e-08,\n",
       "         1.67293674e-09, -1.94785742e-08,  6.57594445e-10, -6.92383306e-09,\n",
       "         1.06924906e-09, -4.26794885e-09,  2.03964349e-09, -9.44982618e-09,\n",
       "         1.34573604e-09, -1.31722264e-08, -1.95774724e-09, -6.26814888e-09,\n",
       "        -4.24924707e-09,  6.21446490e-09, -1.23808253e-09, -1.76752080e-10,\n",
       "        -9.24541477e-09, -2.13004305e-09,  1.57974379e-08, -1.42050293e-09,\n",
       "         1.33302934e-08, -7.32184039e-10,  8.91590257e-09, -4.53665631e-10,\n",
       "         6.33882313e-09, -3.95208293e-10,  5.24659801e-09, -2.06587446e-10,\n",
       "         4.21867020e-09, -4.52228302e-11,  3.08177209e-09, -1.27247689e-10,\n",
       "        -3.91284891e-10,  1.82787220e-08,  8.61951764e-10, -2.04610970e-10,\n",
       "         1.27378701e-09, -9.71198967e-09,  9.47110275e-11, -7.58991588e-09,\n",
       "        -1.32489796e-09,  1.04132151e-09, -7.57611425e-10,  6.28517921e-09,\n",
       "         2.31721077e-09,  6.32934502e-10,  4.36670982e-09, -1.04886698e-08,\n",
       "         1.38253260e-09,  5.85767865e-10, -1.73602085e-08,  3.79515143e-11,\n",
       "        -4.37329578e-09, -1.30829523e-10,  3.55065283e-09,  9.85346220e-10,\n",
       "         2.24472718e-09,  2.61267466e-09, -7.97944527e-09,  1.64169142e-09,\n",
       "        -1.45446337e-08, -3.02228679e-09, -5.37669311e-09, -6.18368569e-09,\n",
       "         1.19643502e-08, -1.71080824e-09, -4.06478001e-10,  9.45840378e-09,\n",
       "        -3.67188802e-10,  3.57223039e-09, -4.60441195e-10, -1.03016929e-09,\n",
       "        -1.55526781e-09,  2.08636088e-09, -2.48555851e-09,  9.17977824e-09,\n",
       "        -1.68727793e-09,  1.38318785e-08,  1.89886478e-09,  6.76476709e-09,\n",
       "         4.41143490e-09, -6.82227744e-09,  9.94188181e-10,  4.69858049e-11,\n",
       "         1.16196990e-09,  3.08724390e-10, -4.45854208e-11,  7.02061842e-10,\n",
       "        -2.35593002e-09,  9.03394045e-10, -4.32668757e-09,  6.20489840e-10,\n",
       "        -3.64281148e-09,  6.12475131e-10, -3.97774771e-09,  3.13503320e-10,\n",
       "        -3.65927721e-09, -1.49858911e-10, -2.02833718e-09,  1.08643707e-10,\n",
       "         2.59680317e-10, -9.50141735e-09, -1.55282862e-10, -3.44423044e-09,\n",
       "        -7.95650794e-10,  6.04698026e-09,  1.00398260e-10,  6.57780071e-09,\n",
       "         1.95391403e-09, -3.75236942e-09,  1.12052954e-09, -8.76725059e-09,\n",
       "        -2.25250128e-09, -1.93664780e-09, -4.16319991e-09,  9.66633772e-09,\n",
       "        -9.07687270e-10, -3.55175024e-10,  1.21499550e-08,  8.28447962e-11,\n",
       "         4.99983013e-09,  8.52634847e-10, -7.75659785e-09, -5.72409558e-10,\n",
       "        -7.70525109e-09, -3.32389157e-09,  7.47150622e-09, -2.27183044e-09,\n",
       "         1.60433791e-08,  2.90573990e-09,  6.28497888e-09,  6.13678834e-09,\n",
       "        -1.18592714e-08,  1.14703981e-09,  2.24493069e-10, -8.53634644e-09,\n",
       "        -1.07491300e-10, -3.87741479e-09, -7.23383063e-10,  5.77666320e-09,\n",
       "         3.40797521e-10,  6.09138280e-09,  2.59128207e-09, -5.89148623e-09,\n",
       "         1.95088415e-09, -1.33858698e-08, -2.03695101e-09, -6.63322492e-09,\n",
       "        -4.78119306e-09,  7.47137734e-09, -9.86243713e-10,  2.32676657e-11,\n",
       "         8.59004444e-10,  1.11540172e-10,  8.72773268e-10,  2.76477220e-10,\n",
       "        -3.79050495e-10,  2.62563218e-10, -1.44651204e-09, -2.52207593e-10,\n",
       "         6.60211090e-10, -3.94553620e-10,  2.75721680e-09,  1.15079957e-10,\n",
       "         2.93037488e-09,  8.47753059e-10,  9.51490061e-10,  5.67329398e-10,\n",
       "        -2.20679495e-10,  6.92785709e-09,  1.68313627e-11,  2.48780559e-09,\n",
       "         4.56873885e-10, -5.97736377e-09, -6.31668396e-10, -4.71089677e-09,\n",
       "        -2.23599365e-09,  4.69926308e-09, -1.41235438e-09,  9.62712048e-09,\n",
       "         1.95156712e-09,  2.57627377e-09,  3.63684823e-09, -8.72363937e-09,\n",
       "         1.21041886e-10,  2.72237521e-10, -1.07912652e-08, -2.07493954e-10,\n",
       "        -4.68759267e-09, -1.17988395e-09,  9.69872961e-09,  3.79362305e-10,\n",
       "         9.73476556e-09,  3.38900389e-09, -6.56165184e-09,  2.47090146e-09,\n",
       "        -1.66309994e-08, -2.98303315e-09, -6.84369240e-09, -6.24549452e-09,\n",
       "         1.14797907e-08, -9.02822093e-10, -1.56705062e-10,  8.67743517e-09,\n",
       "         3.19745476e-10,  4.78004982e-09,  1.39912153e-09, -7.98002623e-09,\n",
       "         4.32667864e-10, -1.08294568e-08, -2.53384234e-09,  3.42091265e-09,\n",
       "        -2.30056942e-09,  1.40883505e-08,  2.24685606e-09,  7.46470824e-09,\n",
       "         5.43375605e-09, -7.85451008e-09,  1.39161738e-09, -4.89532552e-11,\n",
       "        -1.71469120e-09, -2.43703090e-10, -2.61353893e-09, -8.18984030e-10,\n",
       "         9.56575271e-10, -1.22832120e-09,  6.54757041e-09,  1.26006040e-10,\n",
       "         2.93951609e-09,  1.03091270e-09, -3.14468609e-09, -1.53080224e-11,\n",
       "        -3.84632106e-09, -1.55215346e-09,  1.95039338e-10, -1.14786836e-09,\n",
       "         2.11759259e-10, -6.27771479e-09, -3.03478590e-11, -1.18736690e-09,\n",
       "        -3.44854040e-10,  7.54357812e-09,  1.32131508e-09,  1.88724695e-09,\n",
       "         2.46263388e-09, -7.98265661e-09,  8.61198177e-10, -1.00555285e-08,\n",
       "        -2.31199509e-09, -2.26981742e-09, -3.26328273e-09,  7.02912557e-09,\n",
       "         1.66965580e-10, -2.57247457e-10,  1.07117543e-08,  2.59063917e-10,\n",
       "         5.09131467e-09,  1.48512261e-09, -1.21589834e-08, -4.78878160e-10,\n",
       "        -1.04632963e-08, -3.67259637e-09,  7.73305135e-09, -2.44962390e-09,\n",
       "         1.76784540e-08,  3.18214642e-09,  7.47358701e-09,  6.26139164e-09,\n",
       "        -1.00760327e-08,  1.02583575e-09,  1.66390540e-10, -8.89157276e-09,\n",
       "        -2.91673753e-10, -7.02378268e-09, -1.84195777e-09,  9.58192729e-09,\n",
       "        -8.59582155e-10,  1.41923409e-08,  2.73833121e-09, -1.64443081e-09,\n",
       "         2.96060718e-09, -1.49025999e-08, -1.95488347e-09, -8.58242844e-09,\n",
       "        -5.68433226e-09,  7.86935478e-09, -1.62081703e-09])}"
      ]
     },
     "execution_count": 16,
     "metadata": {},
     "output_type": "execute_result"
    }
   ],
   "source": [
    "coil_factory.get_trainable_params()"
   ]
  },
  {
   "cell_type": "markdown",
   "metadata": {},
   "source": [
    "/!\\ the parameters of the coil factory were changed in place during the optimization"
   ]
  },
  {
   "cell_type": "code",
   "execution_count": 17,
   "metadata": {},
   "outputs": [],
   "source": [
    "coil_surface = coil_factory().get_coil(results.phi_mn_wnet_cur)"
   ]
  },
  {
   "cell_type": "code",
   "execution_count": 18,
   "metadata": {},
   "outputs": [],
   "source": [
    "if make_joints:\n",
    "    cut_tor = None\n",
    "else:\n",
    "    cut_tor = n_harmonics_phi * factor // rotate_diff_current"
   ]
  },
  {
   "cell_type": "markdown",
   "metadata": {},
   "source": [
    "3D plots"
   ]
  },
  {
   "cell_type": "code",
   "execution_count": 19,
   "metadata": {},
   "outputs": [],
   "source": [
    "coil_surface.plot(\n",
    "    vector_field=coil_surface.j_3d,\n",
    "    reduce_res=1,\n",
    "    quiver_kwargs=dict(\n",
    "        line_width=2,\n",
    "        scale_factor=0.08,\n",
    "    ),\n",
    "    cut_tor=cut_tor,\n",
    ")"
   ]
  },
  {
   "cell_type": "code",
   "execution_count": null,
   "metadata": {},
   "outputs": [],
   "source": [
    "fig = coil_surface.plotly_plot(cut_tor=cut_tor, colormap=\"Reds\")\n",
    "fig_eq = Sp().plotly_plot(colormap=\"Blues\", nfp=5)\n",
    "fig.add_traces(fig_eq.data)\n",
    "fig.show()"
   ]
  },
  {
   "cell_type": "markdown",
   "metadata": {},
   "source": [
    "2D plots"
   ]
  },
  {
   "cell_type": "code",
   "execution_count": null,
   "metadata": {},
   "outputs": [],
   "source": [
    "plot_CWS_LCFS(coil_surface, em_cost.Sp, n_cyl=rotate_diff_current)"
   ]
  },
  {
   "cell_type": "code",
   "execution_count": 22,
   "metadata": {},
   "outputs": [
    {
     "data": {
      "text/plain": [
       "<PolarAxes: >"
      ]
     },
     "execution_count": 22,
     "metadata": {},
     "output_type": "execute_result"
    },
    {
     "data": {
      "image/png": "[encoded data removed]",
      "text/plain": [
       "<Figure size 640x480 with 1 Axes>"
      ]
     },
     "metadata": {},
     "output_type": "display_data"
    }
   ],
   "source": [
    "plot_cross_sections(coil_factory, Sp)"
   ]
  }
 ],
 "metadata": {
  "kernelspec": {
   "display_name": "stellacode",
   "language": "python",
   "name": "python3"
  },
  "language_info": {
   "codemirror_mode": {
    "name": "ipython",
    "version": 3
   },
   "file_extension": ".py",
   "mimetype": "text/x-python",
   "name": "python",
   "nbconvert_exporter": "python",
   "pygments_lexer": "ipython3",
   "version": "3.11.9"
  },
  "orig_nbformat": 4
 },
 "nbformat": 4,
 "nbformat_minor": 2
}
