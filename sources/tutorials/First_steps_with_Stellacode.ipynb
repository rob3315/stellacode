{
 "cells": [
  {
   "cell_type": "markdown",
   "id": "9399858c",
   "metadata": {},
   "source": [
    "# First steps with Stellacode\n",
    "\n",
    "We need some basic import and we will set the current repository to be at the root of the Stellacode folder"
   ]
  },
  {
   "cell_type": "code",
   "execution_count": 1,
   "id": "465e308e",
   "metadata": {},
   "outputs": [
    {
     "name": "stdout",
     "output_type": "stream",
     "text": [
      "current directory is /home/rrobin/Documents/Stellacage_code\n"
     ]
    }
   ],
   "source": [
    "# Basic import\n",
    "import os,sys\n",
    "import numpy as np\n",
    "# We go up once to exit the example folder\n",
    "if os.getcwd().split('/')[-1]=='examples':\n",
    "    os.chdir('../')\n",
    "print('current directory is {}'.format(os.getcwd()))\n",
    "import numpy as np\n",
    "# Full_shape_gradient is the main class to compute cost and shape gradient\n",
    "from src.costs.full_shape_gradient import Full_shape_gradient\n",
    "# We set the logging level to INFO to have a verbose program\n",
    "import logging\n",
    "logging.basicConfig(level=logging.INFO)"
   ]
  },
  {
   "cell_type": "markdown",
   "id": "b3543b94",
   "metadata": {},
   "source": [
    "## Choose a config file\n",
    "\n",
    "Nearly all of the functionalities in Stellacode need a general config file containing most of the simulation parameters.\n",
    "We will use a default one located in *stellacode/config_file/config.ini*"
   ]
  },
  {
   "cell_type": "code",
   "execution_count": 2,
   "id": "eec34089",
   "metadata": {
    "scrolled": true,
    "tags": []
   },
   "outputs": [
    {
     "name": "stdout",
     "output_type": "stream",
     "text": [
      "[geometry]\n",
      "np = 3\n",
      "ntheta_plasma = 64\n",
      "ntheta_coil = 64\n",
      "nzeta_plasma = 64\n",
      "nzeta_coil = 64\n",
      "mpol_coil = 8\n",
      "ntor_coil = 8\n",
      "path_plasma = data/li383/plasma_surf.txt\n",
      "path_cws = data/li383/cws.txt\n",
      "\n",
      "[other]\n",
      "path_bnorm = data/li383/bnorm.txt\n",
      "net_poloidal_current_amperes = 11884578.094260072\n",
      "net_toroidal_current_amperes = 0.\n",
      "curpol = 4.9782004309255496\n",
      "path_output = output_test2\n",
      "lamb = 1.2e-14\n",
      "dask = True\n",
      "cupy = False\n",
      "\n",
      "\n",
      "[dask_parameters]\n",
      "chunk_theta_coil=32\n",
      "chunk_zeta_coil=32\n",
      "chunk_theta_plasma=32\n",
      "chunk_zeta_plasma=32\n",
      "chunk_theta=17\n",
      "\n",
      "[optimization_parameters]\n",
      "freq_save=100\n",
      "max_iter=2000\n",
      "d_min=True\n",
      "d_min_hard = 0.18\n",
      "d_min_soft= 0.19\n",
      "d_min_penalization=1000\n",
      "perim=True\n",
      "perim_c0=56\n",
      "perim_c1=60\n",
      "curvature=True\n",
      "curvature_c0=13\n",
      "curvature_c1=15\n"
     ]
    }
   ],
   "source": [
    "path_config_file='config_file/config.ini'\n",
    "# We print the config file\n",
    "with open(path_config_file,'r') as f:\n",
    "    print(f.read())"
   ]
  },
  {
   "cell_type": "markdown",
   "id": "ab876cd2",
   "metadata": {
    "tags": []
   },
   "source": [
    "**If you do not have much memory on your computer consider using a config file with a smaller resolution.**\n",
    "\n",
    "for e.g.\n",
    "\n",
    "```path_config_file='config_file/config_small.ini'```"
   ]
  },
  {
   "cell_type": "markdown",
   "id": "0f78b691",
   "metadata": {},
   "source": [
    "## The Full_shape_gradient object\n",
    "\n",
    "All costs and gradient of a surface are handle by an object Full_shape_gradient. We can initialize one by giving him the path to the config file."
   ]
  },
  {
   "cell_type": "code",
   "execution_count": 3,
   "id": "eead3ffa",
   "metadata": {},
   "outputs": [],
   "source": [
    "full_grad=Full_shape_gradient(path_config_file=path_config_file)"
   ]
  },
  {
   "cell_type": "markdown",
   "id": "ea5cf8d7",
   "metadata": {},
   "source": [
    "Our object full_grad has two very useful functions : cost and shape_grad. Both need a 1D array parametrizing the CWS to work.\n",
    "\n",
    "By default, full_grad store the surface parameters of the CWS given by the config file as full_grad.init_param"
   ]
  },
  {
   "cell_type": "code",
   "execution_count": 4,
   "id": "65f82b9e",
   "metadata": {
    "scrolled": true
   },
   "outputs": [
    {
     "name": "stderr",
     "output_type": "stream",
     "text": [
      "INFO:root:Chi_B : 1.366275e-01, Chi_j : 1.000214e+14, EM cost : 1.336885e+00\n",
      "INFO:root:sup j 3.943591e+06, sup B_err : 2.674856e-01\n",
      "INFO:root:min_distance 1.919394e-01 m, Distance cost : 0.000000e+00\n",
      "INFO:root:perimeter :5.567741e+01 m^2, perimeter cost : 0.000000e+00\n",
      "INFO:root:maximal curvature 1.185919e+01 m^-1, curvature cost : 0.000000e+00\n",
      "INFO:root:Total cost : 1.336885e+00\n"
     ]
    },
    {
     "name": "stdout",
     "output_type": "stream",
     "text": [
      "the cost of this my CWS is 1.34e+00\n",
      "CPU times: user 16.1 s, sys: 9.56 s, total: 25.7 s\n",
      "Wall time: 4.33 s\n"
     ]
    }
   ],
   "source": [
    "%%time\n",
    "S_parametrization=full_grad.init_param\n",
    "# We can compute the cost of this surface\n",
    "first_cost=full_grad.cost(S_parametrization)\n",
    "print('the cost of this my CWS is {:.2e}'.format(first_cost))"
   ]
  },
  {
   "cell_type": "markdown",
   "id": "31f9dc43",
   "metadata": {},
   "source": [
    "Note that all the 'constraints costs' (distance, perimeter, curvature) are zeros because the soft penalization bounds have not been reached.\n",
    "\n",
    "Thus in particular, this cost should be the same as the one obtained by [Regcoil](https://github.com/landreman/regcoil).\n",
    "\n",
    "## The shape gradient\n",
    "**Next step is memory expensive (around 10GB is needed) if you have not taken the smaller resolution.**\n"
   ]
  },
  {
   "cell_type": "code",
   "execution_count": 5,
   "id": "59d6f8bb",
   "metadata": {},
   "outputs": [
    {
     "name": "stdout",
     "output_type": "stream",
     "text": [
      "CPU times: user 2min 47s, sys: 28.2 s, total: 3min 16s\n",
      "Wall time: 22.4 s\n"
     ]
    }
   ],
   "source": [
    "%%time\n",
    "shape_grad=full_grad.shape_gradient(S_parametrization)"
   ]
  },
  {
   "cell_type": "markdown",
   "id": "cc62c69c",
   "metadata": {},
   "source": [
    "Let us now perform a numerical gradient to check that our derivation is correct"
   ]
  },
  {
   "cell_type": "code",
   "execution_count": 6,
   "id": "c8d0b14c",
   "metadata": {},
   "outputs": [
    {
     "name": "stderr",
     "output_type": "stream",
     "text": [
      "INFO:root:Chi_B : 1.366275e-01, Chi_j : 1.000214e+14, EM cost : 1.336885e+00\n",
      "INFO:root:sup j 3.943601e+06, sup B_err : 2.674854e-01\n",
      "INFO:root:min_distance 1.919398e-01 m, Distance cost : 0.000000e+00\n",
      "INFO:root:perimeter :5.567741e+01 m^2, perimeter cost : 0.000000e+00\n",
      "INFO:root:maximal curvature 1.185931e+01 m^-1, curvature cost : 0.000000e+00\n",
      "INFO:root:Total cost : 1.336885e+00\n"
     ]
    },
    {
     "name": "stdout",
     "output_type": "stream",
     "text": [
      "the finite difference obtained is : -0.5376960388048246\n",
      " the analytic gradient gives -0.5379303048997812\n"
     ]
    }
   ],
   "source": [
    "ls=len(S_parametrization) # number of degrees of freedom of the set space\n",
    "dS_parametrization=2*np.random.random(ls)-np.ones(ls) # a perturbation direction\n",
    "eps=1e-7\n",
    "new_cost=full_grad.cost(S_parametrization+eps*dS_parametrization)\n",
    "finite_difference_evaluation=(new_cost-first_cost)/eps\n",
    "analytic_gradient=np.dot(shape_grad,dS_parametrization)\n",
    "print('the finite difference obtained is : {}\\n the analytic gradient gives {}'.format(finite_difference_evaluation,analytic_gradient))"
   ]
  },
  {
   "cell_type": "markdown",
   "id": "9874bbae",
   "metadata": {},
   "source": [
    "## Plotting surfaces\n",
    "We use [Mayavi](https://docs.enthought.com/mayavi/mayavi/) for the plotting.\n",
    "\n",
    "To plot a sequence of surface, just use the plot function from src.surface.surface_Fourier"
   ]
  },
  {
   "cell_type": "code",
   "execution_count": 7,
   "id": "cbd2d53a",
   "metadata": {},
   "outputs": [],
   "source": [
    "from src.surface.surface_Fourier import Surface_Fourier,plot,plot_function_on_surface\n",
    "# We generate the surface from the 1D array S_parametrization\n",
    "CWS=full_grad.get_surface(S_parametrization)# The coil winding surface\n",
    "plasma_surface=full_grad.EM.Sp # The plasma surface has been saved by full_grad"
   ]
  },
  {
   "cell_type": "code",
   "execution_count": 8,
   "id": "9c16eaa0",
   "metadata": {},
   "outputs": [],
   "source": [
    "plot([CWS,plasma_surface])"
   ]
  },
  {
   "cell_type": "markdown",
   "id": "eae738fa",
   "metadata": {},
   "source": [
    "You should see a figure looking like that. You can change the color of the surfaces and the background in the interactive mayavi setup.\n",
    "\n",
    "\n",
    "![mayavi_plot1](../figures/fig1_tuto.png)"
   ]
  }
 ],
 "metadata": {
  "kernelspec": {
   "display_name": "Python 3",
   "language": "python",
   "name": "python3"
  },
  "language_info": {
   "codemirror_mode": {
    "name": "ipython",
    "version": 3
   },
   "file_extension": ".py",
   "mimetype": "text/x-python",
   "name": "python",
   "nbconvert_exporter": "python",
   "pygments_lexer": "ipython3",
   "version": "3.6.10"
  }
 },
 "nbformat": 4,
 "nbformat_minor": 5
}
