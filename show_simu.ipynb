{
 "cells": [
  {
   "cell_type": "code",
   "execution_count": 1,
   "metadata": {},
   "outputs": [],
   "source": [
    "import numpy as np\n",
    "\n",
    "from src.graphic_interface.simu_result import load_all_simulation\n",
    "from src.surface.surface_Fourier import Surface_Fourier,plot,plot_function_on_surface\n",
    "import src.surface.surface_Fourier,src.tools\n"
   ]
  },
  {
   "cell_type": "code",
   "execution_count": 2,
   "metadata": {},
   "outputs": [
    {
     "name": "stdout",
     "output_type": "stream",
     "text": [
      "without_curv_lambda_small\n",
      "with_curv_lambda_small\n",
      "with_curv\n",
      "output_test\n"
     ]
    }
   ],
   "source": [
    "column_labels=[\"Name\",\"lambda\",\"Penalization\",\"cost B\",\"max B\",\"cost j\",\"max j\",\"EM cost\",\"Distance\",\"perimeter\",\"Max curv\",\"nit\"]\n",
    "path='tmp/'\n",
    "lst_simu=load_all_simulation(path)\n",
    "values_lambda = set(map(lambda x:x.lamb, lst_simu))\n",
    "newlist_simu = [[y for y in lst_simu if y.lamb==x] for x in values_lambda]"
   ]
  },
  {
   "cell_type": "code",
   "execution_count": 3,
   "metadata": {},
   "outputs": [],
   "source": [
    "data=[]\n",
    "lst_surf=[]\n",
    "for i in range(len(values_lambda)):\n",
    "    #we add the ref\n",
    "    partial_lst=newlist_simu[i]\n",
    "    elt=partial_lst[0]\n",
    "    data_dic=elt.get_data_dic_ref()\n",
    "    data.append([data_dic[col_name] for col_name in column_labels])#get the item corresponding to the column label\n",
    "    lst_surf.append(elt.S_ref)\n",
    "    for elt in partial_lst:\n",
    "        data_dic=elt.get_data_dic()\n",
    "        data.append([data_dic[col_name] for col_name in column_labels])#get the item corresponding to the column label\n",
    "        lst_surf.append(elt.S)\n",
    "for i,row in enumerate(data):\n",
    "    row.append(str(i))"
   ]
  },
  {
   "cell_type": "code",
   "execution_count": 4,
   "metadata": {},
   "outputs": [],
   "source": [
    "# exchange curvature and reach\n",
    "for elt in data:\n",
    "   elt[10]='{:.2e}'.format(1/float(elt[10]))"
   ]
  },
  {
   "cell_type": "code",
   "execution_count": 5,
   "metadata": {},
   "outputs": [
    {
     "name": "stdout",
     "output_type": "stream",
     "text": [
      "\\begin{array}{SSSSSSSSSSSSS} \n",
      "Name&\\lambda&Penalization&\\chi_B^2&|B_{err}|_\\infty&\\chi_j^2&|j|_\\infty&EM cost&\\text{Distance } (m)&\\text{Perimeter }(m^2)&\\text{Reach }(m)&\\text{number of iteration}& number\\\\ \n",
      "ref&2.5e-16&None&4.80e-03&5.15e-02&1.43e+14&7.42e+06&4.06e-02&1.92e-01&5.57e+01&8.40e-02&&0\\\\ \n",
      "tmp/with_curv&2.5e-16&DPC&1.228e-03&3.199e-02&9.481e+13&5.986e+06&2.493e-02&1.99453e-01&5.600e+01&7.69e-02&775&1\\\\ \n",
      "tmp/output_test&2.5e-16&DP&1.050e-03&3.404e-02&7.361e+13&4.776e+06&1.945e-02&1.99871e-01&5.600e+01&4.33e-06&2000&2\\\\ \n",
      "ref&5.1e-19&None&1.44e-04&1.51e-02&4.91e+14&2.17e+07&3.94e-04&1.92e-01&5.57e+01&8.40e-02&&3\\\\ \n",
      "tmp/without_curv_lambda_small&5.1e-19&DP&7.159e-06&4.041e-03&1.213e+14&1.305e+07&6.901e-05&1.99987e-01&5.600e+01&8.36e-05&2000&4\\\\ \n",
      "tmp/with_curv_lambda_small&5.1e-19&DPC&9.048e-06&4.360e-03&1.261e+14&1.482e+07&7.337e-05&1.99983e-01&4.170e+01&7.69e-02&2000&5\\\\ \n",
      "\\end{array}\n"
     ]
    }
   ],
   "source": [
    "#column_labels_latex=[\"Name\",\"\\lambda\",\"Penalization\",\"\\chi_B^2\",\"|B_{err}|_\\infty\",\"\\chi_j^2\",\"|j|_\\infty\",\"EM cost\",\"\\\\text{Distance } (m)\",\"\\\\text{Perimeter }(m^2)\",\"\\\\text{Maximal curvature }(m^{-1})\",\"\\\\text{number of iteration}\",\" number\"]\n",
    "column_labels_latex=[\"Name\",\"\\lambda\",\"Penalization\",\"\\chi_B^2\",\"|B_{err}|_\\infty\",\"\\chi_j^2\",\"|j|_\\infty\",\"EM cost\",\"\\\\text{Distance } (m)\",\"\\\\text{Perimeter }(m^2)\",\"\\\\text{Reach }(m)\",\"\\\\text{number of iteration}\",\" number\"]\n",
    "tex=\"\\\\begin{array}{\"+'S'*len(column_labels_latex)+'} \\n'\n",
    "tex+= '&'.join(column_labels_latex)+'\\\\\\\\ \\n'\n",
    "for row in data:\n",
    "    tex+= '&'.join(row)+'\\\\\\\\ \\n'\n",
    "tex+=\"\\\\end{array}\"\n",
    "print(tex)\n"
   ]
  },
  {
   "cell_type": "code",
   "execution_count": 6,
   "metadata": {},
   "outputs": [
    {
     "data": {
      "text/latex": [
       "$\\displaystyle \\begin{array}{SSSSSSSSSSSSS} \n",
       "Name&\\lambda&Penalization&\\chi_B^2&|B_{err}|_\\infty&\\chi_j^2&|j|_\\infty&EM cost&\\text{Distance } (m)&\\text{Perimeter }(m^2)&\\text{Reach }(m)&\\text{number of iteration}& number\\\\ \n",
       "ref&2.5e-16&None&4.80e-03&5.15e-02&1.43e+14&7.42e+06&4.06e-02&1.92e-01&5.57e+01&8.40e-02&&0\\\\ \n",
       "tmp/with_curv&2.5e-16&DPC&1.228e-03&3.199e-02&9.481e+13&5.986e+06&2.493e-02&1.99453e-01&5.600e+01&7.69e-02&775&1\\\\ \n",
       "tmp/output_test&2.5e-16&DP&1.050e-03&3.404e-02&7.361e+13&4.776e+06&1.945e-02&1.99871e-01&5.600e+01&4.33e-06&2000&2\\\\ \n",
       "ref&5.1e-19&None&1.44e-04&1.51e-02&4.91e+14&2.17e+07&3.94e-04&1.92e-01&5.57e+01&8.40e-02&&3\\\\ \n",
       "tmp/without_curv_lambda_small&5.1e-19&DP&7.159e-06&4.041e-03&1.213e+14&1.305e+07&6.901e-05&1.99987e-01&5.600e+01&8.36e-05&2000&4\\\\ \n",
       "tmp/with_curv_lambda_small&5.1e-19&DPC&9.048e-06&4.360e-03&1.261e+14&1.482e+07&7.337e-05&1.99983e-01&4.170e+01&7.69e-02&2000&5\\\\ \n",
       "\\end{array}$"
      ],
      "text/plain": [
       "<IPython.core.display.Math object>"
      ]
     },
     "metadata": {},
     "output_type": "display_data"
    }
   ],
   "source": [
    "from IPython.display import display, Math, Latex\n",
    "display(Math(tex))"
   ]
  },
  {
   "cell_type": "code",
   "execution_count": 7,
   "metadata": {},
   "outputs": [],
   "source": [
    "Sp_parametrization=Surface_Fourier.load_file('data/li383/plasma_surf.txt')\n",
    "Sp=Surface_Fourier(Sp_parametrization,(64,64),3)"
   ]
  },
  {
   "cell_type": "code",
   "execution_count": 8,
   "metadata": {},
   "outputs": [],
   "source": [
    "def plot_full_torus(lst_surf):\n",
    "    from mayavi import mlab\n",
    "    for surf in lst_surf:\n",
    "        X,Y,Z=src.surface.surface_Fourier.expand_for_plot(surf)\n",
    "        rot_tensor=src.tools.get_rot_tensor(3)\n",
    "        pos=np.array([X,Y,Z])\n",
    "        lpos1,lpos2,lpos3=np.einsum('sab,bij->saij',rot_tensor,pos)\n",
    "        lpos_t=np.concatenate((lpos1,lpos2,lpos3),axis=2)\n",
    "        lpos=np.empty(lpos_t.shape+np.array([0,0,1]))\n",
    "        lpos[:,:,:-1]=lpos_t\n",
    "        lpos[:,:,-1]=lpos_t[:,:,0]\n",
    "        mlab.mesh(lpos[0],lpos[1],lpos[2],representation='surface',colormap='Wistia')"
   ]
  },
  {
   "cell_type": "code",
   "execution_count": 14,
   "metadata": {},
   "outputs": [],
   "source": [
    "from mayavi import mlab\n",
    "To_plot=[lst_surf[1],Sp]\n",
    "plot_full_torus(To_plot)\n",
    "plot([lst_surf[1]])"
   ]
  },
  {
   "cell_type": "code",
   "execution_count": 10,
   "metadata": {},
   "outputs": [],
   "source": [
    "simu=lst_simu[1]\n",
    "EM_cost,EM_dic=simu.EM.cost(simu.S)"
   ]
  },
  {
   "cell_type": "code",
   "execution_count": 11,
   "metadata": {},
   "outputs": [
    {
     "data": {
      "text/plain": [
       "(64, 64, 3)"
      ]
     },
     "execution_count": 11,
     "metadata": {},
     "output_type": "execute_result"
    }
   ],
   "source": [
    "j_3D=EM_dic['j_3D'].compute()\n",
    "j_3D.shape"
   ]
  },
  {
   "cell_type": "code",
   "execution_count": 12,
   "metadata": {},
   "outputs": [
    {
     "ename": "NameError",
     "evalue": "name 'fc2' is not defined",
     "output_type": "error",
     "traceback": [
      "\u001b[0;31m---------------------------------------------------------------------------\u001b[0m",
      "\u001b[0;31mNameError\u001b[0m                                 Traceback (most recent call last)",
      "\u001b[0;32m<ipython-input-12-9f6891290ff8>\u001b[0m in \u001b[0;36m<module>\u001b[0;34m\u001b[0m\n\u001b[0;32m----> 1\u001b[0;31m \u001b[0mfc2\u001b[0m\u001b[0;34m.\u001b[0m\u001b[0mshape\u001b[0m\u001b[0;34m\u001b[0m\u001b[0;34m\u001b[0m\u001b[0m\n\u001b[0m",
      "\u001b[0;31mNameError\u001b[0m: name 'fc2' is not defined"
     ]
    }
   ],
   "source": [
    "fc2.shape"
   ]
  },
  {
   "cell_type": "code",
   "execution_count": null,
   "metadata": {},
   "outputs": [],
   "source": [
    "from src.surface.surface_Fourier import expand_for_plot\n",
    "from mayavi import mlab\n",
    "X,Y,Z=simu.S.X,simu.S.Y,simu.S.Z\n",
    "qv=mlab.quiver3d(X[:,:], Y[:,:], Z[:,:], j_3D[:,:,0], j_3D[:,:,1], j_3D[:,:,2])\n",
    "X2,Y2,Z2=expand_for_plot(simu.S)\n",
    "norm=np.linalg.norm(j_3D,axis=2)\n",
    "fc2=np.concatenate((norm,norm[0:1,:]),axis=0)\n",
    "s = mlab.mesh(X2,Y2,Z2,representation='surface',scalars=fc2)\n",
    "mlab.colorbar(s,nb_labels=4,label_fmt='%.1E',orientation='vertical')\n",
    "#mlab.colorbar(s,nb_labels=4,label_fmt='%.1E',orientation='vertical')\n",
    "mlab.show()"
   ]
  },
  {
   "cell_type": "code",
   "execution_count": null,
   "metadata": {},
   "outputs": [],
   "source": [
    "S=lst_surf[1]\n",
    "plot_function_on_surface(S,np.maximum(np.abs(S.principles[0]),np.abs(S.principles[1])))"
   ]
  },
  {
   "cell_type": "code",
   "execution_count": null,
   "metadata": {},
   "outputs": [],
   "source": [
    "newlist_simu[0]+[newlist_simu[1][1],newlist_simu[1][0]]"
   ]
  },
  {
   "cell_type": "code",
   "execution_count": null,
   "metadata": {
    "tags": []
   },
   "outputs": [],
   "source": [
    "import tqdm\n",
    "all_simu=newlist_simu[0]+[newlist_simu[1][1],newlist_simu[1][0]]\n",
    "all_lst_dic=[]\n",
    "lst_t=[]\n",
    "for simu in all_simu:\n",
    "    lst_dic=[]\n",
    "    npts=20\n",
    "    ntot_simu=len(simu.result.allvecs)\n",
    "    t = [int(i*((ntot_simu-1)//npts)) for i in range(npts)]\n",
    "    t.append(ntot_simu-1)\n",
    "    #t+=range(1,(ntot_simu-1)//npts,2)\n",
    "    t=np.sort(t)\n",
    "    lst_t.append(t)\n",
    "    for i in tqdm.tqdm(range(len(t))):\n",
    "        elt=simu.result.allvecs[t[i]]\n",
    "        lst_dic.append(simu.get_data_dic(elt))\n",
    "    all_lst_dic.append(lst_dic)\n",
    "    print(lst_dic[0]['Name'])"
   ]
  },
  {
   "cell_type": "code",
   "execution_count": null,
   "metadata": {},
   "outputs": [],
   "source": [
    "import matplotlib.pyplot as plt\n",
    "plt.rcParams['figure.figsize'] = [15, 17]\n",
    "plt.rcParams['figure.dpi'] = 100 # 200 e.g. is really fine, but slower\n",
    "\n",
    "#print(plt.subplots(4,3))\n",
    "\n",
    "fig, axs = plt.subplots(4,3)\n",
    "\n",
    "for i,lst_dic in enumerate(all_lst_dic):\n",
    "    ax1,ax3,ax5=axs[i]\n",
    "    costsB=[float(dic['cost B']) for dic in lst_dic]\n",
    "    costsJ=[float(dic['cost j']) for dic in lst_dic]\n",
    "\n",
    "    lst_constaint_string=['Distance','perimeter','Max curv']\n",
    "    lst_constaint=[[float(lst_dic[i][constaint]) for i in range(len(t))]for constaint in lst_constaint_string]\n",
    "    # Create some mock data\n",
    "\n",
    "    color_left = 'blue'\n",
    "    style_left='b--'\n",
    "    color_right = 'red'\n",
    "    style_right='r-.'\n",
    "\n",
    "    ax1.set_title('Main costs')\n",
    "    ax1.set_xlabel('number of iterations')\n",
    "    ax1.set_ylabel('$\\chi_B^2 (T^2 m^2)$', color=color_left)\n",
    "    #ax1.plot(t, costsB, style_left)\n",
    "    ax1.scatter(lst_t[i], costsB,c=color_left,marker='^')\n",
    "    ax1.tick_params(axis='y', labelcolor=color_left)\n",
    "    ax1.ticklabel_format(axis=\"y\", style=\"sci\", scilimits=(0,0))\n",
    "\n",
    "    ax2 = ax1.twinx()  # instantiate a second axes that shares the same x-axis\n",
    "\n",
    "    ax2.set_ylabel('$\\chi_j^2 (A^2)$', color=color_right)  # we already handled the x-label with ax1\n",
    "    #ax2.plot(t, costsJ,style_right)\n",
    "    ax2.scatter(lst_t[i], costsJ,c=color_right,marker='*')\n",
    "    ax2.tick_params(axis='y', labelcolor=color_right)\n",
    "    ax2.ticklabel_format(axis=\"y\", style=\"sci\", scilimits=(0,0))\n",
    "\n",
    "\n",
    "    #Distance\n",
    "    ax3.set_title('Distance and perimeter constraints')\n",
    "    ax3.set_xlabel('number of iterations')\n",
    "    ax3.set_ylabel('Distance($m$)', color=color_left)\n",
    "    #ax3.plot(t, lst_constaint[0],style_left)\n",
    "    ax3.scatter(lst_t[i], lst_constaint[0],c=color_left,marker='^')\n",
    "    ax3.tick_params(axis='y', labelcolor=color_left)\n",
    "    #ax3.ticklabel_format(axis=\"y\", style=\"sci\", scilimits=(0,0))\n",
    "\n",
    "    ax4 = ax3.twinx()  # instantiate a second axes that shares the same x-axis\n",
    "    ax4.set_ylabel('perimeter ($m^2$)', color=color_right)  # we already handled the x-label with ax1\n",
    "    #ax4.plot(t, lst_constaint[1], style_right)\n",
    "    ax4.scatter(lst_t[i], lst_constaint[1],c=color_right,marker='*')\n",
    "    ax4.tick_params(axis='y', labelcolor=color_right)\n",
    "    #ax4.ticklabel_format(axis=\"y\", style=\"sci\", scilimits=(0,0))\n",
    "\n",
    "\n",
    "    #perimeter  \n",
    "    #ax4.set_title('perimeter constraint')\n",
    "\n",
    "    #ax4.set_xlabel('number of iterations')\n",
    "    #ax4.legend()\n",
    "    #ax4.ticklabel_format(axis=\"y\", style=\"sci\", scilimits=(0,0))\n",
    "\n",
    "    #curvature \n",
    "    ax5.set_title('Curvature constraint')\n",
    "    #ax5.plot(t,lst_constaint[2],style_left)\n",
    "    ax5.scatter(lst_t[i],lst_constaint[2],c=color_left)\n",
    "    ax5.set_yscale('log')\n",
    "    ax5.set_ylabel('maximal curvature ($m^-1$)')\n",
    "    ax5.set_xlabel('number of iterations')\n",
    "    ax5.tick_params(axis='y')\n",
    "    #ax5.ticklabel_format(axis=\"y\", style=\"sci\", scilimits=(0,0))\n",
    "\n",
    "fig.tight_layout()  # otherwise the right y-label is slightly clipped\n",
    "fig.savefig('multi_plot.png')"
   ]
  }
 ],
 "metadata": {
  "kernelspec": {
   "display_name": "Python 3",
   "language": "python",
   "name": "python3"
  },
  "language_info": {
   "codemirror_mode": {
    "name": "ipython",
    "version": 3
   },
   "file_extension": ".py",
   "mimetype": "text/x-python",
   "name": "python",
   "nbconvert_exporter": "python",
   "pygments_lexer": "ipython3",
   "version": "3.6.10"
  }
 },
 "nbformat": 4,
 "nbformat_minor": 4
}
