{
 "cells": [
  {
   "cell_type": "markdown",
   "metadata": {},
   "source": [
    "# Plasma shape optimization"
   ]
  },
  {
   "cell_type": "markdown",
   "metadata": {},
   "source": [
    "The first step is to build the cost for the optimization problem:"
   ]
  },
  {
   "cell_type": "code",
   "execution_count": 1,
   "metadata": {},
   "outputs": [
    {
     "name": "stdout",
     "output_type": "stream",
     "text": [
      "Notebook initialized with ipy backend.\n"
     ]
    },
    {
     "name": "stderr",
     "output_type": "stream",
     "text": [
      "WARNING: All log messages before absl::InitializeLog() is called are written to STDERR\n",
      "I0000 00:00:1696860273.260017   18057 tfrt_cpu_pjrt_client.cc:349] TfrtCpuClient created.\n",
      "No GPU/TPU found, falling back to CPU. (Set TF_CPP_MIN_LOG_LEVEL=0 and rerun for more info.)\n"
     ]
    }
   ],
   "source": [
    "from mayavi import mlab\n",
    "\n",
    "mlab.init_notebook()\n",
    "\n",
    "from stellacode.definitions import w7x_plasma\n",
    "from stellacode.costs import EMCost\n",
    "from stellacode.surface import IntegrationParams\n",
    "from stellacode.costs import (\n",
    "    AggregateCost,\n",
    "    DistanceCost,\n",
    "    NegTorCurvatureCost,\n",
    "    CurrentCtrCost,\n",
    ")\n",
    "from stellacode.costs.utils import Constraint\n",
    "\n",
    "# Cost for matching the\n",
    "em_cost = EMCost.from_plasma_config(\n",
    "    plasma_config=w7x_plasma, integration_par=IntegrationParams(num_points_u=16, num_points_v=16), train_currents=False\n",
    ")\n",
    "\n",
    "# constraint on a minimum of the plasma coil distance\n",
    "distance = DistanceCost(\n",
    "    Sp=em_cost.Sp,\n",
    "    constraint=Constraint(limit=0.4, distance=0.03, minimum=True, method=\"quadratic\"),\n",
    ")\n",
    "\n",
    "\n",
    "# constraint preventing negative toroidal curvature\n",
    "neg_curv = NegTorCurvatureCost(constraint=Constraint(limit=-0.05, distance=0.1, minimum=True, method=\"quadratic\"))\n",
    "\n",
    "# Sum of all costs\n",
    "agg_cost = AggregateCost(costs=[em_cost, distance, neg_curv])\n"
   ]
  },
  {
   "cell_type": "markdown",
   "metadata": {},
   "source": [
    "Then we can build a coil factory:"
   ]
  },
  {
   "cell_type": "code",
   "execution_count": 2,
   "metadata": {},
   "outputs": [],
   "source": [
    "from stellacode.surface import WrappedCoil\n",
    "\n",
    "coil_factory = WrappedCoil.from_plasma(\n",
    "    surf_plasma=em_cost.Sp,\n",
    "    surf_type=\"cylindrical\",\n",
    "    n_harmonics=4,\n",
    "    factor=6,\n",
    ")"
   ]
  },
  {
   "cell_type": "markdown",
   "metadata": {},
   "source": [
    "Finally we create the optimizer:"
   ]
  },
  {
   "cell_type": "code",
   "execution_count": 3,
   "metadata": {},
   "outputs": [],
   "source": [
    "from stellacode.optimizer import Optimizer\n",
    "\n",
    "opt = Optimizer.from_cost(\n",
    "    agg_cost,\n",
    "    coil_factory,\n",
    "    method=\"L-BFGS-B\",\n",
    "    kwargs=dict(\n",
    "        options={\"disp\": True, \"maxiter\": 1},\n",
    "    ),\n",
    ")\n"
   ]
  },
  {
   "cell_type": "markdown",
   "metadata": {},
   "source": [
    "And now let's run the optimization:"
   ]
  },
  {
   "cell_type": "code",
   "execution_count": 4,
   "metadata": {},
   "outputs": [
    {
     "name": "stdout",
     "output_type": "stream",
     "text": [
      "err_max_B: 9.284683227539062, cost_B: 65.13337707519531, em_cost: 104125618454528.0, cost_J: 1041256167768064.0, max_j: 3331410.0, min_distance: 0.06159818544983864, cost_distance: 42.75738525390625, min_v_curvature: 2.2907443046569824, cost_neg_pol_curv: 0.0, total_cost: 104125618454528.0, \n",
      "RUNNING THE L-BFGS-B CODE\n",
      "\n",
      "           * * *\n",
      "\n",
      "Machine precision = 2.220D-16\n",
      " N =           27     M =           10\n",
      "\n",
      "At X0         0 variables are exactly at the bounds\n",
      "\n",
      "At iterate    0    f=  1.04126D+14    |proj g|=  1.12891D+14\n"
     ]
    },
    {
     "name": "stderr",
     "output_type": "stream",
     "text": [
      " This problem is unconstrained.\n"
     ]
    },
    {
     "name": "stdout",
     "output_type": "stream",
     "text": [
      "err_max_B: 0.00570228835567832, cost_B: 0.06279648840427399, em_cost: 2152646049792.0, cost_J: 21526459973632.0, max_j: 2568600.75, min_distance: 0.06270990520715714, cost_distance: 3.2304534912109375, min_v_curvature: 2.1033287048339844, cost_neg_pol_curv: 0.0, total_cost: 2152646049792.0, \n",
      "\n",
      "At iterate    1    f=  2.15265D+12    |proj g|=  1.04859D+14\n",
      "\n",
      "           * * *\n",
      "\n",
      "Tit   = total number of iterations\n",
      "Tnf   = total number of function evaluations\n",
      "Tnint = total number of segments explored during Cauchy searches\n",
      "Skip  = number of BFGS updates skipped\n",
      "Nact  = number of active bounds at final generalized Cauchy point\n",
      "Projg = norm of the final projected gradient\n",
      "F     = final function value\n",
      "\n",
      "           * * *\n",
      "\n",
      "   N    Tit     Tnf  Tnint  Skip  Nact     Projg        F\n",
      "   27      1      2      1     0     0   1.049D+14   2.153D+12\n",
      "  F =   2152646049792.0000     \n",
      "\n",
      "STOP: TOTAL NO. of ITERATIONS REACHED LIMIT                 \n",
      "{'err_max_B': Array(0.0057022, dtype=float32), 'cost_B': Array(0.06279632, dtype=float32), 'em_cost': Array(2.152646e+12, dtype=float32), 'cost_J': Array(2.152646e+13, dtype=float32), 'max_j': Array(2568600.8, dtype=float32), 'min_distance': Array(0.06270942, dtype=float32), 'cost_distance': Array(3.230458, dtype=float32), 'min_v_curvature': Array(2.1033297, dtype=float32), 'cost_neg_pol_curv': Array(0., dtype=float32), 'total_cost': Array(2.152646e+12, dtype=float32)}\n"
     ]
    }
   ],
   "source": [
    "cost, metrics, results, optimized_params = opt.optimize()\n",
    "print(metrics)"
   ]
  },
  {
   "cell_type": "markdown",
   "metadata": {},
   "source": [
    "We can now plot the results (yes the parameters of the coil factory werre changed in place during the optimization):"
   ]
  },
  {
   "cell_type": "code",
   "execution_count": 5,
   "metadata": {},
   "outputs": [],
   "source": [
    "coil_surface = coil_factory().get_coil(results.phi_mn_wnet_cur)\n",
    "\n",
    "coil_surface.plot(vector_field=coil_surface.j_3d)"
   ]
  },
  {
   "cell_type": "markdown",
   "metadata": {},
   "source": [
    "We can as well set a limit on the plasma current:"
   ]
  },
  {
   "cell_type": "code",
   "execution_count": 6,
   "metadata": {},
   "outputs": [
    {
     "name": "stdout",
     "output_type": "stream",
     "text": [
      "err_max_B: 0.00570228835567832, cost_B: 0.06279648840427399, em_cost: 2152646049792.0, cost_J: 21526459973632.0, max_j: 2568600.75, min_distance: 0.06270990520715714, cost_distance: 3.2304534912109375, min_v_curvature: 2.1033287048339844, cost_neg_pol_curv: 0.0, cost_j_ctr: 0.0, total_cost: 2152646049792.0, \n",
      "RUNNING THE L-BFGS-B CODE\n",
      "\n",
      "           * * *\n",
      "\n",
      "Machine precision = 2.220D-16\n",
      " N =           27     M =           10\n",
      "\n",
      "At X0         0 variables are exactly at the bounds\n",
      "\n",
      "At iterate    0    f=  2.15265D+12    |proj g|=  1.04859D+14\n"
     ]
    },
    {
     "name": "stderr",
     "output_type": "stream",
     "text": [
      " This problem is unconstrained.\n"
     ]
    },
    {
     "name": "stdout",
     "output_type": "stream",
     "text": [
      "err_max_B: 19.70716094970703, cost_B: 45.277244567871094, em_cost: 101663343902720.0, cost_J: 1016633455804416.0, max_j: 3125486.5, min_distance: 0.047008953988552094, cost_distance: 34.470062255859375, min_v_curvature: 2.468585968017578, cost_neg_pol_curv: 0.0, cost_j_ctr: 0.0, total_cost: 101663343902720.0, \n",
      "err_max_B: 3.523611307144165, cost_B: 9.389375686645508, em_cost: 13038166999040.0, cost_J: 130381667893248.0, max_j: 2674650.75, min_distance: 0.048347875475883484, cost_distance: 19.400501251220703, min_v_curvature: 2.1502301692962646, cost_neg_pol_curv: 0.0, cost_j_ctr: 0.0, total_cost: 13038166999040.0, \n",
      "err_max_B: 0.002661012578755617, cost_B: 0.056778840720653534, em_cost: 608826621952.0, cost_J: 6088266088448.0, max_j: 2557953.75, min_distance: 0.0736687034368515, cost_distance: 0.9170469641685486, min_v_curvature: 2.1116793155670166, cost_neg_pol_curv: 0.0, cost_j_ctr: 0.0, total_cost: 608826621952.0, \n",
      "err_max_B: 0.0026619723066687584, cost_B: 0.056840553879737854, em_cost: 770275147776.0, cost_J: 7702751215616.0, max_j: 2559222.75, min_distance: 0.07266058027744293, cost_distance: 1.1588621139526367, min_v_curvature: 2.107499837875366, cost_neg_pol_curv: 0.0, cost_j_ctr: 0.0, total_cost: 770275147776.0, \n",
      "err_max_B: 0.0026594670489430428, cost_B: 0.05673471838235855, em_cost: 36855836672.0, cost_J: 368558342144.0, max_j: 2557396.25, min_distance: 0.07831905037164688, cost_distance: 0.05543043836951256, min_v_curvature: 2.1099436283111572, cost_neg_pol_curv: 0.0, cost_j_ctr: 0.0, total_cost: 36855836672.0, \n",
      "err_max_B: 0.00265949172899127, cost_B: 0.056734759360551834, em_cost: 84858953728.0, cost_J: 848589488128.0, max_j: 2557634.25, min_distance: 0.07795475423336029, cost_distance: 0.12762558460235596, min_v_curvature: 2.109574794769287, cost_neg_pol_curv: 0.0, cost_j_ctr: 0.0, total_cost: 84858953728.0, \n",
      "err_max_B: 0.0026594670489430428, cost_B: 0.05673471838235855, em_cost: 36855836672.0, cost_J: 368558342144.0, max_j: 2557396.25, min_distance: 0.07831905037164688, cost_distance: 0.05543043836951256, min_v_curvature: 2.1099436283111572, cost_neg_pol_curv: 0.0, cost_j_ctr: 0.0, total_cost: 36855836672.0, \n",
      "\n",
      "At iterate    1    f=  3.68558D+10    |proj g|=  1.04728D+14\n",
      "\n",
      "           * * *\n",
      "\n",
      "Tit   = total number of iterations\n",
      "Tnf   = total number of function evaluations\n",
      "Tnint = total number of segments explored during Cauchy searches\n",
      "Skip  = number of BFGS updates skipped\n",
      "Nact  = number of active bounds at final generalized Cauchy point\n",
      "Projg = norm of the final projected gradient\n",
      "F     = final function value\n",
      "\n",
      "           * * *\n",
      "\n",
      "   N    Tit     Tnf  Tnint  Skip  Nact     Projg        F\n",
      "   27      1      8      1     0     0   1.047D+14   3.686D+10\n",
      "  F =   36855836672.000000     \n",
      "\n",
      "STOP: TOTAL NO. of ITERATIONS REACHED LIMIT                 \n",
      "{'err_max_B': Array(0.00265947, dtype=float32), 'cost_B': Array(0.05673472, dtype=float32), 'em_cost': Array(3.6855837e+10, dtype=float32), 'cost_J': Array(3.6855834e+11, dtype=float32), 'max_j': Array(2557393.8, dtype=float32), 'min_distance': Array(0.07831881, dtype=float32), 'cost_distance': Array(0.05543047, dtype=float32), 'min_v_curvature': Array(2.1099436, dtype=float32), 'cost_neg_pol_curv': Array(0., dtype=float32), 'cost_j_ctr': Array(0., dtype=float32), 'total_cost': Array(3.6855837e+10, dtype=float32)}\n"
     ]
    }
   ],
   "source": [
    "# constraint on the maximal current\n",
    "current_limit = 100\n",
    "current_ctr = CurrentCtrCost(constraint=Constraint(limit=current_limit, distance=0.3*current_limit, minimum=False, method=\"quadratic\"))\n",
    "\n",
    "# Sum of all costs\n",
    "agg_cost = AggregateCost(costs=[em_cost, distance, neg_curv, current_ctr])\n",
    "\n",
    "# In this case it is better to set the current parameters as trainable parameters because the optimal current \n",
    "# configuration is no more the one given by regcoil.\n",
    "em_cost = EMCost.from_plasma_config(\n",
    "    plasma_config=w7x_plasma,\n",
    "    integration_par=IntegrationParams(num_points_u=16, num_points_v=16),\n",
    "    train_currents=True\n",
    ")\n",
    "\n",
    "\n",
    "opt = Optimizer.from_cost(\n",
    "    agg_cost,\n",
    "    coil_factory,\n",
    "    method=\"L-BFGS-B\",\n",
    "    kwargs=dict(\n",
    "        options={\"disp\": True, \"maxiter\": 1},\n",
    "    ),\n",
    ")\n",
    "\n",
    "\n",
    "cost, metrics, results, optimized_params = opt.optimize()\n",
    "print(metrics)"
   ]
  },
  {
   "cell_type": "markdown",
   "metadata": {},
   "source": [
    "Finally we can first solve with regcoil and use this solution to start an optimization. This can speed up the optimization:"
   ]
  },
  {
   "cell_type": "code",
   "execution_count": 11,
   "metadata": {},
   "outputs": [
    {
     "name": "stdout",
     "output_type": "stream",
     "text": [
      "err_max_B: 2.1029207706451416, cost_B: 48.317298889160156, em_cost: 104669753901056.0, cost_J: 1046697555787776.0, max_j: 2714388.25, min_distance: 0.032860349863767624, cost_distance: 143.66049194335938, min_v_curvature: 0.7768245935440063, cost_neg_pol_curv: 0.0, cost_j_ctr: 0.0, total_cost: 104669753901056.0, \n",
      "RUNNING THE L-BFGS-B CODE\n",
      "\n",
      "           * * *\n",
      "\n",
      "Machine precision = 2.220D-16\n",
      " N =           90     M =           10\n",
      "\n",
      "At X0         0 variables are exactly at the bounds\n",
      "\n",
      "At iterate    0    f=  1.04670D+14    |proj g|=  1.15109D+14\n"
     ]
    },
    {
     "name": "stderr",
     "output_type": "stream",
     "text": [
      " This problem is unconstrained.\n"
     ]
    },
    {
     "name": "stdout",
     "output_type": "stream",
     "text": [
      "err_max_B: 0.012706311419606209, cost_B: 0.06874313205480576, em_cost: 4007923810304.0, cost_J: 40079238103040.0, max_j: 2202772.5, min_distance: 0.03834056854248047, cost_distance: 15.531754493713379, min_v_curvature: 0.6009621024131775, cost_neg_pol_curv: 0.0, cost_j_ctr: 0.0, total_cost: 4007923810304.0, \n",
      "\n",
      "At iterate    1    f=  4.00792D+12    |proj g|=  1.07848D+14\n",
      "\n",
      "           * * *\n",
      "\n",
      "Tit   = total number of iterations\n",
      "Tnf   = total number of function evaluations\n",
      "Tnint = total number of segments explored during Cauchy searches\n",
      "Skip  = number of BFGS updates skipped\n",
      "Nact  = number of active bounds at final generalized Cauchy point\n",
      "Projg = norm of the final projected gradient\n",
      "F     = final function value\n",
      "\n",
      "           * * *\n",
      "\n",
      "   N    Tit     Tnf  Tnint  Skip  Nact     Projg        F\n",
      "   90      1      2      1     0     0   1.078D+14   4.008D+12\n",
      "  F =   4007923810304.0000     \n",
      "\n",
      "STOP: TOTAL NO. of ITERATIONS REACHED LIMIT                 \n",
      "{'err_max_B': Array(0.01270631, dtype=float32), 'cost_B': Array(0.06874313, dtype=float32), 'em_cost': Array(4.0079238e+12, dtype=float32), 'cost_J': Array(4.007924e+13, dtype=float32), 'max_j': Array(2202772.5, dtype=float32), 'min_distance': Array(0.03834057, dtype=float32), 'cost_distance': Array(15.5317545, dtype=float32), 'min_v_curvature': Array(0.6009621, dtype=float32), 'cost_neg_pol_curv': Array(0., dtype=float32), 'cost_j_ctr': Array(0., dtype=float32), 'total_cost': Array(4.0079238e+12, dtype=float32)}\n"
     ]
    }
   ],
   "source": [
    "import numpy as onp\n",
    "coil_factory = WrappedCoil.from_plasma(\n",
    "    surf_plasma=em_cost.Sp,\n",
    "    surf_type=\"toroidal\",\n",
    "    n_harmonics=4,\n",
    "    factor=6,\n",
    ")\n",
    "coil_surface = coil_factory()\n",
    "\n",
    "em_cost2 = EMCost.from_plasma_config(\n",
    "    plasma_config=w7x_plasma,\n",
    "    integration_par=IntegrationParams(num_points_u=16, num_points_v=16),\n",
    "    train_currents=False\n",
    ")\n",
    "metrics_df, results = em_cost2.cost_multiple_lambdas(coil_surface, onp.logspace(-30, 0, 30))\n",
    "\n",
    "\n",
    "lamb_val = metrics_df.loc[metrics_df[\"max_j\"] < 1e6 * current_limit].index[0]\n",
    "\n",
    "\n",
    "coil_factory.set_phi_mn(results[lamb_val].phi_mn_wnet_cur[2:])\n",
    "\n",
    "\n",
    "opt = Optimizer.from_cost(\n",
    "    agg_cost,\n",
    "    coil_factory,\n",
    "    method=\"L-BFGS-B\",\n",
    "    kwargs=dict(\n",
    "        options={\"disp\": True, \"maxiter\": 1},\n",
    "    ),\n",
    ")\n",
    "\n",
    "\n",
    "cost, metrics, results, optimized_params = opt.optimize()\n",
    "print(metrics)"
   ]
  }
 ],
 "metadata": {
  "kernelspec": {
   "display_name": "stellacode",
   "language": "python",
   "name": "python3"
  },
  "language_info": {
   "codemirror_mode": {
    "name": "ipython",
    "version": 3
   },
   "file_extension": ".py",
   "mimetype": "text/x-python",
   "name": "python",
   "nbconvert_exporter": "python",
   "pygments_lexer": "ipython3",
   "version": "3.10.12"
  },
  "orig_nbformat": 4
 },
 "nbformat": 4,
 "nbformat_minor": 2
}
