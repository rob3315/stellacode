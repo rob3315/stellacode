{
 "cells": [
  {
   "cell_type": "code",
   "execution_count": 1,
   "id": "9f8b6284",
   "metadata": {},
   "outputs": [
    {
     "name": "stdout",
     "output_type": "stream",
     "text": [
      "blas_mkl_info:\n",
      "    libraries = ['mkl_rt', 'pthread']\n",
      "    library_dirs = ['/home/rrobin/anaconda3/envs/fusion/lib']\n",
      "    define_macros = [('SCIPY_MKL_H', None), ('HAVE_CBLAS', None)]\n",
      "    include_dirs = ['/home/rrobin/anaconda3/envs/fusion/include']\n",
      "blas_opt_info:\n",
      "    libraries = ['mkl_rt', 'pthread']\n",
      "    library_dirs = ['/home/rrobin/anaconda3/envs/fusion/lib']\n",
      "    define_macros = [('SCIPY_MKL_H', None), ('HAVE_CBLAS', None)]\n",
      "    include_dirs = ['/home/rrobin/anaconda3/envs/fusion/include']\n",
      "lapack_mkl_info:\n",
      "    libraries = ['mkl_rt', 'pthread']\n",
      "    library_dirs = ['/home/rrobin/anaconda3/envs/fusion/lib']\n",
      "    define_macros = [('SCIPY_MKL_H', None), ('HAVE_CBLAS', None)]\n",
      "    include_dirs = ['/home/rrobin/anaconda3/envs/fusion/include']\n",
      "lapack_opt_info:\n",
      "    libraries = ['mkl_rt', 'pthread']\n",
      "    library_dirs = ['/home/rrobin/anaconda3/envs/fusion/lib']\n",
      "    define_macros = [('SCIPY_MKL_H', None), ('HAVE_CBLAS', None)]\n",
      "    include_dirs = ['/home/rrobin/anaconda3/envs/fusion/include']\n"
     ]
    },
    {
     "data": {
      "text/plain": [
       "'/home/rrobin/Documents/shape_opti/code'"
      ]
     },
     "execution_count": 1,
     "metadata": {},
     "output_type": "execute_result"
    }
   ],
   "source": [
    "import unittest\n",
    "import os\n",
    "os.environ[\"MKL_NUM_THREADS\"] = \"4\" # export MKL_NUM_THREADS=6\n",
    "from regcoil import *\n",
    "from shape_gradient_dask import *\n",
    "import numpy as np\n",
    "import logging\n",
    "%load_ext line_profiler\n",
    "import dask.array as da\n",
    "np.show_config()\n",
    "os.chdir('../')\n",
    "os.getcwd()"
   ]
  },
  {
   "cell_type": "code",
   "execution_count": 2,
   "id": "eb892010",
   "metadata": {},
   "outputs": [
    {
     "data": {
      "text/plain": [
       "{'dashboard': 8787}"
      ]
     },
     "execution_count": 2,
     "metadata": {},
     "output_type": "execute_result"
    }
   ],
   "source": [
    "from dask.distributed import Client\n",
    "client = Client(processes=False,\n",
    "                n_workers=2, threads_per_worker=3)\n",
    "client.scheduler_info()['services']"
   ]
  },
  {
   "cell_type": "code",
   "execution_count": 3,
   "id": "e1655e49",
   "metadata": {},
   "outputs": [
    {
     "name": "stdout",
     "output_type": "stream",
     "text": [
      "/home/rrobin/Documents/shape_opti/code\n"
     ]
    }
   ],
   "source": [
    "print(os.getcwd())\n",
    "shape_grad=Shape_gradient_dask('config.ini')\n",
    "def f(param_array):\n",
    "    (m,n,Rmn,Zmn)=shape_grad.S_parametrization\n",
    "    R=param_array[:len(m)]\n",
    "    Z=param_array[len(m):]\n",
    "    param=((m,n,R,Z))\n",
    "    return shape_grad.compute_cost(param)['cost']\n",
    "def gradf(param_array):\n",
    "    (m,n,Rmn,Zmn)=shape_grad.S_parametrization\n",
    "    R=param_array[:len(m)]\n",
    "    Z=param_array[len(m):]\n",
    "    param=((m,n,R,Z))\n",
    "    return shape_grad.compute_gradient(param)['shape_gradient']"
   ]
  },
  {
   "cell_type": "code",
   "execution_count": 4,
   "id": "11641d64",
   "metadata": {
    "tags": []
   },
   "outputs": [
    {
     "data": {
      "text/plain": [
       "Timer unit: 1 s\n",
       "\n",
       "Total time: 4.99988 s\n",
       "File: /home/rrobin/Documents/shape_opti/code/main/shape_gradient_dask.py\n",
       "Function: compute_cost at line 143\n",
       "\n",
       "Line #      Hits         Time  Per Hit   % Time  Line Contents\n",
       "==============================================================\n",
       "   143                                               def compute_cost(self,paramS):\n",
       "   144         1          0.0      0.0      0.0          result={}\n",
       "   145         1          0.2      0.2      4.9          S=Toroidal_surface(paramS,(self.ntheta_coil,self.nzeta_coil),self.Np)\n",
       "   146         1          0.2      0.2      4.3          T=vector_field.get_tensor_distance(S,self.Sp,self.rot_tensor)\n",
       "   147                                                   #LS=vector_field.compute_LS(T,self.matrixd_phi,S.dpsi,self.rot_tensor,self.Sp.n)\n",
       "   148         1          0.0      0.0      0.5          Qj=vector_field.compute_Qj(self.matrixd_phi,S.dpsi,S.dS)\n",
       "   149                                                  \n",
       "   150         1          0.0      0.0      0.0          dask_dpsi=da.from_array(S.dpsi,chunks=(2,3,self.chunk_theta_coil,self.chunk_zeta_coil), asarray=False)\n",
       "   151         1          0.0      0.0      0.0          dask_normalp=da.from_array(self.Sp.n,chunks=(3,self.chunk_theta_plasma,self.chunk_zeta_plasma), asarray=False)\n",
       "   152         1          1.1      1.1     21.9          dask_T=da.from_array(T,chunks=(3,self.chunk_theta_coil,self.chunk_zeta_coil,self.chunk_theta_plasma,self.chunk_zeta_plasma,3), asarray=False)\n",
       "   153         1          0.0      0.0      0.0          dask_dS=da.from_array(S.dS,chunks=(self.chunk_theta_coil,self.chunk_zeta_coil), asarray=False)\n",
       "   154         1          0.0      0.0      0.2          dask_D=1/(da.linalg.norm(dask_T,axis=-1)**3)\n",
       "   155         1          0.0      0.0      0.2          dask_DD=1/(da.linalg.norm(dask_T,axis=-1)**5)\n",
       "   156                                           \n",
       "   157         1          0.0      0.0      0.0          dtype=np.float64\n",
       "   158         1          0.2      0.2      3.4          self.dask_rot_tensor=self.dask_rot_tensor.map_blocks(cp.asarray,dtype=dtype)\n",
       "   159         1          0.0      0.0      0.0          self.dask_matrixd_phi=self.dask_matrixd_phi.map_blocks(cp.asarray,dtype=dtype)\n",
       "   160         1          0.0      0.0      0.0          dask_dpsi=dask_dpsi.map_blocks(cp.asarray,dtype=dtype)\n",
       "   161         1          0.0      0.0      0.0          self.dask_eijk=self.dask_eijk.map_blocks(cp.asarray,dtype=dtype)\n",
       "   162         1          0.0      0.0      0.0          dask_D=dask_D.map_blocks(cp.asarray,dtype=dtype)\n",
       "   163         1          0.0      0.0      0.0          dask_DD=dask_DD.map_blocks(cp.asarray,dtype=dtype)\n",
       "   164         1          0.0      0.0      0.0          dask_normalp=dask_normalp.map_blocks(cp.asarray,dtype=dtype)\n",
       "   165         1          0.0      0.0      0.0          dask_T=dask_T.map_blocks(cp.asarray,dtype=dtype)\n",
       "   166                                                   #D=1/(np.linalg.norm(T,axis=-1)**3)\n",
       "   167                                                   #DD=1/(np.linalg.norm(T,axis=-1)**5)\n",
       "   168                                                   #dask_D=da.from_array(D,chunks=(3,self.chunk_theta_coil,self.chunk_zeta_coil,self.chunk_theta_plasma,self.chunk_zeta_plasma), asarray=False)\n",
       "   169                                                   #dask_DD=da.from_array(DD,chunks=(3,self.chunk_theta_coil,self.chunk_zeta_coil,self.chunk_theta_plasma,self.chunk_zeta_plasma), asarray=False)\n",
       "   170                                           \n",
       "   171         1          0.0      0.0      0.4          LS_dask=contract('ijklmn,ojkw,ipz,wzjk,qnp,ijklm,qlm->olm',dask_T,self.dask_matrixd_phi,self.dask_rot_tensor,dask_dpsi,self.dask_eijk,dask_D,dask_normalp,optimize=True)\n",
       "   172         1          3.2      3.2     64.0          LS=((mu_0/(4*np.pi))*LS_dask.compute()/(self.ntheta_coil*self.nzeta_coil)).get()\n",
       "   173                                           \n",
       "   174                                                   ### matrix versions:\n",
       "   175         1          0.0      0.0      0.0          output={}\n",
       "   176         1          0.0      0.0      0.0          LS_matrix=np.transpose(np.reshape(LS[2:,:,:],(LS.shape[0]-2,-1)))#matrix shape\n",
       "   177         1          0.0      0.0      0.0          BTn=self.net_poloidal_current_Amperes*LS[0]+self.net_toroidal_current_Amperes*LS[1]+self.array_bnorm\n",
       "   178         1          0.0      0.0      0.0          BTn_flat=-BTn.flatten()\n",
       "   179                                           \n",
       "   180                                                   #we take the adjoint, note that we have to take care of the different innerproduct\n",
       "   181         1          0.0      0.0      0.0          plasma_dS_normalized=self.Sp.dS.flatten()/(self.Sp.nbpts[0]*self.Sp.nbpts[1])\n",
       "   182         1          0.0      0.0      0.1          inside_M_lambda=contract('ij,i,ik->jk',LS_matrix,plasma_dS_normalized,LS_matrix)\\\n",
       "   183         1          0.0      0.0      0.0              +self.lamb*Qj[2:,2:]\n",
       "   184                                                   \n",
       "   185         1          0.0      0.0      0.0          RHS=(contract('ij,i,i->j',LS_matrix,plasma_dS_normalized, BTn_flat)-self.lamb*(self.net_poloidal_current_Amperes*Qj[2:,0]+self.net_toroidal_current_Amperes*Qj[2:,1]) )\n",
       "   186                                           \n",
       "   187         1          0.0      0.0      0.0          j_S_partial= np.linalg.solve(inside_M_lambda, RHS)\n",
       "   188         1          0.0      0.0      0.0          j_S=np.concatenate(([self.net_poloidal_current_Amperes,self.net_toroidal_current_Amperes],j_S_partial))\n",
       "   189                                                   #cost\n",
       "   190         1          0.0      0.0      0.0          B_err= (LS_matrix @ j_S_partial)- BTn_flat\n",
       "   191                                           \n",
       "   192         1          0.0      0.0      0.0          result['cost_B']=self.Np*contract('i,i,i->',B_err,B_err,plasma_dS_normalized)\n",
       "   193         1          0.0      0.0      0.0          result['cost_J']=self.Np*contract('i,ij,j->',j_S,Qj,j_S)\n",
       "   194         1          0.0      0.0      0.0          result['cost']=result['cost_B']+self.lamb*result['cost_J']\n",
       "   195                                           \n",
       "   196         1          0.0      0.0      0.0          return result"
      ]
     },
     "metadata": {},
     "output_type": "display_data"
    }
   ],
   "source": [
    "%lprun -u 1 -f shape_grad.compute_cost shape_grad.compute_cost(shape_grad.S_parametrization)"
   ]
  },
  {
   "cell_type": "code",
   "execution_count": 5,
   "id": "c1d400e9",
   "metadata": {
    "tags": []
   },
   "outputs": [
    {
     "data": {
      "text/plain": [
       "Timer unit: 1 s\n",
       "\n",
       "Total time: 67.7442 s\n",
       "File: /users/home/robin/stellacageShapeOpti/code/main/shape_gradient_dask.py\n",
       "Function: compute_gradient at line 57\n",
       "\n",
       "Line #      Hits         Time  Per Hit   % Time  Line Contents\n",
       "==============================================================\n",
       "    57                                               def compute_gradient(self,paramS):\n",
       "    58         1          0.0      0.0      0.0          result={}\n",
       "    59         1          0.2      0.2      0.4          S=Toroidal_surface(paramS,(self.ntheta_coil,self.nzeta_coil),self.Np)\n",
       "    60         1          2.1      2.1      3.0          theta,dtildetheta,dtheta,dSdtheta=S.get_theta_pertubation()\n",
       "    61         1          0.2      0.2      0.3          T=vector_field.get_tensor_distance(S,self.Sp,self.rot_tensor)\n",
       "    62                                                   #LS=vector_field.compute_LS(T,self.matrixd_phi,S.dpsi,self.rot_tensor,self.Sp.n)\n",
       "    63         1          0.0      0.0      0.0          Qj=vector_field.compute_Qj(self.matrixd_phi,S.dpsi,S.dS)\n",
       "    64                                                   #shape derivation\n",
       "    65         1          0.0      0.0      0.0          dask_theta=da.from_array(theta,chunks=(self.chunk_theta,self.chunk_theta_coil,self.chunk_zeta_coil,3), asarray=False)\n",
       "    66         1          0.0      0.0      0.0          dask_dpsi=da.from_array(S.dpsi,chunks=(2,3,self.chunk_theta_coil,self.chunk_zeta_coil), asarray=False)\n",
       "    67                                                   \n",
       "    68         1          0.0      0.0      0.0          dask_normalp=da.from_array(self.Sp.n,chunks=(3,self.chunk_theta_plasma,self.chunk_zeta_plasma), asarray=False)\n",
       "    69         1          0.7      0.7      1.0          dask_T=da.from_array(T,chunks=(3,self.chunk_theta_coil,self.chunk_zeta_coil,self.chunk_theta_plasma,self.chunk_zeta_plasma,3), asarray=False)\n",
       "    70         1          0.1      0.1      0.1          dask_dtildetheta=da.from_array(dtildetheta,chunks=(self.chunk_theta,self.chunk_theta_coil,self.chunk_zeta_coil,3,3), asarray=False)\n",
       "    71         1          0.1      0.1      0.1          dask_dtheta=da.from_array(dtheta,chunks=(self.chunk_theta,self.chunk_theta_coil,self.chunk_zeta_coil,2,3), asarray=False)\n",
       "    72         1          0.0      0.0      0.0          dask_dSdtheta=da.from_array(dSdtheta,chunks=(self.chunk_theta,self.chunk_theta_coil,self.chunk_zeta_coil), asarray=False)\n",
       "    73         1          0.0      0.0      0.0          dask_dS=da.from_array(S.dS,chunks=(self.chunk_theta_coil,self.chunk_zeta_coil), asarray=False)\n",
       "    74                                                   \n",
       "    75                                                   #dask_D=1/(da.linalg.norm(dask_T,axis=-1)**3)\n",
       "    76                                                   #dask_DD=1/(da.linalg.norm(dask_T,axis=-1)**5)\n",
       "    77         1          1.4      1.4      2.0          D=1/(np.linalg.norm(T,axis=-1)**3)\n",
       "    78         1          1.4      1.4      2.0          DD=1/(np.linalg.norm(T,axis=-1)**5)\n",
       "    79         1          0.2      0.2      0.3          dask_D=da.from_array(D,chunks=(3,self.chunk_theta_coil,self.chunk_zeta_coil,self.chunk_theta_plasma,self.chunk_zeta_plasma), asarray=False)\n",
       "    80         1          0.2      0.2      0.3          dask_DD=da.from_array(DD,chunks=(3,self.chunk_theta_coil,self.chunk_zeta_coil,self.chunk_theta_plasma,self.chunk_zeta_plasma), asarray=False)\n",
       "    81         1          0.0      0.0      0.0          LS_dask=contract('ijklmn,ojkw,ipz,wzjk,qnp,ijklm,qlm->olm',dask_T,self.dask_matrixd_phi,self.dask_rot_tensor,dask_dpsi,self.dask_eijk,dask_D,dask_normalp,optimize=True)\n",
       "    82         1          4.3      4.3      6.4          LS=(mu_0/(4*np.pi))*LS_dask.compute()/(self.ntheta_coil*self.nzeta_coil)\n",
       "    83                                           \n",
       "    84         1          0.0      0.0      0.1          dLS_dask=-contract('inb,ajkb,ojkw,ipz,wzjk,qnp,ijklm,qlm->aolm',self.dask_rot_tensor,dask_theta,self.dask_matrixd_phi,self.dask_rot_tensor,dask_dpsi,self.dask_eijk,dask_D,dask_normalp,optimize=True)\n",
       "    85         1          0.0      0.0      0.1          dLS_dask+=3*contract('ibc,ajkc,ijklmb,ijklmn,ojkw,ipz,wzjk,qnp,ijklm,qlm->aolm',self.dask_rot_tensor,dask_theta,dask_T,dask_T,self.dask_matrixd_phi,self.dask_rot_tensor,dask_dpsi,self.dask_eijk,dask_DD,dask_normalp,optimize=True)\n",
       "    86         1          0.0      0.0      0.1          dLS_dask+=contract('ijklmn,ojkw,ipz,ajkbz,wbjk,qnp,ijklm,qlm->aolm',dask_T,self.dask_matrixd_phi,self.dask_rot_tensor,dask_dtildetheta,dask_dpsi,self.dask_eijk,dask_D,dask_normalp,optimize=True)\n",
       "    87         1         41.3     41.3     61.0          dLSdtheta=(mu_0/(4*np.pi))*dLS_dask.compute()/(self.ntheta_coil*self.nzeta_coil)\n",
       "    88         1          0.1      0.1      0.1          dask_dQj=vector_field.compute_dQjdtheta(self.dask_matrixd_phi,dask_dpsi,dask_dS,dask_dtheta,dask_dSdtheta)\n",
       "    89         1          5.4      5.4      8.0          dQj=dask_dQj.compute()\n",
       "    90                                           \n",
       "    91                                           \n",
       "    92                                                   ### matrix versions:\n",
       "    93         1          0.0      0.0      0.0          output={}\n",
       "    94         1          0.0      0.0      0.0          LS_matrix=np.transpose(np.reshape(LS[2:,:,:],(LS.shape[0]-2,-1)))#matrix shape\n",
       "    95         1          0.0      0.0      0.0          BTn=self.net_poloidal_current_Amperes*LS[0]+self.net_toroidal_current_Amperes*LS[1]+self.array_bnorm\n",
       "    96         1          0.0      0.0      0.0          BTn_flat=-BTn.flatten()\n",
       "    97                                                   #shape derivative of those matrices\n",
       "    98         1          0.0      0.0      0.0          dLS_matrix_dtheta=np.swapaxes(np.reshape(dLSdtheta[:,2:,:,:],(dLSdtheta.shape[0],dLSdtheta.shape[1]-2,-1)), 1, 2)\n",
       "    99         1          1.5      1.5      2.3          dLS_matrix_dtheta_dask=da.from_array(dLS_matrix_dtheta,chunks={0:1})#for parallelisation\n",
       "   100         1          0.0      0.0      0.0          dBTn_flat_dtheta= - np.reshape(self.net_poloidal_current_Amperes*dLSdtheta[:,0]+self.net_toroidal_current_Amperes*dLSdtheta[:,1],(dLSdtheta.shape[0],-1))\n",
       "   101                                                   \n",
       "   102         1          0.0      0.0      0.0          result['LS_matrix']=LS_matrix\n",
       "   103         1          0.0      0.0      0.0          result['dLS_matrix_dtheta']=dLS_matrix_dtheta\n",
       "   104                                           \n",
       "   105                                                   #we take the adjoint, note that we have to take care of the different innerproduct\n",
       "   106         1          0.0      0.0      0.0          plasma_dS_normalized=self.Sp.dS.flatten()/(self.Sp.nbpts[0]*self.Sp.nbpts[1])\n",
       "   107         2          0.0      0.0      0.0          inside_M_lambda=contract('ij,i,ik->jk',LS_matrix,plasma_dS_normalized,LS_matrix)\\\n",
       "   108         1          0.0      0.0      0.0              +self.lamb*Qj[2:,2:]\n",
       "   109                                                   \n",
       "   110         1          0.0      0.0      0.0          dinside_M_lambda_dtheta_dask=contract('oij,i,ik->ojk',dLS_matrix_dtheta_dask,plasma_dS_normalized,LS_matrix)+contract('ij,i,oik->ojk',LS_matrix,plasma_dS_normalized,dLS_matrix_dtheta_dask)\n",
       "   111         1          7.8      7.8     11.5          dinside_M_lambda_dtheta=dinside_M_lambda_dtheta_dask.compute()+self.lamb*dQj[:,2:,2:]\n",
       "   112                                                   \n",
       "   113         1          0.0      0.0      0.0          RHS=(contract('ij,i,i->j',LS_matrix,plasma_dS_normalized, BTn_flat)-self.lamb*(self.net_poloidal_current_Amperes*Qj[2:,0]+self.net_toroidal_current_Amperes*Qj[2:,1]) )\n",
       "   114         1          0.1      0.1      0.2          dRHS_dtheta=contract('oij,i,i->oj',dLS_matrix_dtheta,plasma_dS_normalized, BTn_flat)+contract('ij,i,oi->oj',LS_matrix,plasma_dS_normalized, dBTn_flat_dtheta)-self.lamb*(self.net_poloidal_current_Amperes*dQj[:,2:,0]+self.net_toroidal_current_Amperes*dQj[:,2:,1])\n",
       "   115         1          0.0      0.0      0.0          result['RHS']=RHS\n",
       "   116         1          0.0      0.0      0.0          result['dRHS_dtheta']=dRHS_dtheta\n",
       "   117         1          0.0      0.0      0.0          j_S_partial= np.linalg.solve(inside_M_lambda, RHS)\n",
       "   118         1          0.0      0.0      0.0          j_S=np.concatenate(([self.net_poloidal_current_Amperes,self.net_toroidal_current_Amperes],j_S_partial))\n",
       "   119         1          0.1      0.1      0.1          dj_S_partial_dtheta= np.linalg.solve(inside_M_lambda[np.newaxis,:,:], dRHS_dtheta)\n",
       "   120         1          0.1      0.1      0.1          dj_S_partial_dtheta-=np.linalg.solve(inside_M_lambda[np.newaxis,:,:],contract('oij,i->oj',dinside_M_lambda_dtheta, np.linalg.solve(inside_M_lambda,RHS)))\n",
       "   121         1          0.0      0.0      0.0          result['j_S_partial']=j_S_partial\n",
       "   122         1          0.0      0.0      0.0          result['dj_S_partial_dtheta']=dj_S_partial_dtheta\n",
       "   123                                                   #cost\n",
       "   124         1          0.0      0.0      0.0          B_err= (LS_matrix @ j_S_partial)- BTn_flat\n",
       "   125                                           \n",
       "   126         1          0.0      0.0      0.0          result['cost_B']=self.Np*contract('i,i,i->',B_err,B_err,plasma_dS_normalized)\n",
       "   127         1          0.0      0.0      0.0          result['cost_J']=self.Np*contract('i,ij,j->',j_S,Qj,j_S)\n",
       "   128         1          0.0      0.0      0.0          result['cost']=result['cost_B']+self.lamb*result['cost_J']\n",
       "   129         1          0.0      0.0      0.0          dcjdj= np.einsum('i,oij,j->o',j_S,dQj,j_S)\n",
       "   130         1          0.0      0.0      0.0          dcjdj+= 2*np.einsum('i,ij,oj->o',j_S,Qj[:,2:],dj_S_partial_dtheta)\n",
       "   131         1          0.0      0.0      0.0          result['dcost_J_dtheta']=self.Np*dcjdj\n",
       "   132                                           \n",
       "   133         2          0.1      0.1      0.2          tmp=np.einsum('oaij,a->oij',dLSdtheta,j_S)\\\n",
       "   134         1          0.1      0.1      0.1              +np.einsum('aij,oa->oij',LS[2:],dj_S_partial_dtheta)\n",
       "   135                                                   \n",
       "   136         1          0.0      0.0      0.0          dcbdj=(2*np.einsum('oi,i,i->o',np.reshape(tmp,(tmp.shape[0],-1)),B_err,plasma_dS_normalized))\n",
       "   137         1          0.0      0.0      0.0          result['dcost_B_dtheta']=self.Np*dcbdj\n",
       "   138         1          0.0      0.0      0.0          result['shape_gradient']=(dcbdj+self.lamb*dcjdj)*self.Np\n",
       "   139                                           \n",
       "   140         1          0.0      0.0      0.0          return result"
      ]
     },
     "metadata": {},
     "output_type": "display_data"
    }
   ],
   "source": [
    "%lprun -u 1 -f shape_grad.compute_gradient shape_grad.compute_gradient(shape_grad.S_parametrization)"
   ]
  },
  {
   "cell_type": "code",
   "execution_count": 6,
   "id": "947f6c6f",
   "metadata": {},
   "outputs": [
    {
     "name": "stdout",
     "output_type": "stream",
     "text": [
      "time used : 71.58100700378418s\n"
     ]
    }
   ],
   "source": [
    "eps=1e-6\n",
    "S_param_complete=shape_grad.S_parametrization\n",
    "ls=len(S_param_complete[0])\n",
    "        \n",
    "#we apply one pertubation\n",
    "perturb=(2*np.random.random(2*ls)-1)\n",
    "S_param=np.concatenate((S_param_complete[2],S_param_complete[3]))\n",
    "new_param=S_param+eps*perturb\n",
    "t0=time.time()\n",
    "old_cost=f(S_param)\n",
    "new_cost=f(new_param)\n",
    "gradient=gradf(S_param)\n",
    "print('time used : {}s'.format(time.time()-t0))"
   ]
  },
  {
   "cell_type": "code",
   "execution_count": 7,
   "id": "1a15f44d",
   "metadata": {},
   "outputs": [
    {
     "name": "stdout",
     "output_type": "stream",
     "text": [
      "numerical cost obtained: 1.232865e+01 and 1.232864e+01\n",
      "numerical gradient : -1.000059e+01\n",
      "gradient computed : -1.000151e+01\n"
     ]
    }
   ],
   "source": [
    "print('numerical cost obtained: {:10e} and {:10e}'.format(old_cost,new_cost))\n",
    "print('numerical gradient : {:10e}'.format((new_cost-old_cost)/eps))\n",
    "print('gradient computed : {:10e}'.format(np.dot(gradient,perturb)))"
   ]
  },
  {
   "cell_type": "code",
   "execution_count": null,
   "id": "ccf5266d",
   "metadata": {},
   "outputs": [
    {
     "name": "stderr",
     "output_type": "stream",
     "text": [
      "tornado.application - ERROR - Exception in callback functools.partial(<bound method IOLoop._discard_future_result of <zmq.eventloop.ioloop.ZMQIOLoop object at 0x7fcdf968f520>>, <Task finished name='Task-162364' coro=<Worker.heartbeat() done, defined at /users/home/robin/miniconda3/envs/shape_opti/lib/python3.9/site-packages/distributed/worker.py:941> exception=RuntimeError('dictionary changed size during iteration')>)\n",
      "Traceback (most recent call last):\n",
      "  File \"/users/home/robin/miniconda3/envs/shape_opti/lib/python3.9/site-packages/tornado/ioloop.py\", line 741, in _run_callback\n",
      "    ret = callback()\n",
      "  File \"/users/home/robin/miniconda3/envs/shape_opti/lib/python3.9/site-packages/tornado/ioloop.py\", line 765, in _discard_future_result\n",
      "    future.result()\n",
      "  File \"/users/home/robin/miniconda3/envs/shape_opti/lib/python3.9/site-packages/distributed/worker.py\", line 955, in heartbeat\n",
      "    executing={\n",
      "  File \"/users/home/robin/miniconda3/envs/shape_opti/lib/python3.9/site-packages/distributed/worker.py\", line 955, in <dictcomp>\n",
      "    executing={\n",
      "RuntimeError: dictionary changed size during iteration\n",
      "tornado.application - ERROR - Exception in callback functools.partial(<bound method IOLoop._discard_future_result of <zmq.eventloop.ioloop.ZMQIOLoop object at 0x7fcdf968f520>>, <Task finished name='Task-192070' coro=<Worker.heartbeat() done, defined at /users/home/robin/miniconda3/envs/shape_opti/lib/python3.9/site-packages/distributed/worker.py:941> exception=RuntimeError('dictionary changed size during iteration')>)\n",
      "Traceback (most recent call last):\n",
      "  File \"/users/home/robin/miniconda3/envs/shape_opti/lib/python3.9/site-packages/tornado/ioloop.py\", line 741, in _run_callback\n",
      "    ret = callback()\n",
      "  File \"/users/home/robin/miniconda3/envs/shape_opti/lib/python3.9/site-packages/tornado/ioloop.py\", line 765, in _discard_future_result\n",
      "    future.result()\n",
      "  File \"/users/home/robin/miniconda3/envs/shape_opti/lib/python3.9/site-packages/distributed/worker.py\", line 955, in heartbeat\n",
      "    executing={\n",
      "  File \"/users/home/robin/miniconda3/envs/shape_opti/lib/python3.9/site-packages/distributed/worker.py\", line 955, in <dictcomp>\n",
      "    executing={\n",
      "RuntimeError: dictionary changed size during iteration\n"
     ]
    }
   ],
   "source": [
    "import scipy.optimize\n",
    "optimize_shape=scipy.optimize.minimize(f, S_param, method='CG', jac=gradf,options={'maxiter':100,'return_all':True})"
   ]
  },
  {
   "cell_type": "code",
   "execution_count": null,
   "id": "67b4d8a9",
   "metadata": {},
   "outputs": [],
   "source": [
    "print(optimize_shape)"
   ]
  }
 ],
 "metadata": {
  "kernelspec": {
   "display_name": "Python 3",
   "language": "python",
   "name": "python3"
  },
  "language_info": {
   "codemirror_mode": {
    "name": "ipython",
    "version": 3
   },
   "file_extension": ".py",
   "mimetype": "text/x-python",
   "name": "python",
   "nbconvert_exporter": "python",
   "pygments_lexer": "ipython3",
   "version": "3.6.10"
  }
 },
 "nbformat": 4,
 "nbformat_minor": 5
}
