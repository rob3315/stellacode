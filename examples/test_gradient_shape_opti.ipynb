{
 "cells": [
  {
   "cell_type": "code",
   "execution_count": 1,
   "id": "76820b0b",
   "metadata": {},
   "outputs": [
    {
     "output_type": "execute_result",
     "data": {
      "text/plain": [
       "'/home/rrobin/Documents/Stellacage_code'"
      ]
     },
     "metadata": {},
     "execution_count": 1
    }
   ],
   "source": [
    "import unittest\n",
    "import os,sys\n",
    "os.environ[\"MKL_NUM_THREADS\"] = \"4\" # export MKL_NUM_THREADS=6\n",
    "import numpy as np\n",
    "import logging\n",
    "%load_ext line_profiler\n",
    "import dask.array as da\n",
    "os.chdir('../')\n",
    "sys.path.append('main/')\n",
    "from full_gradient import *\n",
    "os.getcwd()"
   ]
  },
  {
   "cell_type": "code",
   "execution_count": 2,
   "id": "5897f780",
   "metadata": {},
   "outputs": [
    {
     "output_type": "stream",
     "name": "stdout",
     "text": [
      "/home/rrobin/Documents/Stellacage_code\n"
     ]
    }
   ],
   "source": [
    "print(os.getcwd())\n",
    "full_grad=Full_gradient('config_file/config.ini')\n",
    "def f(param_array):\n",
    "    (m,n,Rmn,Zmn)=full_grad.S_parametrization\n",
    "    R=param_array[:len(m)]\n",
    "    Z=param_array[len(m):]\n",
    "    param=((m,n,R,Z))\n",
    "    return full_grad.cost(param)\n",
    "def gradf(param_array):\n",
    "    (m,n,Rmn,Zmn)=full_grad.S_parametrization\n",
    "    R=param_array[:len(m)]\n",
    "    Z=param_array[len(m):]\n",
    "    param=((m,n,R,Z))\n",
    "    return full_grad.grad_cost(param)"
   ]
  },
  {
   "cell_type": "code",
   "execution_count": 3,
   "id": "e8df8a53",
   "metadata": {},
   "outputs": [
    {
     "output_type": "stream",
     "name": "stdout",
     "text": [
      "time used : 29.55600595474243s\n"
     ]
    }
   ],
   "source": [
    "eps=1e-9\n",
    "S_param_complete=full_grad.S_parametrization\n",
    "ls=len(S_param_complete[0])\n",
    "        \n",
    "#we apply one pertubation\n",
    "perturb=(2*np.random.random(2*ls)-1)\n",
    "S_param=np.concatenate((S_param_complete[2],S_param_complete[3]))\n",
    "new_param=S_param+eps*perturb\n",
    "t0=time.time()\n",
    "old_cost=f(S_param)\n",
    "new_cost=f(new_param)\n",
    "gradient=gradf(S_param)\n",
    "print('time used : {}s'.format(time.time()-t0))"
   ]
  },
  {
   "cell_type": "code",
   "execution_count": 4,
   "id": "35dde053",
   "metadata": {},
   "outputs": [
    {
     "output_type": "stream",
     "name": "stdout",
     "text": [
      "numerical cost obtained: 1.336885e+00 and 1.336885e+00\nnumerical gradient : 1.401390e-01\ngradient computed : 2.973920e-01\n"
     ]
    }
   ],
   "source": [
    "print('numerical cost obtained: {:10e} and {:10e}'.format(old_cost,new_cost))\n",
    "print('numerical gradient : {:10e}'.format((new_cost-old_cost)/eps))\n",
    "print('gradient computed : {:10e}'.format(np.dot(gradient,perturb)))"
   ]
  },
  {
   "cell_type": "code",
   "execution_count": 3,
   "id": "09f0501f",
   "metadata": {
    "tags": []
   },
   "outputs": [
    {
     "output_type": "stream",
     "text": [
      "Timer unit: 1 s\n",
      "\n",
      "Total time: 4.15637 s\n",
      "File: main/full_gradient.py\n",
      "Function: cost at line 77\n",
      "\n",
      "Line #      Hits         Time  Per Hit   % Time  Line Contents\n",
      "==============================================================\n",
      "    77                                               def cost(self,paramS):\n",
      "    78         1          0.2      0.2      5.5          S=Toroidal_surface(paramS,(self.ntheta_coil,self.nzeta_coil),self.Np)\n",
      "    79         1          3.2      3.2     78.1          cost_regcoil_dic=cost_surface.cost_surface(self.config,S=S,Sp=self.Sp)\n",
      "    80         1          0.0      0.0      0.0          cost_regcoil=cost_regcoil_dic['cost_B']+ self.lamb*cost_regcoil_dic['cost_J']\n",
      "    81         1          0.2      0.2      5.3          T=tools.get_tensor_distance(S,self.Sp,self.rot_tensor)\n",
      "    82         1          0.5      0.5     11.0          cost_distance=self.distance_cost(T,S)\n",
      "    83         1          0.0      0.0      0.0          return (cost_regcoil+cost_distance)"
     ],
     "name": "stdout"
    }
   ],
   "source": [
    "%lprun -u 1 -f full_grad.cost full_grad.cost(full_grad.S_parametrization)"
   ]
  },
  {
   "cell_type": "code",
   "execution_count": 4,
   "id": "c63171ec",
   "metadata": {
    "tags": []
   },
   "outputs": [
    {
     "output_type": "stream",
     "text": [
      "Timer unit: 1 s\n",
      "\n",
      "Total time: 20.9241 s\n",
      "File: main/full_gradient.py\n",
      "Function: grad_cost at line 84\n",
      "\n",
      "Line #      Hits         Time  Per Hit   % Time  Line Contents\n",
      "==============================================================\n",
      "    84                                               def grad_cost(self,paramS):\n",
      "    85         1          0.2      0.2      1.1          S=Toroidal_surface(paramS,(self.ntheta_coil,self.nzeta_coil),self.Np)\n",
      "    86         1         17.3     17.3     82.7          result=self.compute_gradient_of(S=S)\n",
      "    87         1          0.0      0.0      0.0          I_vector,I_matrix=result['I1']\n",
      "    88         1          0.6      0.6      2.7          X,Y=self.gradient_cost_distance(result['T'],S)\n",
      "    89         1          2.8      2.8     13.1          theta,dtildetheta,dtheta,dSdtheta=S.get_theta_pertubation()\n",
      "    90         1          0.1      0.1      0.3          grad=np.einsum('ija,oija,ij->o',I_vector,theta,S.dS/S.npts)+np.einsum('ijab,oijab,ij->o',I_matrix,dtildetheta,S.dS/S.npts)\n",
      "    91         1          0.0      0.0      0.1          grad+=np.einsum('oijl,ijl,ij->o',theta,X,S.dS/S.npts)+np.einsum('ij,oij->o',Y,dSdtheta/S.npts)\n",
      "    92         1          0.0      0.0      0.0          return grad"
     ],
     "name": "stdout"
    }
   ],
   "source": [
    "%lprun -u 1 -f full_grad.grad_cost full_grad.grad_cost(full_grad.S_parametrization)"
   ]
  },
  {
   "cell_type": "code",
   "execution_count": null,
   "id": "4e4d5b25",
   "metadata": {},
   "outputs": [
    {
     "name": "stderr",
     "output_type": "stream",
     "text": [
      "tornado.application - ERROR - Exception in callback functools.partial(<bound method IOLoop._discard_future_result of <zmq.eventloop.ioloop.ZMQIOLoop object at 0x7fcdf968f520>>, <Task finished name='Task-162364' coro=<Worker.heartbeat() done, defined at /users/home/robin/miniconda3/envs/shape_opti/lib/python3.9/site-packages/distributed/worker.py:941> exception=RuntimeError('dictionary changed size during iteration')>)\n",
      "Traceback (most recent call last):\n",
      "  File \"/users/home/robin/miniconda3/envs/shape_opti/lib/python3.9/site-packages/tornado/ioloop.py\", line 741, in _run_callback\n",
      "    ret = callback()\n",
      "  File \"/users/home/robin/miniconda3/envs/shape_opti/lib/python3.9/site-packages/tornado/ioloop.py\", line 765, in _discard_future_result\n",
      "    future.result()\n",
      "  File \"/users/home/robin/miniconda3/envs/shape_opti/lib/python3.9/site-packages/distributed/worker.py\", line 955, in heartbeat\n",
      "    executing={\n",
      "  File \"/users/home/robin/miniconda3/envs/shape_opti/lib/python3.9/site-packages/distributed/worker.py\", line 955, in <dictcomp>\n",
      "    executing={\n",
      "RuntimeError: dictionary changed size during iteration\n",
      "tornado.application - ERROR - Exception in callback functools.partial(<bound method IOLoop._discard_future_result of <zmq.eventloop.ioloop.ZMQIOLoop object at 0x7fcdf968f520>>, <Task finished name='Task-192070' coro=<Worker.heartbeat() done, defined at /users/home/robin/miniconda3/envs/shape_opti/lib/python3.9/site-packages/distributed/worker.py:941> exception=RuntimeError('dictionary changed size during iteration')>)\n",
      "Traceback (most recent call last):\n",
      "  File \"/users/home/robin/miniconda3/envs/shape_opti/lib/python3.9/site-packages/tornado/ioloop.py\", line 741, in _run_callback\n",
      "    ret = callback()\n",
      "  File \"/users/home/robin/miniconda3/envs/shape_opti/lib/python3.9/site-packages/tornado/ioloop.py\", line 765, in _discard_future_result\n",
      "    future.result()\n",
      "  File \"/users/home/robin/miniconda3/envs/shape_opti/lib/python3.9/site-packages/distributed/worker.py\", line 955, in heartbeat\n",
      "    executing={\n",
      "  File \"/users/home/robin/miniconda3/envs/shape_opti/lib/python3.9/site-packages/distributed/worker.py\", line 955, in <dictcomp>\n",
      "    executing={\n",
      "RuntimeError: dictionary changed size during iteration\n"
     ]
    }
   ],
   "source": [
    "import scipy.optimize\n",
    "optimize_shape=scipy.optimize.minimize(f, S_param, method='CG', jac=gradf,options={'maxiter':100,'return_all':True})"
   ]
  },
  {
   "cell_type": "code",
   "execution_count": null,
   "id": "47da03b6",
   "metadata": {},
   "outputs": [],
   "source": [
    "print(optimize_shape)"
   ]
  }
 ],
 "metadata": {
  "kernelspec": {
   "name": "python3610jvsc74a57bd083f3a2e6ed4cf306ad33acdab3ab64be7f79675a8caa53dc80db113b255806ee",
   "display_name": "Python 3.6.10 64-bit ('fusion': conda)"
  },
  "language_info": {
   "codemirror_mode": {
    "name": "ipython",
    "version": 3
   },
   "file_extension": ".py",
   "mimetype": "text/x-python",
   "name": "python",
   "nbconvert_exporter": "python",
   "pygments_lexer": "ipython3",
   "version": "3.6.10"
  }
 },
 "nbformat": 4,
 "nbformat_minor": 5
}