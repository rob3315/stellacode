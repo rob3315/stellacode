{
 "cells": [
  {
   "cell_type": "markdown",
   "id": "04a3b4ec",
   "metadata": {},
   "source": [
    "### How to compute the cost of one surface with Stellacage code"
   ]
  },
  {
   "cell_type": "code",
   "execution_count": 1,
   "id": "7a577e23",
   "metadata": {},
   "outputs": [
    {
     "name": "stdout",
     "output_type": "stream",
     "text": [
      "current directory is /home/rrobin/Documents/Stellacage_code\n"
     ]
    }
   ],
   "source": [
    "# Basic import\n",
    "import os,sys\n",
    "import numpy as np\n",
    "# We go up once to exit the example folder\n",
    "if os.getcwd().split('/')[-1]=='examples':\n",
    "    os.chdir('../')\n",
    "print('current directory is {}'.format(os.getcwd()))\n",
    "import numpy as np\n",
    "# Full_shape_gradient is the main class to compute cost and shape gradient\n",
    "from src.costs.full_shape_gradient import Full_shape_gradient\n",
    "# We set the logging level to INFO to have a verbose program\n",
    "import logging\n",
    "logging.basicConfig(level=logging.INFO)"
   ]
  },
  {
   "cell_type": "markdown",
   "id": "97fe5cba",
   "metadata": {},
   "source": [
    "to initialize an object from Full_shape_gradient, we need to write a config file.\n",
    "\n",
    "We will use a default one located in ./config_file/config.ini\n"
   ]
  },
  {
   "cell_type": "code",
   "execution_count": 2,
   "id": "b5c707d7",
   "metadata": {
    "scrolled": true
   },
   "outputs": [
    {
     "name": "stdout",
     "output_type": "stream",
     "text": [
      "[geometry]\n",
      "np = 3\n",
      "ntheta_plasma = 64\n",
      "ntheta_coil = 64\n",
      "nzeta_plasma = 64\n",
      "nzeta_coil = 64\n",
      "mpol_coil = 8\n",
      "ntor_coil = 8\n",
      "path_plasma = data/li383/plasma_surf.txt\n",
      "path_cws = data/li383/cws.txt\n",
      "\n",
      "[other]\n",
      "path_bnorm = data/li383/bnorm.txt\n",
      "net_poloidal_current_amperes = 11884578.094260072\n",
      "net_toroidal_current_amperes = 0.\n",
      "curpol = 4.9782004309255496\n",
      "path_output = output_test2\n",
      "lamb = 1.2e-14\n",
      "dask = True\n",
      "cupy = False\n",
      "\n",
      "\n",
      "[dask_parameters]\n",
      "chunk_theta_coil=32\n",
      "chunk_zeta_coil=32\n",
      "chunk_theta_plasma=32\n",
      "chunk_zeta_plasma=32\n",
      "chunk_theta=17\n",
      "\n",
      "[optimization_parameters]\n",
      "freq_save=100\n",
      "max_iter=2000\n",
      "d_min=True\n",
      "d_min_hard = 0.18\n",
      "d_min_soft= 0.19\n",
      "d_min_penalization=1000\n",
      "perim=True\n",
      "perim_c0=56\n",
      "perim_c1=60\n",
      "curvature=True\n",
      "curvature_c0=13\n",
      "curvature_c1=15\n"
     ]
    }
   ],
   "source": [
    "path_config_file='config_file/config.ini'\n",
    "# We print the config file\n",
    "with open(path_config_file,'r') as f:\n",
    "    print(f.read())"
   ]
  },
  {
   "cell_type": "code",
   "execution_count": 3,
   "id": "2d0a88ce",
   "metadata": {},
   "outputs": [],
   "source": [
    "# Now we can generate our Full_shape_gradient object\n",
    "full_grad=Full_shape_gradient(path_config_file=path_config_file)"
   ]
  },
  {
   "cell_type": "markdown",
   "id": "55b277bc",
   "metadata": {},
   "source": [
    "full_grad have two useful functions : cost and shape_grad. Both needs a 1D array parametrizing the CWS to work.\n",
    "\n",
    "By default, full_grad store the surface parameters of the CWS given by the config file as full_grad.init_param"
   ]
  },
  {
   "cell_type": "code",
   "execution_count": 4,
   "id": "bc6eabb1",
   "metadata": {
    "scrolled": true
   },
   "outputs": [
    {
     "name": "stderr",
     "output_type": "stream",
     "text": [
      "INFO:root:Chi_B : 1.366275e-01, Chi_j : 1.000214e+14, EM cost : 1.336885e+00\n",
      "INFO:root:sup j 3.943591e+06, sup B_err : 2.674856e-01\n",
      "INFO:root:min_distance 1.919394e-01 m, Distance cost : 0.000000e+00\n",
      "INFO:root:perimeter :5.567741e+01 m^2, perimeter cost : 0.000000e+00\n",
      "INFO:root:maximal curvature 1.185919e+01 m^-1, curvature cost : 0.000000e+00\n",
      "INFO:root:Total cost : 1.336885e+00\n"
     ]
    },
    {
     "name": "stdout",
     "output_type": "stream",
     "text": [
      "the cost of this my CWS is 1.34e+00\n"
     ]
    }
   ],
   "source": [
    "S_parametrization=full_grad.init_param\n",
    "# We can compute the cost of this surface\n",
    "first_cost=full_grad.cost(S_parametrization)\n",
    "print('the cost of this my CWS is {:.2e}'.format(first_cost))"
   ]
  },
  {
   "cell_type": "code",
   "execution_count": 7,
   "id": "b468f18c",
   "metadata": {},
   "outputs": [],
   "source": [
    "#To compute the shape gradient, we only have to use full_grad.shape_gradient()\n",
    "shape_grad=full_grad.shape_gradient(S_parametrization) #can take some time, and use some memory\n",
    "#typically ???"
   ]
  },
  {
   "cell_type": "markdown",
   "id": "d38b0f30",
   "metadata": {},
   "source": [
    "first_cost"
   ]
  }
 ],
 "metadata": {
  "kernelspec": {
   "display_name": "Python 3",
   "language": "python",
   "name": "python3"
  },
  "language_info": {
   "codemirror_mode": {
    "name": "ipython",
    "version": 3
   },
   "file_extension": ".py",
   "mimetype": "text/x-python",
   "name": "python",
   "nbconvert_exporter": "python",
   "pygments_lexer": "ipython3",
   "version": "3.6.10"
  }
 },
 "nbformat": 4,
 "nbformat_minor": 5
}
