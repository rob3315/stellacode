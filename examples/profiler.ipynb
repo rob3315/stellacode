{
 "cells": [
  {
   "cell_type": "code",
   "execution_count": 1,
   "id": "e381d7c7-4892-4699-af31-2bac915c5732",
   "metadata": {},
   "outputs": [],
   "source": [
    "import os,sys\n",
    "import numpy as np\n",
    "import logging\n",
    "import sys,time\n",
    "#sys.path.append('../')\n",
    "os.chdir('../')\n",
    "%load_ext line_profiler\n",
    "from src.costs.full_shape_gradient import Full_shape_gradient"
   ]
  },
  {
   "cell_type": "code",
   "execution_count": 2,
   "id": "3a0aae6c-76b7-41bb-a54d-3b89ccf38b2e",
   "metadata": {},
   "outputs": [],
   "source": [
    "full_grad=Full_shape_gradient(path_config_file='config_file/config_full.ini')\n",
    "init_param=full_grad.init_param"
   ]
  },
  {
   "cell_type": "code",
   "execution_count": 3,
   "metadata": {},
   "outputs": [],
   "source": [
    "from src.costs.EM_cost import EM_cost_dask"
   ]
  },
  {
   "cell_type": "code",
   "execution_count": 4,
   "id": "3de35825-09aa-4c1d-a7ac-03088e925f44",
   "metadata": {},
   "outputs": [
    {
     "output_type": "stream",
     "name": "stdout",
     "text": [
      "1 loop, best of 3: 4.74 s per loop\n"
     ]
    }
   ],
   "source": [
    "%timeit full_grad.cost(init_param)"
   ]
  },
  {
   "cell_type": "code",
   "execution_count": 5,
   "metadata": {
    "tags": []
   },
   "outputs": [
    {
     "output_type": "stream",
     "text": [
      "Timer unit: 1 s\n",
      "\n",
      "Total time: 3.96789 s\n",
      "File: /home/rrobin/Documents/Stellacage_code/src/costs/EM_cost.py\n",
      "Function: EM_cost_dask at line 84\n",
      "\n",
      "Line #      Hits         Time  Per Hit   % Time  Line Contents\n",
      "==============================================================\n",
      "    84                                           def EM_cost_dask(config,S,Sp):\n",
      "    85                                               #new version without Lagrange multipliers\n",
      "    86         1          0.0      0.0      0.0      import dask.array as da\n",
      "    87                                               #initilization of the parameters\n",
      "    88         1          0.0      0.0      0.0      lamb = float(config['other']['lamb'])\n",
      "    89         1          0.0      0.0      0.0      Np = int(config['geometry']['Np'])\n",
      "    90         1          0.0      0.0      0.0      ntheta_plasma = int(config['geometry']['ntheta_plasma'])\n",
      "    91         1          0.0      0.0      0.0      ntheta_coil   = int(config['geometry']['ntheta_coil'])\n",
      "    92         1          0.0      0.0      0.0      nzeta_plasma = int(config['geometry']['nzeta_plasma'])\n",
      "    93         1          0.0      0.0      0.0      nzeta_coil   = int(config['geometry']['nzeta_coil'])\n",
      "    94         1          0.0      0.0      0.0      mpol_coil  = int(config['geometry']['mpol_coil'])\n",
      "    95         1          0.0      0.0      0.0      ntor_coil  = int(config['geometry']['ntor_coil'])\n",
      "    96         1          0.0      0.0      0.0      net_poloidal_current_Amperes = float(config['other']['net_poloidal_current_Amperes'])/Np#11884578.094260072\n",
      "    97         1          0.0      0.0      0.0      net_toroidal_current_Amperes = float(config['other']['net_toroidal_current_Amperes'])#0\n",
      "    98         1          0.0      0.0      0.0      curpol=float(config['other']['curpol'])#4.9782004309255496\n",
      "    99         1          0.0      0.0      0.0      phisize=(mpol_coil,ntor_coil)\n",
      "   100         1          0.0      0.0      0.0      path_plasma=str(config['geometry']['path_plasma'])#'code/li383/plasma_surf.txt'\n",
      "   101         1          0.0      0.0      0.0      path_cws=str(config['geometry']['path_cws'])#'code/li383/cws.txt'\n",
      "   102         1          0.0      0.0      0.0      path_bnorm=str(config['other']['path_bnorm'])#'code/li383/bnorm.txt'\n",
      "   103         1          0.0      0.0      0.0      path_output=str(config['other']['path_output'])#'coeff_full_opt'\n",
      "   104         1          0.0      0.0      0.0      cupy = config['other']['cupy']=='True' # dask is needed to use cupy\n",
      "   105                                           \n",
      "   106         1          0.0      0.0      0.0      chunk_theta_coil=int(config['dask_parameters']['chunk_theta_coil'])\n",
      "   107         1          0.0      0.0      0.0      chunk_zeta_coil=int(config['dask_parameters']['chunk_zeta_coil'])\n",
      "   108         1          0.0      0.0      0.0      chunk_theta_plasma=int(config['dask_parameters']['chunk_theta_plasma'])\n",
      "   109         1          0.0      0.0      0.0      chunk_zeta_plasma=int(config['dask_parameters']['chunk_zeta_plasma'])\n",
      "   110         1          0.0      0.0      0.0      chunk_theta=int(config['dask_parameters']['chunk_theta'])\n",
      "   111                                           \n",
      "   112                                               #initialization of the surfaces\n",
      "   113         1          0.0      0.0      0.0      if S is None:\n",
      "   114                                                   S_parametrization=Surface_Fourier.load_file(path_cws)\n",
      "   115                                                   S=Surface_Fourier(S_parametrization,(ntheta_coil,nzeta_coil),Np)\n",
      "   116         1          0.0      0.0      0.0      if Sp is None:\n",
      "   117                                                   Sp_parametrization=Surface_Fourier.load_file(path_plasma)\n",
      "   118                                                   Sp=Surface_Fourier(Sp_parametrization,(ntheta_plasma,nzeta_plasma),Np)\n",
      "   119                                           \n",
      "   120         1          0.0      0.0      0.0      if cupy:\n",
      "   121                                                   import cupy as cp\n",
      "   122                                                   f= lambda x : x.map_blocks(cp.asarray,dtype=np.float64)\n",
      "   123                                                   f_np= lambda x : cp.asarray(x)\n",
      "   124                                                   get=lambda x : x.get()\n",
      "   125                                               else : \n",
      "   126         1          0.0      0.0      0.0          f,f_np,get = lambda x : x,lambda x : x,lambda x : x\n",
      "   127                                               #tensors computations\n",
      "   128         1          0.0      0.0      0.0      rot_tensor=tools.get_rot_tensor(Np)\n",
      "   129         1          0.2      0.2      5.8      T=tools.get_tensor_distance(S,Sp,rot_tensor)\n",
      "   130         1          0.0      0.0      0.0      rot_tensor=f_np(rot_tensor)\n",
      "   131         1          1.0      1.0     26.1      T=f(da.from_array(T,chunks=(3,chunk_theta_coil,chunk_zeta_coil,chunk_theta_plasma,chunk_zeta_plasma,3), asarray=False))\n",
      "   132         1          0.1      0.1      1.4      matrixd_phi=f(da.from_array(tools.get_matrix_dPhi(phisize,S.grids),chunks={1:chunk_theta_coil,2:chunk_zeta_coil}, asarray=False))\n",
      "   133         1          0.0      0.0      0.0      dpsi= f(da.from_array(S.jac_xyz,chunks=(2,3,chunk_theta_coil,chunk_zeta_coil), asarray=False))\n",
      "   134         1          0.0      0.0      0.0      normalp= f(da.from_array(Sp.n,chunks=(3,chunk_theta_plasma,chunk_zeta_plasma), asarray=False))\n",
      "   135         1          0.0      0.0      0.0      S_dS= f(da.from_array(S.ds,chunks=(chunk_theta_coil,chunk_zeta_coil), asarray=False))\n",
      "   136         1          0.0      0.0      0.2      D=1/(da.linalg.norm(T,axis=-1)**3)\n",
      "   137         1          0.0      0.0      0.2      DD=1/(da.linalg.norm(T,axis=-1)**5)\n",
      "   138         1          0.0      0.0      0.0      eijk= f_np(tools.eijk)\n",
      "   139         1          0.0      0.0      0.4      Qj=tools.compute_Qj(matrixd_phi,dpsi,S_dS)\n",
      "   140         1          0.0      0.0      0.0      K=np.einsum('sijpqa,sijpq->sijpqa',T,D)\n",
      "   141         1          0.0      0.0      0.5      LS=(mu_0/(4*np.pi))*contract('sijpqa,tijh,sbc,hcij,dab,dpq->tpq',K,matrixd_phi,rot_tensor,dpsi,eijk,normalp,optimize=True)/(ntheta_coil*nzeta_coil)\n",
      "   142                                           \n",
      "   143         1          0.1      0.1      1.8      Qj=get(Qj.compute())\n",
      "   144         1          1.7      1.7     43.8      LS=get(LS.compute())\n",
      "   145         1          0.2      0.2      4.2      BT=-curpol*bnorm.get_bnorm(path_bnorm,Sp)\n",
      "   146                                               ### Regcoil:\n",
      "   147         1          0.0      0.0      0.0      EM_cost_output={}\n",
      "   148                                               #WARNING : we restrict our space to hangle a constraint free pb\n",
      "   149         1          0.0      0.0      0.0      LS_R=LS[2:]\n",
      "   150         1          0.0      0.0      0.3      Qj_inv_R=np.linalg.inv(Qj[2:,2:])\n",
      "   151         1          0.4      0.4     10.1      LS_dagger_R=np.einsum('ut,tij,ij->uij',Qj_inv_R,LS_R,Sp.ds/Sp.npts)\n",
      "   152         1          0.2      0.2      4.9      inside_M_lambda_R= lamb*np.eye(LS_R.shape[0])+np.einsum('tpq,upq->tu',LS_dagger_R,LS_R)\n",
      "   153         1          0.0      0.0      0.0      M_lambda_R=np.linalg.inv(inside_M_lambda_R)\n",
      "   154                                               \n",
      "   155                                               # we compute the full Right Hand Side\n",
      "   156         1          0.0      0.0      0.0      B_tilde=BT-np.einsum('tpq,t',LS[:2],[net_poloidal_current_Amperes ,net_toroidal_current_Amperes])\n",
      "   157         1          0.0      0.0      0.0      LS_dagger_B_tilde=np.einsum('hpq,pq->h',LS_dagger_R,B_tilde)\n",
      "   158         1          0.0      0.0      0.0      RHS=LS_dagger_B_tilde-lamb*Qj_inv_R@Qj[2:,:2]@[net_poloidal_current_Amperes ,net_toroidal_current_Amperes]\n",
      "   159         1          0.0      0.0      0.0      j_S_R= M_lambda_R@RHS\n",
      "   160         1          0.0      0.0      0.0      j_S=np.concatenate(([net_poloidal_current_Amperes,net_toroidal_current_Amperes],j_S_R))\n",
      "   161                                               \n",
      "   162                                               # we save the results\n",
      "   163                                           \n",
      "   164         1          0.0      0.0      0.0      B_err= np.einsum('hpq,h',LS,j_S)- BT\n",
      "   165         1          0.0      0.0      0.0      EM_cost_output['err_max_B']=np.max(np.abs(B_err))\n",
      "   166         1          0.0      0.0      0.2      EM_cost_output['max_j']=np.max(np.linalg.norm(np.einsum('oijk,kdij,ij,o->ijd',get(matrixd_phi.compute()),S.jac_xyz,1/S.ds,j_S,optimize=True),axis=2))\n",
      "   167         1          0.0      0.0      0.0      EM_cost_output['cost_B']=Np*np.einsum('pq,pq,pq->',B_err,B_err,Sp.ds/Sp.npts)\n",
      "   168         1          0.0      0.0      0.0      EM_cost_output['cost_J']=Np*np.einsum('i,ij,j->',j_S,Qj,j_S)\n",
      "   169         1          0.0      0.0      0.0      EM_cost_output['cost']=EM_cost_output['cost_B']+lamb*EM_cost_output['cost_J']\n",
      "   170         1          0.0      0.0      0.0      return EM_cost_output"
     ],
     "name": "stdout"
    }
   ],
   "source": [
    "%lprun -u 1 -f EM_cost_dask full_grad.cost(init_param)"
   ]
  },
  {
   "cell_type": "code",
   "execution_count": 9,
   "metadata": {},
   "outputs": [
    {
     "output_type": "stream",
     "text": [
      "Timer unit: 1 s\n",
      "\n",
      "Total time: 6.82874 s\n",
      "File: main/cost_surface.py\n",
      "Function: cost_surface at line 9\n",
      "\n",
      "Line #      Hits         Time  Per Hit   % Time  Line Contents\n",
      "==============================================================\n",
      "     9                                           def cost_surface(config,S=None,Sp=None):\n",
      "    10         1          0.0      0.0      0.0      if config['other']['dask']=='True':\n",
      "    11         1          6.8      6.8    100.0          return cost_surface_dask(config,S,Sp)\n",
      "    12                                               else:\n",
      "    13                                                   return cost_surface_without_dask(config,S,Sp)"
     ],
     "name": "stdout"
    }
   ],
   "source": [
    "config['other']['dask']='True'\n",
    "%lprun -u 1 -f cost_surface cost_surface(config)"
   ]
  },
  {
   "cell_type": "code",
   "execution_count": 5,
   "metadata": {},
   "outputs": [
    {
     "output_type": "stream",
     "name": "stdout",
     "text": [
      "1 loop, best of 3: 12.9 s per loop\n"
     ]
    }
   ],
   "source": [
    "%timeit cost_surface(config)"
   ]
  },
  {
   "cell_type": "code",
   "execution_count": 4,
   "id": "e5e0800e-68b6-4060-8034-04622e4466b6",
   "metadata": {},
   "outputs": [],
   "source": [
    "result={}\n",
    "#same as regcoil param exept S which is given directly\n",
    "#initilization of the parameters\n",
    "lamb = regcoil_param.lamb\n",
    "Np = regcoil_param.Np\n",
    "path_plasma = regcoil_param.path_plasma\n",
    "path_bnorm = regcoil_param.path_bnorm\n",
    "net_poloidal_current_Amperes = regcoil_param.net_poloidal_current_Amperes\n",
    "net_toroidal_current_Amperes = regcoil_param.net_toroidal_current_Amperes\n",
    "ntheta_plasma = regcoil_param.ntheta_plasma\n",
    "nzeta_plasma = regcoil_param.nzeta_plasma\n",
    "phisize = regcoil_param.phisize\n",
    "curpol= regcoil_param.curpol\n",
    "\n",
    "#initialization of the plasma surface\n",
    "Sp_parametrization=Toroidal_surface.load_file(path_plasma)\n",
    "Sp=Toroidal_surface(Sp_parametrization,(ntheta_plasma,nzeta_plasma),Np)\n",
    "#standard regcoil computations\n",
    "rot_tensor=vector_field.get_rot_tensor(Np)\n",
    "T=vector_field.get_tensor_distance(S,Sp,rot_tensor)\n",
    "matrixd_phi=vector_field.get_matrix_dPhi(phisize,S.grids)\n",
    "Qj=vector_field.compute_Qj(matrixd_phi,S.jac_xyz,S.ds)\n",
    "array_bnorm=curpol*bnorm.get_bnorm(path_bnorm,Sp)\n",
    "theta,dtildetheta,dtheta,dSdtheta=S.get_theta_pertubation()\n",
    "dpsi=S.jac_xyz\n",
    "normalp=Sp.n"
   ]
  },
  {
   "cell_type": "code",
   "execution_count": 5,
   "id": "f398af36-3c47-4708-8ce3-38f57203e275",
   "metadata": {},
   "outputs": [],
   "source": [
    "\n",
    "_,lu1,lv1,_=matrixd_phi.shape\n",
    "D=1/(np.linalg.norm(T,axis=-1)**3)\n",
    "DD=1/(np.linalg.norm(T,axis=-1)**5)\n",
    "#for cross product\n",
    "eijk = np.zeros((3, 3, 3))\n",
    "eijk[0, 1, 2] = eijk[1, 2, 0] = eijk[2, 0, 1] = 1\n",
    "eijk[0, 2, 1] = eijk[2, 1, 0] = eijk[1, 0, 2] = -1\n",
    "#the terrible formula...\n",
    "#first dT/dtheta\n",
    "#dLS=-contract('inb,ajkb,ojkw,ipz,wzjk,qnp,ijklm,qlm->aolm',rot_tensor,theta,matrixd_phi,rot_tensor,dpsi,eijk,D,normalp,optimize=True)/(lu1*lv1)\n",
    "#then the -3(x-y,h)(x-y)\n",
    "\n",
    "#dLS+=3*contract('ibc,ajkc,ijklmb,ijklmn,ojkw,ipz,wzjk,qnp,ijklm,qlm->aolm',rot_tensor,theta,T,T,matrixd_phi,rot_tensor,dpsi,eijk,D,normalp,optimize=True)/(lu1*lv1)\n",
    "#finally the dpsi/dtheta part\n",
    "#dLS=np.einsum('inb,ajkb,ojkw,ipz,wzjk,qnp,ijklm,qlm->aolm',rot_tensor,theta,matrixd_phi,rot_tensor,dpsi,eijk,D,normalp,optimize=True)\n",
    "\n",
    "#dLS+=contract('ijklmn,ojkw,ipz,ajkbz,wbjk,qnp,ijklm,qlm->aolm',T,matrixd_phi,rot_tensor,dtildetheta,dpsi,eijk,D,normalp,optimize=True)/(lu1*lv1)"
   ]
  },
  {
   "cell_type": "code",
   "execution_count": 6,
   "id": "819d4965-7a2d-42ce-8f16-35458a570b95",
   "metadata": {},
   "outputs": [],
   "source": [
    "#%timeit contract('inb,ajkb,ojkw,ipz,wzjk,qnp,ijklm,qlm->aolm',rot_tensor,theta,matrixd_phi,rot_tensor,dpsi,eijk,D,normalp,optimize=True)/(lu1*lv1)"
   ]
  },
  {
   "cell_type": "code",
   "execution_count": null,
   "id": "ffe17cbd-52bc-4eb4-8cdb-10a0b4f48ff8",
   "metadata": {},
   "outputs": [],
   "source": [
    "t0=time.time()\n",
    "dLS=contract('inb,ajkb,ojkw,ipz,wzjk,qnp,ijklm,qlm->aolm',rot_tensor,theta,matrixd_phi,rot_tensor,dpsi,eijk,D,normalp,optimize=True)/(lu1*lv1)\n",
    "print(time.time()-t0)"
   ]
  },
  {
   "cell_type": "code",
   "execution_count": null,
   "id": "1680602c-acc5-4064-a5e1-8da21b5cc2e8",
   "metadata": {},
   "outputs": [],
   "source": [
    "import cupy as cp\n",
    "import time\n",
    "import opt_einsum as oe"
   ]
  },
  {
   "cell_type": "code",
   "execution_count": null,
   "id": "48d7d190-88cd-45a0-b1b0-7ef339d7d563",
   "metadata": {},
   "outputs": [],
   "source": [
    "mempool = cp.get_default_memory_pool()\n",
    "pinned_mempool = cp.get_default_pinned_memory_pool()\n",
    "mempool.free_all_blocks()\n",
    "print('{:,}'.format(mempool.used_bytes()))\n",
    "print('{:,}'.format(mempool.total_bytes()))\n",
    "print('{:,}'.format(T.nbytes))\n",
    "#print(dLS.shape,matrixd_phi.shape)"
   ]
  },
  {
   "cell_type": "code",
   "execution_count": null,
   "id": "3dc44cbe-b97f-479b-8199-0b5a3716aab6",
   "metadata": {},
   "outputs": [],
   "source": [
    "chunk_lu=32\n",
    "chunk_lv=32\n",
    "chunk_lu_plasma=32\n",
    "chunk_lv_plasma=32\n",
    "chunk_theta=17\n",
    "dask_rot_tensor = da.from_array(rot_tensor, asarray=False)\n",
    "dask_theta=da.from_array(theta,chunks=(chunk_theta,chunk_lu,chunk_lv,3), asarray=False)\n",
    "dask_matrixd_phi=da.from_array(matrixd_phi,chunks={1:chunk_lu,2:chunk_lv}, asarray=False)\n",
    "dask_dpsi=da.from_array(dpsi,chunks=(2,3,chunk_lu,chunk_lv), asarray=False)\n",
    "dask_eijk=da.from_array(eijk, asarray=False)\n",
    "dask_normalp=da.from_array(normalp, asarray=False)\n",
    "dask_D=da.from_array(D,chunks=(3,chunk_lu,chunk_lv,chunk_lu_plasma,chunk_lv_plasma), asarray=False)\n",
    "dask_T=da.from_array(T,chunks=(3,chunk_lu,chunk_lv,chunk_lu_plasma,chunk_lv_plasma,3), asarray=False)\n",
    "dask_dtildetheta=da.from_array(dtildetheta,chunks=(chunk_theta,chunk_lu,chunk_lv,3,3), asarray=False)\n",
    "\n",
    "\n",
    "#theta_cupy=cp.asarray(theta)\n",
    "#dpsi_cupy=cp.asarray(dpsi)\n",
    "#eijk_cupy=cp.asarray(eijk)\n",
    "#D_cupy=cp.asarray(D)\n",
    "#normalp_cupy=cp.asarray(normalp)\n",
    "#T_cupy=cp.asarray(T)"
   ]
  },
  {
   "cell_type": "code",
   "execution_count": null,
   "id": "d59fff45-246b-4f3e-97ba-01bfecb3cf04",
   "metadata": {},
   "outputs": [],
   "source": [
    "#elts=[dask_rot_tensor,dask_theta,dask_matrixd_phi,dask_dpsi,dask_eijk,dask_D,dask_normalp,dask_T]\n",
    "dtype=np.float32\n",
    "dtype=np.float64\n",
    "\n",
    "if False:\n",
    "    dask_rot_tensor=dask_rot_tensor.map_blocks(cp.asarray,dtype=dtype)\n",
    "    dask_theta=dask_theta.map_blocks(cp.asarray,dtype=dtype)\n",
    "    dask_matrixd_phi=dask_matrixd_phi.map_blocks(cp.asarray,dtype=dtype)\n",
    "    dask_dpsi=dask_dpsi.map_blocks(cp.asarray,dtype=dtype)\n",
    "    dask_eijk=dask_eijk.map_blocks(cp.asarray,dtype=dtype)\n",
    "    dask_D=dask_D.map_blocks(cp.asarray,dtype=dtype)\n",
    "    dask_normalp=dask_normalp.map_blocks(cp.asarray,dtype=dtype)\n",
    "    dask_T=dask_T.map_blocks(cp.asarray,dtype=dtype)\n",
    "#for elt in elts:\n",
    "#    elt = elt.map_blocks(cp.asarray)\n",
    "#    print(elt)"
   ]
  },
  {
   "cell_type": "code",
   "execution_count": null,
   "id": "50197eeb-be7a-490f-9498-7eb8679585a5",
   "metadata": {},
   "outputs": [],
   "source": [
    "dask_theta"
   ]
  },
  {
   "cell_type": "code",
   "execution_count": null,
   "id": "cd860d49-d461-4e86-a954-463cec816212",
   "metadata": {},
   "outputs": [],
   "source": [
    "first_expr = oe.contract_expression('inb,ajkb,ojkw,ipz,wzjk,qnp,ijklm,qlm->aolm',rot_tensor.shape,theta.shape,matrixd_phi.shape,rot_tensor.shape,dpsi.shape,eijk.shape,D.shape,normalp.shape)\n",
    "#dask_exp1=first_expr(dask_rot_tensor,dask_theta,dask_matrixd_phi,dask_rot_tensor,dask_dpsi,dask_eijk,dask_D,dask_normalp)/(lu1*lv1)\n",
    "dask_exp1=da.einsum('inb,ajkb,ojkw,ipz,wzjk,qnp,ijklm,qlm->aolm',dask_rot_tensor,dask_theta,dask_matrixd_phi,dask_rot_tensor,dask_dpsi,dask_eijk,dask_D,dask_normalp)/(lu1*lv1)\n",
    "dask_exp2=first_expr(dask_rot_tensor,dask_theta,dask_matrixd_phi,dask_rot_tensor,dask_dpsi,dask_eijk,dask_D,dask_normalp)/(lu1*lv1)"
   ]
  },
  {
   "cell_type": "code",
   "execution_count": null,
   "id": "7ba57e95-e830-4f81-a583-a1fb91b69cd2",
   "metadata": {},
   "outputs": [],
   "source": [
    "dLS_dask=-contract('inb,ajkb,ojkw,ipz,wzjk,qnp,ijklm,qlm->aolm',dask_rot_tensor,dask_theta,dask_matrixd_phi,dask_rot_tensor,dask_dpsi,dask_eijk,dask_D,dask_normalp,optimize=True)/(lu1*lv1)\n",
    "#then the -3(x-y,h)(x-y)\n",
    "\n",
    "dLS_dask+=3*contract('ibc,ajkc,ijklmb,ijklmn,ojkw,ipz,wzjk,qnp,ijklm,qlm->aolm',dask_rot_tensor,dask_theta,dask_T,dask_T,dask_matrixd_phi,dask_rot_tensor,dask_dpsi,dask_eijk,dask_D,dask_normalp,optimize=True)/(lu1*lv1)\n",
    "#finally the dpsi/dtheta part\n",
    "#dLS=np.einsum('inb,ajkb,ojkw,ipz,wzjk,qnp,ijklm,qlm->aolm',rot_tensor,theta,matrixd_phi,rot_tensor,dpsi,eijk,D,normalp,optimize=True)\n",
    "\n",
    "dLS_dask+=contract('ijklmn,ojkw,ipz,ajkbz,wbjk,qnp,ijklm,qlm->aolm',dask_T,dask_matrixd_phi,dask_rot_tensor,dask_dtildetheta,dask_dpsi,dask_eijk,dask_D,dask_normalp,optimize=True)/(lu1*lv1)"
   ]
  },
  {
   "cell_type": "code",
   "execution_count": null,
   "id": "a06dd1a0-7fde-4528-8f72-c41bdfa720af",
   "metadata": {
    "tags": []
   },
   "outputs": [],
   "source": [
    "print('{:,}'.format(mempool.used_bytes()))\n",
    "print('{:,}'.format(mempool.total_bytes()))\n",
    "print('{:,}'.format(T.nbytes))\n",
    "#dask_exp2.visualize(rankdir=\"LR\")\n",
    "print(first_expr)"
   ]
  },
  {
   "cell_type": "code",
   "execution_count": null,
   "id": "f12f5888-5fc5-4191-9207-ad6ad23c276f",
   "metadata": {
    "tags": []
   },
   "outputs": [],
   "source": [
    "#dask_exp2.visualize(rankdir=\"LR\")\n",
    "from dask.diagnostics import Profiler, ResourceProfiler, CacheProfiler"
   ]
  },
  {
   "cell_type": "code",
   "execution_count": null,
   "id": "9e0f77c5-7f75-46a4-8fc8-00131252e5a5",
   "metadata": {},
   "outputs": [],
   "source": [
    "t0=time.time()\n",
    "with Profiler() as prof, ResourceProfiler(dt=0.25) as rprof, CacheProfiler() as cprof:\n",
    "    dask_exp2.compute()\n",
    "    #dask_exp1.compute()\n",
    "    #dLS_dask.compute()\n",
    "print(time.time()-t0)"
   ]
  },
  {
   "cell_type": "code",
   "execution_count": 18,
   "id": "ab50ec81-cf5c-40b8-9d11-e9ba56a7e91b",
   "metadata": {},
   "outputs": [
    {
     "data": {
      "text/html": [
       "<div style=\"display: table;\"><div style=\"display: table-row;\"><div style=\"display: table-cell;\"><b title=\"bokeh.models.layouts.Column\">Column</b>(</div><div style=\"display: table-cell;\">id&nbsp;=&nbsp;'1252', <span id=\"2092\" style=\"cursor: pointer;\">&hellip;)</span></div></div><div class=\"2091\" style=\"display: none;\"><div style=\"display: table-cell;\"></div><div style=\"display: table-cell;\">align&nbsp;=&nbsp;'start',</div></div><div class=\"2091\" style=\"display: none;\"><div style=\"display: table-cell;\"></div><div style=\"display: table-cell;\">aspect_ratio&nbsp;=&nbsp;None,</div></div><div class=\"2091\" style=\"display: none;\"><div style=\"display: table-cell;\"></div><div style=\"display: table-cell;\">background&nbsp;=&nbsp;None,</div></div><div class=\"2091\" style=\"display: none;\"><div style=\"display: table-cell;\"></div><div style=\"display: table-cell;\">children&nbsp;=&nbsp;[ToolbarBox(id='1251', ...), GridBox(id='1249', ...)],</div></div><div class=\"2091\" style=\"display: none;\"><div style=\"display: table-cell;\"></div><div style=\"display: table-cell;\">css_classes&nbsp;=&nbsp;[],</div></div><div class=\"2091\" style=\"display: none;\"><div style=\"display: table-cell;\"></div><div style=\"display: table-cell;\">disabled&nbsp;=&nbsp;False,</div></div><div class=\"2091\" style=\"display: none;\"><div style=\"display: table-cell;\"></div><div style=\"display: table-cell;\">height&nbsp;=&nbsp;None,</div></div><div class=\"2091\" style=\"display: none;\"><div style=\"display: table-cell;\"></div><div style=\"display: table-cell;\">height_policy&nbsp;=&nbsp;'auto',</div></div><div class=\"2091\" style=\"display: none;\"><div style=\"display: table-cell;\"></div><div style=\"display: table-cell;\">js_event_callbacks&nbsp;=&nbsp;{},</div></div><div class=\"2091\" style=\"display: none;\"><div style=\"display: table-cell;\"></div><div style=\"display: table-cell;\">js_property_callbacks&nbsp;=&nbsp;{},</div></div><div class=\"2091\" style=\"display: none;\"><div style=\"display: table-cell;\"></div><div style=\"display: table-cell;\">margin&nbsp;=&nbsp;(0, 0, 0, 0),</div></div><div class=\"2091\" style=\"display: none;\"><div style=\"display: table-cell;\"></div><div style=\"display: table-cell;\">max_height&nbsp;=&nbsp;None,</div></div><div class=\"2091\" style=\"display: none;\"><div style=\"display: table-cell;\"></div><div style=\"display: table-cell;\">max_width&nbsp;=&nbsp;None,</div></div><div class=\"2091\" style=\"display: none;\"><div style=\"display: table-cell;\"></div><div style=\"display: table-cell;\">min_height&nbsp;=&nbsp;None,</div></div><div class=\"2091\" style=\"display: none;\"><div style=\"display: table-cell;\"></div><div style=\"display: table-cell;\">min_width&nbsp;=&nbsp;None,</div></div><div class=\"2091\" style=\"display: none;\"><div style=\"display: table-cell;\"></div><div style=\"display: table-cell;\">name&nbsp;=&nbsp;None,</div></div><div class=\"2091\" style=\"display: none;\"><div style=\"display: table-cell;\"></div><div style=\"display: table-cell;\">rows&nbsp;=&nbsp;'auto',</div></div><div class=\"2091\" style=\"display: none;\"><div style=\"display: table-cell;\"></div><div style=\"display: table-cell;\">sizing_mode&nbsp;=&nbsp;None,</div></div><div class=\"2091\" style=\"display: none;\"><div style=\"display: table-cell;\"></div><div style=\"display: table-cell;\">spacing&nbsp;=&nbsp;0,</div></div><div class=\"2091\" style=\"display: none;\"><div style=\"display: table-cell;\"></div><div style=\"display: table-cell;\">subscribed_events&nbsp;=&nbsp;[],</div></div><div class=\"2091\" style=\"display: none;\"><div style=\"display: table-cell;\"></div><div style=\"display: table-cell;\">syncable&nbsp;=&nbsp;True,</div></div><div class=\"2091\" style=\"display: none;\"><div style=\"display: table-cell;\"></div><div style=\"display: table-cell;\">tags&nbsp;=&nbsp;[],</div></div><div class=\"2091\" style=\"display: none;\"><div style=\"display: table-cell;\"></div><div style=\"display: table-cell;\">visible&nbsp;=&nbsp;True,</div></div><div class=\"2091\" style=\"display: none;\"><div style=\"display: table-cell;\"></div><div style=\"display: table-cell;\">width&nbsp;=&nbsp;None,</div></div><div class=\"2091\" style=\"display: none;\"><div style=\"display: table-cell;\"></div><div style=\"display: table-cell;\">width_policy&nbsp;=&nbsp;'auto')</div></div></div>\n",
       "<script>\n",
       "(function() {\n",
       "  var expanded = false;\n",
       "  var ellipsis = document.getElementById(\"2092\");\n",
       "  ellipsis.addEventListener(\"click\", function() {\n",
       "    var rows = document.getElementsByClassName(\"2091\");\n",
       "    for (var i = 0; i < rows.length; i++) {\n",
       "      var el = rows[i];\n",
       "      el.style.display = expanded ? \"none\" : \"table-row\";\n",
       "    }\n",
       "    ellipsis.innerHTML = expanded ? \"&hellip;)\" : \"&lsaquo;&lsaquo;&lsaquo;\";\n",
       "    expanded = !expanded;\n",
       "  });\n",
       "})();\n",
       "</script>\n"
      ],
      "text/plain": [
       "Column(id='1252', ...)"
      ]
     },
     "execution_count": 18,
     "metadata": {},
     "output_type": "execute_result"
    }
   ],
   "source": [
    "from dask.diagnostics import visualize\n",
    "visualize([prof, rprof, cprof])"
   ]
  },
  {
   "cell_type": "code",
   "execution_count": 19,
   "id": "692925b5-dacc-436b-9276-dc449a39a143",
   "metadata": {},
   "outputs": [
    {
     "name": "stdout",
     "output_type": "stream",
     "text": [
      "<ContractExpression('ibc,ajkc,ijklmb,ijklmn,ojkw,ipz,wzjk,qnp,ijklm,qlm->aolm')>\n",
      "  1.  'qnp,ipz->qniz' [TDOT]\n",
      "  2.  'qniz,ibc->qnizbc'\n",
      "  3.  'wzjk,ojkw->zjko'\n",
      "  4.  'ijklm,ijklmb->ijklmb'\n",
      "  5.  'qnizbc,qlm->nizbclm' [GEMM]\n",
      "  6.  'zjko,ajkc->zjkoac'\n",
      "  7.  'ijklmb,ijklmn->ijklmbn'\n",
      "  8.  'ijklmbn,nizbclm->jklmzc'\n",
      "  9.  'jklmzc,zjkoac->aolm' [TDOT]\n"
     ]
    },
    {
     "ename": "NameError",
     "evalue": "name 'rot_tensor_cupy' is not defined",
     "output_type": "error",
     "traceback": [
      "\u001b[0;31m---------------------------------------------------------------------------\u001b[0m",
      "\u001b[0;31mNameError\u001b[0m                                 Traceback (most recent call last)",
      "\u001b[0;32m<ipython-input-19-8828b8aac602>\u001b[0m in \u001b[0;36m<module>\u001b[0;34m()\u001b[0m\n\u001b[1;32m     11\u001b[0m \u001b[0;32mfor\u001b[0m \u001b[0mi\u001b[0m \u001b[0;32min\u001b[0m \u001b[0mrange\u001b[0m\u001b[0;34m(\u001b[0m\u001b[0mnumber_chunk_theta\u001b[0m\u001b[0;34m)\u001b[0m\u001b[0;34m:\u001b[0m\u001b[0;34m\u001b[0m\u001b[0;34m\u001b[0m\u001b[0m\n\u001b[1;32m     12\u001b[0m     \u001b[0;31m#my_expr_cst(theta_chunk[i],backend='cupy')\u001b[0m\u001b[0;34m\u001b[0m\u001b[0;34m\u001b[0m\u001b[0;34m\u001b[0m\u001b[0m\n\u001b[0;32m---> 13\u001b[0;31m     \u001b[0mdLS_cupy\u001b[0m\u001b[0;34m[\u001b[0m\u001b[0mi\u001b[0m\u001b[0;34m*\u001b[0m\u001b[0mchunksize_theta\u001b[0m\u001b[0;34m:\u001b[0m\u001b[0;34m(\u001b[0m\u001b[0mi\u001b[0m\u001b[0;34m+\u001b[0m\u001b[0;36m1\u001b[0m\u001b[0;34m)\u001b[0m\u001b[0;34m*\u001b[0m\u001b[0mchunksize_theta\u001b[0m\u001b[0;34m]\u001b[0m\u001b[0;34m=\u001b[0m\u001b[0mfirst_expr\u001b[0m\u001b[0;34m(\u001b[0m\u001b[0mrot_tensor_cupy\u001b[0m\u001b[0;34m,\u001b[0m\u001b[0mcp\u001b[0m\u001b[0;34m.\u001b[0m\u001b[0masarray\u001b[0m\u001b[0;34m(\u001b[0m\u001b[0mtheta_chunk\u001b[0m\u001b[0;34m[\u001b[0m\u001b[0mi\u001b[0m\u001b[0;34m]\u001b[0m\u001b[0;34m)\u001b[0m\u001b[0;34m,\u001b[0m\u001b[0mmatrixd_phi_cupy\u001b[0m\u001b[0;34m,\u001b[0m\u001b[0mrot_tensor_cupy\u001b[0m\u001b[0;34m,\u001b[0m\u001b[0mdpsi_cupy\u001b[0m\u001b[0;34m,\u001b[0m\u001b[0meijk_cupy\u001b[0m\u001b[0;34m,\u001b[0m\u001b[0mD_cupy\u001b[0m\u001b[0;34m,\u001b[0m\u001b[0mnormalp_cupy\u001b[0m\u001b[0;34m,\u001b[0m\u001b[0mbackend\u001b[0m\u001b[0;34m=\u001b[0m\u001b[0;34m'cupy'\u001b[0m\u001b[0;34m)\u001b[0m\u001b[0;34m/\u001b[0m\u001b[0;34m(\u001b[0m\u001b[0mlu1\u001b[0m\u001b[0;34m*\u001b[0m\u001b[0mlv1\u001b[0m\u001b[0;34m)\u001b[0m\u001b[0;34m\u001b[0m\u001b[0;34m\u001b[0m\u001b[0m\n\u001b[0m\u001b[1;32m     14\u001b[0m     \u001b[0;31m#dLS_cupy[i*chunksize:(i+1)*chunksize]+=3*second_expr(rot_tensor_cupy,cp.asarray(theta_chunk[i]),T_cupy,T_cupy,matrixd_phi_cupy,rot_tensor_cupy,dpsi_cupy,eijk_cupy,D_cupy,normalp_cupy)/(lu1*lv1)\u001b[0m\u001b[0;34m\u001b[0m\u001b[0;34m\u001b[0m\u001b[0;34m\u001b[0m\u001b[0m\n\u001b[1;32m     15\u001b[0m \u001b[0;31m#dLS=contract('inb,ajkb,ojkw,ipz,wzjk,qnp,ijklm,qlm->aolm',rot_tensor_'optimal'cupy,theta_cupy,matrixd_phi_cupy,rot_tensor_cupy,dpsi_cupy,eijk_cupy,D,normalp_cupy,backend='cupy')/(lu1*lv1)\u001b[0m\u001b[0;34m\u001b[0m\u001b[0;34m\u001b[0m\u001b[0;34m\u001b[0m\u001b[0m\n",
      "\u001b[0;31mNameError\u001b[0m: name 'rot_tensor_cupy' is not defined"
     ]
    }
   ],
   "source": [
    "number_chunk_theta=17\n",
    "chunksize_theta=theta.shape[0]//number_chunk_theta # as to be an integer\n",
    "theta_chunk=np.split(theta,number_chunk_theta)\n",
    "#first dT/dtheta\n",
    "first_expr = oe.contract_expression('inb,ajkb,ojkw,ipz,wzjk,qnp,ijklm,qlm->aolm',rot_tensor.shape,theta_chunk[0].shape,matrixd_phi.shape,rot_tensor.shape,dpsi.shape,eijk.shape,D.shape,normalp.shape)\n",
    "#then the -3(x-y,h)(x-y)\n",
    "second_expr= oe.contract_expression('ibc,ajkc,ijklmb,ijklmn,ojkw,ipz,wzjk,qnp,ijklm,qlm->aolm',rot_tensor.shape,theta_chunk[0].shape,T.shape,T.shape,matrixd_phi.shape,rot_tensor.shape,dpsi.shape,eijk.shape,D.shape,normalp.shape,)\n",
    "print(second_expr)\n",
    "t0=time.time()\n",
    "dLS_cupy=cp.asarray(np.zeros((theta.shape[0],matrixd_phi.shape[0],D.shape[3],D.shape[4])))\n",
    "for i in range(number_chunk_theta):\n",
    "    #my_expr_cst(theta_chunk[i],backend='cupy')\n",
    "    dLS_cupy[i*chunksize_theta:(i+1)*chunksize_theta]=first_expr(rot_tensor_cupy,cp.asarray(theta_chunk[i]),matrixd_phi_cupy,rot_tensor_cupy,dpsi_cupy,eijk_cupy,D_cupy,normalp_cupy,backend='cupy')/(lu1*lv1)\n",
    "    #dLS_cupy[i*chunksize:(i+1)*chunksize]+=3*second_expr(rot_tensor_cupy,cp.asarray(theta_chunk[i]),T_cupy,T_cupy,matrixd_phi_cupy,rot_tensor_cupy,dpsi_cupy,eijk_cupy,D_cupy,normalp_cupy)/(lu1*lv1)\n",
    "#dLS=contract('inb,ajkb,ojkw,ipz,wzjk,qnp,ijklm,qlm->aolm',rot_tensor_'optimal'cupy,theta_cupy,matrixd_phi_cupy,rot_tensor_cupy,dpsi_cupy,eijk_cupy,D,normalp_cupy,backend='cupy')/(lu1*lv1)\n",
    "print(time.time()-t0)\n",
    "print('{:,}'.format(mempool.used_bytes()))\n",
    "print('{:,}'.format(mempool.total_bytes()))\n",
    "print('{:,}'.format(T.nbytes))"
   ]
  },
  {
   "cell_type": "code",
   "execution_count": null,
   "id": "4efec174-f8db-4e1f-a577-643b210eb8a5",
   "metadata": {},
   "outputs": [],
   "source": [
    "print('{:,}'.format(mempool.used_bytes()))\n",
    "print('{:,}'.format(mempool.total_bytes()))\n",
    "print('{:,}'.format(T.nbytes))"
   ]
  },
  {
   "cell_type": "code",
   "execution_count": null,
   "id": "74491e2c-05c6-41f1-9b87-a8f16eb6f7ff",
   "metadata": {},
   "outputs": [],
   "source": [
    "rot_tensor_cupy=cp.asarray(rot_tensor)\n",
    "theta_cupy=cp.asarray(theta)\n",
    "matrixd_phi_cupy=cp.asarray(matrixd_phi)\n",
    "dpsi_cupy=cp.asarray(dpsi)\n",
    "eijk_cupy=cp.asarray(eijk)\n",
    "D_cupy=cp.asarray(D)\n",
    "normalp_cupy=cp.asarray(normalp)\n",
    "T_cupy=cp.asarray(T)"
   ]
  }
 ],
 "metadata": {
  "kernelspec": {
   "name": "python3610jvsc74a57bd083f3a2e6ed4cf306ad33acdab3ab64be7f79675a8caa53dc80db113b255806ee",
   "display_name": "Python 3.6.10 64-bit ('fusion': conda)"
  },
  "language_info": {
   "codemirror_mode": {
    "name": "ipython",
    "version": 3
   },
   "file_extension": ".py",
   "mimetype": "text/x-python",
   "name": "python",
   "nbconvert_exporter": "python",
   "pygments_lexer": "ipython3",
   "version": "3.6.10"
  }
 },
 "nbformat": 4,
 "nbformat_minor": 5
}