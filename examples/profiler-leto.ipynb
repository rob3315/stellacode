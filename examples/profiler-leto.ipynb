{
 "cells": [
  {
   "cell_type": "code",
   "execution_count": 1,
   "id": "4a0f268e",
   "metadata": {},
   "outputs": [
    {
     "name": "stdout",
     "output_type": "stream",
     "text": [
      "blas_mkl_info:\n",
      "    libraries = ['mkl_rt', 'pthread']\n",
      "    library_dirs = ['/users/home/robin/miniconda3/envs/shape_opti/lib']\n",
      "    define_macros = [('SCIPY_MKL_H', None), ('HAVE_CBLAS', None)]\n",
      "    include_dirs = ['/users/home/robin/miniconda3/envs/shape_opti/include']\n",
      "blas_opt_info:\n",
      "    libraries = ['mkl_rt', 'pthread']\n",
      "    library_dirs = ['/users/home/robin/miniconda3/envs/shape_opti/lib']\n",
      "    define_macros = [('SCIPY_MKL_H', None), ('HAVE_CBLAS', None)]\n",
      "    include_dirs = ['/users/home/robin/miniconda3/envs/shape_opti/include']\n",
      "lapack_mkl_info:\n",
      "    libraries = ['mkl_rt', 'pthread']\n",
      "    library_dirs = ['/users/home/robin/miniconda3/envs/shape_opti/lib']\n",
      "    define_macros = [('SCIPY_MKL_H', None), ('HAVE_CBLAS', None)]\n",
      "    include_dirs = ['/users/home/robin/miniconda3/envs/shape_opti/include']\n",
      "lapack_opt_info:\n",
      "    libraries = ['mkl_rt', 'pthread']\n",
      "    library_dirs = ['/users/home/robin/miniconda3/envs/shape_opti/lib']\n",
      "    define_macros = [('SCIPY_MKL_H', None), ('HAVE_CBLAS', None)]\n",
      "    include_dirs = ['/users/home/robin/miniconda3/envs/shape_opti/include']\n"
     ]
    }
   ],
   "source": [
    "import os\n",
    "os.environ[\"MKL_NUM_THREADS\"] = \"4\" # export MKL_NUM_THREADS=6\n",
    "os.chdir('../')\n",
    "os.getcwd()\n",
    "import os,sys\n",
    "sys.path.append('main/')\n",
    "from shape_gradient import *\n",
    "from cost_surface import *\n",
    "import numpy as np\n",
    "import logging\n",
    "%load_ext line_profiler\n",
    "import dask.array as da\n",
    "np.show_config()"
   ]
  },
  {
   "cell_type": "code",
   "execution_count": 2,
   "id": "548e45a2",
   "metadata": {},
   "outputs": [],
   "source": [
    "#from dask.distributed import Client,LocalCluster\n",
    "#cluster = LocalCluster(n_workers=1)"
   ]
  },
  {
   "cell_type": "code",
   "execution_count": 3,
   "id": "ea5534ba",
   "metadata": {},
   "outputs": [],
   "source": [
    "#client=Client(cluster)"
   ]
  },
  {
   "cell_type": "code",
   "execution_count": 4,
   "id": "cb7ae2b7",
   "metadata": {},
   "outputs": [],
   "source": [
    "#import dask"
   ]
  },
  {
   "cell_type": "code",
   "execution_count": 5,
   "id": "686afd36",
   "metadata": {},
   "outputs": [],
   "source": [
    "#print(client.scheduler_info()['services'],client)\n",
    "#client = Client(processes=False)"
   ]
  },
  {
   "cell_type": "code",
   "execution_count": 6,
   "id": "0096f190",
   "metadata": {},
   "outputs": [
    {
     "data": {
      "text/plain": [
       "['config_file/config_test.ini']"
      ]
     },
     "execution_count": 6,
     "metadata": {},
     "output_type": "execute_result"
    }
   ],
   "source": [
    "path_config_file='config_file/config_test.ini'\n",
    "config = configparser.ConfigParser()\n",
    "config.read(path_config_file)"
   ]
  },
  {
   "cell_type": "code",
   "execution_count": 7,
   "id": "f9372ec7",
   "metadata": {
    "tags": []
   },
   "outputs": [
    {
     "data": {
      "text/plain": [
       "Timer unit: 1 s\n",
       "\n",
       "Total time: 3.37263 s\n",
       "File: main/cost_surface.py\n",
       "Function: cost_surface at line 9\n",
       "\n",
       "Line #      Hits         Time  Per Hit   % Time  Line Contents\n",
       "==============================================================\n",
       "     9                                           def cost_surface(config,S=None,Sp=None):\n",
       "    10         1          0.0      0.0      0.0      if config['other']['dask']=='True':\n",
       "    11         1          3.4      3.4    100.0          return cost_surface_dask(config,S,Sp)\n",
       "    12                                               else:\n",
       "    13                                                   return cost_surface_without_dask(config,S,Sp)"
      ]
     },
     "metadata": {},
     "output_type": "display_data"
    }
   ],
   "source": [
    "config['other']['dask']='True'\n",
    "%lprun -u 1 -f cost_surface cost_surface(config)"
   ]
  },
  {
   "cell_type": "code",
   "execution_count": 8,
   "id": "1362cb72",
   "metadata": {
    "tags": []
   },
   "outputs": [],
   "source": [
    "shape_grad=Shape_gradient(config=config)\n",
    "S_parametrization=shape_grad.S_parametrization"
   ]
  },
  {
   "cell_type": "code",
   "execution_count": 9,
   "id": "a6d9b1d0",
   "metadata": {
    "collapsed": true,
    "jupyter": {
     "outputs_hidden": true
    },
    "tags": []
   },
   "outputs": [
    {
     "data": {
      "text/plain": [
       "Timer unit: 1 s\n",
       "\n",
       "Total time: 68.4066 s\n",
       "File: main/shape_gradient.py\n",
       "Function: compute_gradient_df at line 160\n",
       "\n",
       "Line #      Hits         Time  Per Hit   % Time  Line Contents\n",
       "==============================================================\n",
       "   160                                               def compute_gradient_df(self,paramS):\n",
       "   161                                                   #compute the shape gradient by a differentiation first method\n",
       "   162         1          0.0      0.0      0.0          result={}\n",
       "   163         1          0.3      0.3      0.4          S=Toroidal_surface(paramS,(self.ntheta_coil,self.nzeta_coil),self.Np)\n",
       "   164         1          2.1      2.1      3.1          theta,dtildetheta,dtheta,dSdtheta=S.get_theta_pertubation()\n",
       "   165         1          0.4      0.4      0.6          T=tools.get_tensor_distance(S,self.Sp,self.rot_tensor)\n",
       "   166                                                   #LS=tools.compute_LS(T,self.matrixd_phi,S.dpsi,self.rot_tensor,self.Sp.n)\n",
       "   167         1          0.2      0.2      0.2          Qj=tools.compute_Qj(self.matrixd_phi,S.dpsi,S.dS)\n",
       "   168                                                   #shape derivation\n",
       "   169         1          0.0      0.0      0.0          dask_theta=da.from_array(theta,chunks=(self.chunk_theta,self.chunk_theta_coil,self.chunk_zeta_coil,3), asarray=False)\n",
       "   170         1          0.0      0.0      0.0          dask_dpsi=da.from_array(S.dpsi,chunks=(2,3,self.chunk_theta_coil,self.chunk_zeta_coil), asarray=False)\n",
       "   171                                                   \n",
       "   172         1          0.0      0.0      0.0          dask_normalp=da.from_array(self.Sp.n,chunks=(3,self.chunk_theta_plasma,self.chunk_zeta_plasma), asarray=False)\n",
       "   173         1          0.7      0.7      1.1          dask_T=da.from_array(T,chunks=(3,self.chunk_theta_coil,self.chunk_zeta_coil,self.chunk_theta_plasma,self.chunk_zeta_plasma,3), asarray=False)\n",
       "   174         1          0.1      0.1      0.1          dask_dtildetheta=da.from_array(dtildetheta,chunks=(self.chunk_theta,self.chunk_theta_coil,self.chunk_zeta_coil,3,3), asarray=False)\n",
       "   175         1          0.1      0.1      0.1          dask_dtheta=da.from_array(dtheta,chunks=(self.chunk_theta,self.chunk_theta_coil,self.chunk_zeta_coil,2,3), asarray=False)\n",
       "   176         1          0.0      0.0      0.0          dask_dSdtheta=da.from_array(dSdtheta,chunks=(self.chunk_theta,self.chunk_theta_coil,self.chunk_zeta_coil), asarray=False)\n",
       "   177         1          0.0      0.0      0.0          dask_dS=da.from_array(S.dS,chunks=(self.chunk_theta_coil,self.chunk_zeta_coil), asarray=False)\n",
       "   178                                                   \n",
       "   179                                                   #dask_D=1/(da.linalg.norm(dask_T,axis=-1)**3)\n",
       "   180                                                   #dask_DD=1/(da.linalg.norm(dask_T,axis=-1)**5)\n",
       "   181         1          2.0      2.0      2.9          D=1/(np.linalg.norm(T,axis=-1)**3)\n",
       "   182         1          2.0      2.0      2.9          DD=1/(np.linalg.norm(T,axis=-1)**5)\n",
       "   183         1          0.2      0.2      0.4          dask_D=da.from_array(D,chunks=(3,self.chunk_theta_coil,self.chunk_zeta_coil,self.chunk_theta_plasma,self.chunk_zeta_plasma), asarray=False)\n",
       "   184         1          0.2      0.2      0.4          dask_DD=da.from_array(DD,chunks=(3,self.chunk_theta_coil,self.chunk_zeta_coil,self.chunk_theta_plasma,self.chunk_zeta_plasma), asarray=False)\n",
       "   185         1          0.0      0.0      0.0          LS_dask=contract('ijklmn,ojkw,ipz,wzjk,qnp,ijklm,qlm->olm',dask_T,self.dask_matrixd_phi,self.dask_rot_tensor,dask_dpsi,self.dask_eijk,dask_D,dask_normalp,optimize=True)\n",
       "   186         1          2.1      2.1      3.1          LS=(mu_0/(4*np.pi))*LS_dask.compute()/(self.ntheta_coil*self.nzeta_coil)\n",
       "   187                                           \n",
       "   188         1          0.0      0.0      0.1          dLS_dask=-contract('inb,ajkb,ojkw,ipz,wzjk,qnp,ijklm,qlm->aolm',self.dask_rot_tensor,dask_theta,self.dask_matrixd_phi,self.dask_rot_tensor,dask_dpsi,self.dask_eijk,dask_D,dask_normalp,optimize=True)\n",
       "   189         1          0.0      0.0      0.1          dLS_dask+=3*contract('ibc,ajkc,ijklmb,ijklmn,ojkw,ipz,wzjk,qnp,ijklm,qlm->aolm',self.dask_rot_tensor,dask_theta,dask_T,dask_T,self.dask_matrixd_phi,self.dask_rot_tensor,dask_dpsi,self.dask_eijk,dask_DD,dask_normalp,optimize=True)\n",
       "   190         1          0.0      0.0      0.1          dLS_dask+=contract('ijklmn,ojkw,ipz,ajkbz,wbjk,qnp,ijklm,qlm->aolm',dask_T,self.dask_matrixd_phi,self.dask_rot_tensor,dask_dtildetheta,dask_dpsi,self.dask_eijk,dask_D,dask_normalp,optimize=True)\n",
       "   191         1         45.9     45.9     67.1          dLSdtheta=(mu_0/(4*np.pi))*dLS_dask.compute()/(self.ntheta_coil*self.nzeta_coil)\n",
       "   192         1          0.1      0.1      0.1          dask_dQj=tools.compute_dQjdtheta(self.dask_matrixd_phi,dask_dpsi,dask_dS,dask_dtheta,dask_dSdtheta)\n",
       "   193         1          6.4      6.4      9.3          dQj=dask_dQj.compute()\n",
       "   194         1          0.0      0.0      0.0          result['Qj']=Qj\n",
       "   195         1          0.0      0.0      0.0          result['dQj']=dQj\n",
       "   196         1          0.0      0.0      0.0          result['dLSdtheta']=dLSdtheta\n",
       "   197         1          0.0      0.0      0.0          result['LS']=LS\n",
       "   198                                           \n",
       "   199                                                   ### matrix versions:\n",
       "   200         1          0.0      0.0      0.0          output={}\n",
       "   201         1          0.0      0.0      0.0          LS_matrix=np.transpose(np.reshape(LS[2:,:,:],(LS.shape[0]-2,-1)))#matrix shape\n",
       "   202         1          0.0      0.0      0.0          BTn=self.net_poloidal_current_Amperes*LS[0]+self.net_toroidal_current_Amperes*LS[1]+self.array_bnorm\n",
       "   203         1          0.0      0.0      0.0          BTn_flat=-BTn.flatten()\n",
       "   204         1          0.0      0.0      0.0          result['array_bnorm']=self.array_bnorm\n",
       "   205                                                   #shape derivative of those matrices\n",
       "   206         1          0.0      0.0      0.0          dLS_matrix_dtheta=np.swapaxes(np.reshape(dLSdtheta[:,2:,:,:],(dLSdtheta.shape[0],dLSdtheta.shape[1]-2,-1)), 1, 2)\n",
       "   207         1          2.0      2.0      2.9          dLS_matrix_dtheta_dask=da.from_array(dLS_matrix_dtheta,chunks={0:1})#for parallelisation\n",
       "   208         1          0.0      0.0      0.0          dBTn_flat_dtheta= - np.reshape(self.net_poloidal_current_Amperes*dLSdtheta[:,0]+self.net_toroidal_current_Amperes*dLSdtheta[:,1],(dLSdtheta.shape[0],-1))\n",
       "   209                                                   \n",
       "   210         1          0.0      0.0      0.0          result['LS_matrix']=LS_matrix\n",
       "   211         1          0.0      0.0      0.0          result['dLS_matrix_dtheta']=dLS_matrix_dtheta\n",
       "   212                                           \n",
       "   213                                                   #we take the adjoint, note that we have to take care of the different innerproduct\n",
       "   214         1          0.0      0.0      0.0          plasma_dS_normalized=self.Sp.dS.flatten()/(self.Sp.nbpts[0]*self.Sp.nbpts[1])\n",
       "   215         2          0.0      0.0      0.0          inside_M_lambda=contract('ij,i,ik->jk',LS_matrix,plasma_dS_normalized,LS_matrix)\\\n",
       "   216         1          0.0      0.0      0.0              +self.lamb*Qj[2:,2:]\n",
       "   217                                                   \n",
       "   218         1          0.0      0.0      0.0          dinside_M_lambda_dtheta_dask=contract('oij,i,ik->ojk',dLS_matrix_dtheta_dask,plasma_dS_normalized,LS_matrix)+contract('ij,i,oik->ojk',LS_matrix,plasma_dS_normalized,dLS_matrix_dtheta_dask)\n",
       "   219         1          2.8      2.8      4.1          dinside_M_lambda_dtheta=dinside_M_lambda_dtheta_dask.compute()+self.lamb*dQj[:,2:,2:]\n",
       "   220                                                   \n",
       "   221         1          0.0      0.0      0.0          RHS=(contract('ij,i,i->j',LS_matrix,plasma_dS_normalized, BTn_flat)-self.lamb*(self.net_poloidal_current_Amperes*Qj[2:,0]+self.net_toroidal_current_Amperes*Qj[2:,1]) )\n",
       "   222         1          0.2      0.2      0.2          dRHS_dtheta=contract('oij,i,i->oj',dLS_matrix_dtheta,plasma_dS_normalized, BTn_flat)+contract('ij,i,oi->oj',LS_matrix,plasma_dS_normalized, dBTn_flat_dtheta)-self.lamb*(self.net_poloidal_current_Amperes*dQj[:,2:,0]+self.net_toroidal_current_Amperes*dQj[:,2:,1])\n",
       "   223         1          0.0      0.0      0.0          result['RHS']=RHS\n",
       "   224         1          0.0      0.0      0.0          result['dRHS_dtheta']=dRHS_dtheta\n",
       "   225         1          0.0      0.0      0.0          j_S_partial= np.linalg.solve(inside_M_lambda, RHS)\n",
       "   226         1          0.0      0.0      0.0          j_S=np.concatenate(([self.net_poloidal_current_Amperes,self.net_toroidal_current_Amperes],j_S_partial))\n",
       "   227         1          0.1      0.1      0.1          dj_S_partial_dtheta= np.linalg.solve(inside_M_lambda[np.newaxis,:,:], dRHS_dtheta)\n",
       "   228         1          0.1      0.1      0.1          dj_S_partial_dtheta-=np.linalg.solve(inside_M_lambda[np.newaxis,:,:],contract('oij,i->oj',dinside_M_lambda_dtheta, np.linalg.solve(inside_M_lambda,RHS)))\n",
       "   229         1          0.0      0.0      0.0          result['j_S_partial']=j_S_partial\n",
       "   230         1          0.0      0.0      0.0          result['dj_S_partial_dtheta']=dj_S_partial_dtheta\n",
       "   231                                                   #cost\n",
       "   232         1          0.0      0.0      0.0          B_err= (LS_matrix @ j_S_partial)- BTn_flat\n",
       "   233                                           \n",
       "   234         1          0.0      0.0      0.0          result['cost_B']=self.Np*contract('i,i,i->',B_err,B_err,plasma_dS_normalized)\n",
       "   235         1          0.0      0.0      0.0          result['cost_J']=self.Np*contract('i,ij,j->',j_S,Qj,j_S)\n",
       "   236         1          0.0      0.0      0.0          result['cost']=result['cost_B']+self.lamb*result['cost_J']\n",
       "   237         1          0.0      0.0      0.0          dcjdj= np.einsum('i,oij,j->o',j_S,dQj,j_S)\n",
       "   238         1          0.0      0.0      0.0          dcjdj+= 2*np.einsum('i,ij,oj->o',j_S,Qj[:,2:],dj_S_partial_dtheta)\n",
       "   239         1          0.0      0.0      0.0          result['dcost_J_dtheta']=self.Np*dcjdj\n",
       "   240                                           \n",
       "   241         2          0.2      0.1      0.2          tmp=np.einsum('oaij,a->oij',dLSdtheta,j_S)\\\n",
       "   242         1          0.1      0.1      0.1              +np.einsum('aij,oa->oij',LS[2:],dj_S_partial_dtheta)\n",
       "   243                                                   \n",
       "   244         1          0.0      0.0      0.0          dcbdj=(2*np.einsum('oi,i,i->o',np.reshape(tmp,(tmp.shape[0],-1)),B_err,plasma_dS_normalized))\n",
       "   245         1          0.0      0.0      0.0          result['dcost_B_dtheta']=self.Np*dcbdj\n",
       "   246         1          0.0      0.0      0.0          result['shape_gradient']=(dcbdj+self.lamb*dcjdj)*self.Np\n",
       "   247                                           \n",
       "   248         1          0.0      0.0      0.0          return result"
      ]
     },
     "metadata": {},
     "output_type": "display_data"
    }
   ],
   "source": [
    "%lprun -u 1 -f shape_grad.compute_gradient_df shape_grad.compute_gradient_df(S_parametrization)"
   ]
  },
  {
   "cell_type": "code",
   "execution_count": 10,
   "id": "42d3d93d",
   "metadata": {
    "collapsed": true,
    "jupyter": {
     "outputs_hidden": true
    },
    "tags": []
   },
   "outputs": [
    {
     "data": {
      "text/plain": [
       "Timer unit: 1 s\n",
       "\n",
       "Total time: 5.9646 s\n",
       "File: main/shape_gradient.py\n",
       "Function: compute_gradient_of at line 59\n",
       "\n",
       "Line #      Hits         Time  Per Hit   % Time  Line Contents\n",
       "==============================================================\n",
       "    59                                               def compute_gradient_of(self,paramS):\n",
       "    60                                                   #compute the shape gradient by a optimization first method\n",
       "    61         1          0.0      0.0      0.0          result={}\n",
       "    62         1          0.3      0.3      4.2          S=Toroidal_surface(paramS,(self.ntheta_coil,self.nzeta_coil),self.Np)\n",
       "    63                                                   # for latter, when we will implement GPU support\n",
       "    64         1          0.0      0.0      0.0          f,f_np,get = lambda x : x,lambda x : x,lambda x : x\n",
       "    65                                                   #tensors computations\n",
       "    66         1          0.2      0.2      3.7          T=tools.get_tensor_distance(S,self.Sp,self.rot_tensor)\n",
       "    67         1          0.7      0.7     11.8          T=f(da.from_array(T,chunks=(3,self.chunk_theta_coil,self.chunk_zeta_coil,self.chunk_theta_plasma,self.chunk_zeta_plasma,3), asarray=False))\n",
       "    68         1          0.0      0.0      0.1          matrixd_phi=f(da.from_array(self.matrixd_phi,chunks={1:self.chunk_theta_coil,2:self.chunk_zeta_coil}, asarray=False))\n",
       "    69         1          0.0      0.0      0.0          dpsi= f(da.from_array(S.dpsi,chunks=(2,3,self.chunk_theta_coil,self.chunk_zeta_coil), asarray=False))\n",
       "    70         1          0.0      0.0      0.0          normalp= f(da.from_array(self.Sp.n,chunks=(3,self.chunk_theta_plasma,self.chunk_zeta_plasma), asarray=False))\n",
       "    71         1          0.0      0.0      0.0          S_dS= f(da.from_array(S.dS,chunks=(self.chunk_theta_coil,self.chunk_zeta_coil), asarray=False))\n",
       "    72         1          0.0      0.0      0.2          D=1/(da.linalg.norm(T,axis=-1)**3)\n",
       "    73         1          0.0      0.0      0.2          DD=1/(da.linalg.norm(T,axis=-1)**5)\n",
       "    74         1          0.0      0.0      0.4          Qj=tools.compute_Qj(matrixd_phi,dpsi,S_dS)\n",
       "    75         1          0.0      0.0      0.5          LS=(mu_0/(4*np.pi))*contract('ijklmn,ojkw,ipz,wzjk,qnp,ijklm,qlm->olm',T,matrixd_phi,self.rot_tensor,dpsi,self.dask_eijk,D,normalp,optimize=True)/(S.nbpts[0]*S.nbpts[1])\n",
       "    76                                           \n",
       "    77                                                   # We solve the inverse problem\n",
       "    78         1          0.0      0.0      0.0          BT=-self.array_bnorm\n",
       "    79         1          0.0      0.0      0.0          LS_R=LS[2:]\n",
       "    80         1          0.0      0.0      0.4          Qj_inv_R=np.linalg.inv(Qj[2:,2:])\n",
       "    81         1          0.0      0.0      0.1          LS_dagger_R=np.einsum('ut,tij,ij->uij',Qj_inv_R,LS_R,self.Sp.dS/self.Sp.npts)\n",
       "    82         1          0.0      0.0      0.1          inside_M_lambda_R= self.lamb*np.eye(LS_R.shape[0])+np.einsum('tpq,upq->tu',LS_dagger_R,LS_R)\n",
       "    83         1          0.0      0.0      0.1          M_lambda_R=np.linalg.inv(inside_M_lambda_R)\n",
       "    84                                                   \n",
       "    85                                                   # we compute the full Right Hand Side\n",
       "    86         1          0.0      0.0      0.1          B_tilde=BT-np.einsum('tpq,t',LS[:2],[self.net_poloidal_current_Amperes ,self.net_toroidal_current_Amperes])\n",
       "    87         1          0.0      0.0      0.1          LS_dagger_B_tilde=np.einsum('hpq,pq->h',LS_dagger_R,B_tilde)\n",
       "    88         1          0.0      0.0      0.2          RHS=LS_dagger_B_tilde-self.lamb*Qj_inv_R@Qj[2:,:2]@[self.net_poloidal_current_Amperes ,self.net_toroidal_current_Amperes]\n",
       "    89         1          0.0      0.0      0.1          j_S_R= M_lambda_R@RHS\n",
       "    90         1          0.0      0.0      0.1          j_S=np.concatenate(([self.net_poloidal_current_Amperes,self.net_toroidal_current_Amperes],j_S_R))\n",
       "    91                                                   \n",
       "    92                                                   # we save the results\n",
       "    93                                           \n",
       "    94         1          0.0      0.0      0.3          B_err= np.einsum('hpq,h',LS,j_S)- BT\n",
       "    95                                                   # we save the results\n",
       "    96         1          0.0      0.0      0.3          j_space_to_vector=contract('oijk,klij,ij->oijl',matrixd_phi,dpsi,1/S.dS)\n",
       "    97         1          0.0      0.0      0.0          def j_to_vector(j):\n",
       "    98                                                       \"\"\"from the space of divergence free vector field to 3d vector field on T\"\"\"\n",
       "    99                                                       if len(j)==len(j_space_to_vector):\n",
       "   100                                                           return np.einsum('o,oijl->ijl',j,j_space_to_vector)\n",
       "   101                                                       elif len(j)==len(j_space_to_vector)-2:\n",
       "   102                                                           return np.einsum('o,oijl->ijl',j,j_space_to_vector[2:])\n",
       "   103                                                       else:\n",
       "   104                                                            raise Exception('dimension error in j_to_vector')\n",
       "   105         1          0.0      0.0      0.4          B_err=np.einsum('opq,o->pq',LS,j_S)-BT\n",
       "   106         1          0.0      0.0      0.1          j_S_vector=contract('o,oijl->ijl',j_S,j_space_to_vector)\n",
       "   107                                           \n",
       "   108                                                   #We start to compute the shape gradient\n",
       "   109                                                   \n",
       "   110         1          0.0      0.0      0.1          K=np.einsum('sijpql,sijpq->sijpql',T,D)\n",
       "   111         1          0.0      0.0      0.6          DxK= -(np.einsum('sijpq,sab->sijpqab',D,self.rot_tensor)-3*np.einsum('sijpq,sijpqa,sijpqb,sbc->sijpqac',DD,T,T,self.rot_tensor))\n",
       "   112         1          0.0      0.0      0.6          Zp_aux= -(mu_0/(4*np.pi))*contract('sijpqa,sbe,abd,dpq,pq->ijpqe',K,self.rot_tensor,self.dask_eijk,normalp,self.Sp.dS/self.Sp.npts,optimize=True)\n",
       "   113         1          0.0      0.0      0.0          def Zp(k,j):\n",
       "   114                                                       return contract('ijpqe,pq,ija->ijae',Zp_aux,k,j)\n",
       "   115         1          0.0      0.0      0.0          def Z_p_hat(k,j):\n",
       "   116                                                       return (mu_0/(4*np.pi))*contract('saf,sijpqad,sce,pq,cpq,ebd,ijb,pq->ijf',self.dask_rot_tensor,DxK,self.dask_rot_tensor,k,normalp,self.dask_eijk,j,self.Sp.dS/self.Sp.npts)\n",
       "   117         1          0.0      0.0      0.0          def dLdtheta(k,j):\n",
       "   118                                                       return (-1*Z_p_hat(k,j),-1*Zp(k,j))\n",
       "   119         1          0.0      0.0      0.0          def dQdtheta(j1,j2):\n",
       "   120                                                       return (contract('ijl,ijk->ijlk',j1,j2)+contract('ijl,ijk->ijlk',j2,j1)+np.einsum('ijk,ijk,ijab->ijab',j1,j2,-np.eye(3)+np.einsum('aij,bij->ijab',S.n,S.n)))\n",
       "   121         1          0.0      0.0      0.8          I1_vector,I1_matrix =dLdtheta(2*B_err,j_S_vector)\n",
       "   122         1          0.0      0.0      0.4          I1_matrix2=self.lamb*dQdtheta(j_S_vector,j_S_vector)\n",
       "   123         1          0.2      0.2      3.5          x, y = dask.optimize(I1_vector, I1_matrix+I1_matrix2)\n",
       "   124         1          4.2      4.2     70.4          result['I1']=da.compute(x,y)\n",
       "   125                                                   # h=self.lamb*np.ones(len(LS_R)) + LS_dagger_B_tilde+ self.lamb*Qj_inv_R@Qj[2:,:2]@[self.net_poloidal_current_Amperes ,self.net_toroidal_current_Amperes]\n",
       "   126                                                   # result['h']=h.compute()\n",
       "   127                                                   # LS_j_S_hat=np.einsum('oij,o',LS_R,j_S_R)\n",
       "   128                                                   # I2_vector,I2_matrix =dLdtheta(-2*LS_j_S_hat,j_to_vector(M_lambda_R@h))\n",
       "   129                                                   # tmp_vec,tmp_mat= dLdtheta(-2*np.einsum('opq,o',LS_dagger_R,M_lambda_R@h),j_to_vector(h))\n",
       "   130                                                   # I2_vector+=tmp_vec\n",
       "   131                                                   # I2_matrix+=tmp_mat\n",
       "   132                                                   # I2_matrix+=dQdtheta(-2*self.lamb*j_to_vector(j_S_R),j_to_vector(M_lambda_R@h))\n",
       "   133                                                   # # we start the dRHS/dtheta\n",
       "   134                                                   # I3_vector,I3_matrix =dLdtheta(2*B_tilde,j_to_vector(M_lambda_R@h))\n",
       "   135                                                   # tmp_vec3,tmp_mat3= dLdtheta(np.einsum('tpq,t',LS_R,M_lambda_R@h), np.einsum('tijl,t->ijl',j_space_to_vector[:2],[self.net_poloidal_current_Amperes ,self.net_toroidal_current_Amperes]))\n",
       "   136                                                   # # the tricky part with derivative of Q\n",
       "   137                                                   # flag1=j_to_vector(-2*self.lamb*Qj_inv_R@M_lambda_R@h)\n",
       "   138                                                   # flag2=j_to_vector(np.concatenate(([self.net_poloidal_current_Amperes ,self.net_toroidal_current_Amperes],Qj_inv_R@Qj[2:,:2]@[self.net_poloidal_current_Amperes ,self.net_toroidal_current_Amperes])))\n",
       "   139                                                   # tmp_mat4=dQdtheta(flag1,flag2)\n",
       "   140                                                   # I3_vector=I3_vector+tmp_vec3\n",
       "   141                                                   # I3_matrix=I3_matrix+tmp_mat3+tmp_mat4\n",
       "   142                                                   # result['I2']=da.compute(I2_vector,I2_matrix)\n",
       "   143                                           \n",
       "   144                                                   #DEBUG\n",
       "   145                                                   # j1=np.random.random(129)\n",
       "   146                                                   # j2=np.random.random(129)\n",
       "   147                                                   # tmp1=contract('oth,t,h->o',dQj,j1,j2)\n",
       "   148                                                   # I1_matrix =dQdtheta(j_to_vector(j1),j_to_vector(j2))\n",
       "   149                                                   # tmp2=(0*np.einsum('ija,oija,ij->o',I1_vector,theta,S.dS/S.npts)+np.einsum('ijab,oijab,ij->o',I1_matrix,dtildetheta,S.dS/S.npts)).compute()\n",
       "   150                                                   # I2_matrix =dQdtheta(j_to_vector(j2),j_to_vector(j1))\n",
       "   151                                                   # tmp3=(0*np.einsum('ija,oija,ij->o',I1_vector,theta,S.dS/S.npts)+np.einsum('ijab,oijab,ij->o',I2_matrix,dtildetheta,S.dS/S.npts)).compute()\n",
       "   152                                                   # np.max(np.abs(tmp2-tmp1))\n",
       "   153                                                   \n",
       "   154                                           \n",
       "   155                                           \n",
       "   156                                           \n",
       "   157                                                   \n",
       "   158                                           \n",
       "   159         1          0.0      0.0      0.0          return result"
      ]
     },
     "metadata": {},
     "output_type": "display_data"
    }
   ],
   "source": [
    "%lprun -u 1 -f shape_grad.compute_gradient_of shape_grad.compute_gradient_of(S_parametrization)"
   ]
  },
  {
   "cell_type": "code",
   "execution_count": null,
   "id": "245278a4",
   "metadata": {},
   "outputs": [],
   "source": []
  }
 ],
 "metadata": {
  "kernelspec": {
   "display_name": "Python 3",
   "language": "python",
   "name": "python3"
  },
  "language_info": {
   "codemirror_mode": {
    "name": "ipython",
    "version": 3
   },
   "file_extension": ".py",
   "mimetype": "text/x-python",
   "name": "python",
   "nbconvert_exporter": "python",
   "pygments_lexer": "ipython3",
   "version": "3.9.4"
  }
 },
 "nbformat": 4,
 "nbformat_minor": 5
}
