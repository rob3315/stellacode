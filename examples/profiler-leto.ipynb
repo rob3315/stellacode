{
 "cells": [
  {
   "cell_type": "code",
   "execution_count": 1,
   "id": "b0a2ab22",
   "metadata": {},
   "outputs": [],
   "source": [
    "import os\n",
    "os.environ[\"MKL_NUM_THREADS\"] = \"4\" # export MKL_NUM_THREADS=6\n",
    "import numpy as np\n",
    "import logging\n",
    "import sys,time\n",
    "#sys.path.append('../')\n",
    "os.chdir('../')\n",
    "%load_ext line_profiler\n",
    "from src.costs.full_shape_gradient import Full_shape_gradient"
   ]
  },
  {
   "cell_type": "code",
   "execution_count": 2,
   "id": "a34b3daf",
   "metadata": {},
   "outputs": [],
   "source": [
    "full_grad=Full_shape_gradient(path_config_file='config_file/config_full.ini')\n",
    "init_param=full_grad.init_param"
   ]
  },
  {
   "cell_type": "code",
   "execution_count": 3,
   "id": "dd2b32c9",
   "metadata": {},
   "outputs": [],
   "source": [
    "from src.costs.EM_cost import EM_cost_dask"
   ]
  },
  {
   "cell_type": "code",
   "execution_count": 4,
   "id": "ee37f9c4",
   "metadata": {},
   "outputs": [
    {
     "name": "stdout",
     "output_type": "stream",
     "text": [
      "3.55 s ± 127 ms per loop (mean ± std. dev. of 7 runs, 1 loop each)\n"
     ]
    }
   ],
   "source": [
    "%timeit full_grad.cost(init_param)"
   ]
  },
  {
   "cell_type": "code",
   "execution_count": 6,
   "id": "5f66b2ee",
   "metadata": {},
   "outputs": [
    {
     "name": "stdout",
     "output_type": "stream",
     "text": [
      "8.21 s ± 753 ms per loop (mean ± std. dev. of 7 runs, 1 loop each)\n"
     ]
    }
   ],
   "source": [
    "%timeit full_grad.shape_grad(init_param)"
   ]
  },
  {
   "cell_type": "code",
   "execution_count": 5,
   "id": "a2c699f2",
   "metadata": {},
   "outputs": [
    {
     "data": {
      "text/plain": [
       "Timer unit: 1 s\n",
       "\n",
       "Total time: 8.54321 s\n",
       "File: /users/home/robin/stellacage_code/src/costs/full_shape_gradient.py\n",
       "Function: shape_grad at line 47\n",
       "\n",
       "Line #      Hits         Time  Per Hit   % Time  Line Contents\n",
       "==============================================================\n",
       "    47                                               def shape_grad(self,param_S_array):\n",
       "    48         1          0.0      0.0      0.0          R=param_S_array[:len(self.m)]\n",
       "    49         1          0.0      0.0      0.0          Z=param_S_array[len(self.m):]\n",
       "    50         1          0.0      0.0      0.0          paramS=((self.m,self.n,R,Z))\n",
       "    51         1          0.3      0.3      3.0          S=Surface_Fourier(paramS,(self.ntheta_coil,self.nzeta_coil),self.Np)\n",
       "    52         1          2.3      2.3     27.0          theta_pertubation=S.get_theta_pertubation()\n",
       "    53         1          4.5      4.5     52.1          shape_grad=(self.lst_cost[0]).shape_gradient(S,theta_pertubation)\n",
       "    54         4          0.0      0.0      0.0          for elt in self.lst_cost[1:]:\n",
       "    55         3          1.5      0.5     17.9              shape_grad+=elt.shape_gradient(S,theta_pertubation)\n",
       "    56         1          0.0      0.0      0.0          return shape_grad"
      ]
     },
     "metadata": {},
     "output_type": "display_data"
    }
   ],
   "source": [
    "%lprun -u 1 -f full_grad.shape_grad full_grad.shape_grad(init_param)"
   ]
  },
  {
   "cell_type": "code",
   "execution_count": 10,
   "id": "4dd0b5f1",
   "metadata": {
    "collapsed": true,
    "jupyter": {
     "outputs_hidden": true
    },
    "tags": []
   },
   "outputs": [
    {
     "data": {
      "text/plain": [
       "Timer unit: 1 s\n",
       "\n",
       "Total time: 2.4813 s\n",
       "File: /users/home/robin/stellacage_code/src/costs/EM_cost.py\n",
       "Function: EM_cost_dask at line 84\n",
       "\n",
       "Line #      Hits         Time  Per Hit   % Time  Line Contents\n",
       "==============================================================\n",
       "    84                                           def EM_cost_dask(config,S,Sp):\n",
       "    85                                               #new version without Lagrange multipliers\n",
       "    86         1          0.0      0.0      0.0      import dask.array as da\n",
       "    87                                               #initilization of the parameters\n",
       "    88         1          0.0      0.0      0.0      lamb = float(config['other']['lamb'])\n",
       "    89         1          0.0      0.0      0.0      Np = int(config['geometry']['Np'])\n",
       "    90         1          0.0      0.0      0.0      ntheta_plasma = int(config['geometry']['ntheta_plasma'])\n",
       "    91         1          0.0      0.0      0.0      ntheta_coil   = int(config['geometry']['ntheta_coil'])\n",
       "    92         1          0.0      0.0      0.0      nzeta_plasma = int(config['geometry']['nzeta_plasma'])\n",
       "    93         1          0.0      0.0      0.0      nzeta_coil   = int(config['geometry']['nzeta_coil'])\n",
       "    94         1          0.0      0.0      0.0      mpol_coil  = int(config['geometry']['mpol_coil'])\n",
       "    95         1          0.0      0.0      0.0      ntor_coil  = int(config['geometry']['ntor_coil'])\n",
       "    96         1          0.0      0.0      0.0      net_poloidal_current_Amperes = float(config['other']['net_poloidal_current_Amperes'])/Np#11884578.094260072\n",
       "    97         1          0.0      0.0      0.0      net_toroidal_current_Amperes = float(config['other']['net_toroidal_current_Amperes'])#0\n",
       "    98         1          0.0      0.0      0.0      curpol=float(config['other']['curpol'])#4.9782004309255496\n",
       "    99         1          0.0      0.0      0.0      phisize=(mpol_coil,ntor_coil)\n",
       "   100         1          0.0      0.0      0.0      path_plasma=str(config['geometry']['path_plasma'])#'code/li383/plasma_surf.txt'\n",
       "   101         1          0.0      0.0      0.0      path_cws=str(config['geometry']['path_cws'])#'code/li383/cws.txt'\n",
       "   102         1          0.0      0.0      0.0      path_bnorm=str(config['other']['path_bnorm'])#'code/li383/bnorm.txt'\n",
       "   103         1          0.0      0.0      0.0      path_output=str(config['other']['path_output'])#'coeff_full_opt'\n",
       "   104         1          0.0      0.0      0.0      cupy = config['other']['cupy']=='True' # dask is needed to use cupy\n",
       "   105                                           \n",
       "   106         1          0.0      0.0      0.0      chunk_theta_coil=int(config['dask_parameters']['chunk_theta_coil'])\n",
       "   107         1          0.0      0.0      0.0      chunk_zeta_coil=int(config['dask_parameters']['chunk_zeta_coil'])\n",
       "   108         1          0.0      0.0      0.0      chunk_theta_plasma=int(config['dask_parameters']['chunk_theta_plasma'])\n",
       "   109         1          0.0      0.0      0.0      chunk_zeta_plasma=int(config['dask_parameters']['chunk_zeta_plasma'])\n",
       "   110         1          0.0      0.0      0.0      chunk_theta=int(config['dask_parameters']['chunk_theta'])\n",
       "   111                                           \n",
       "   112                                               #initialization of the surfaces\n",
       "   113         1          0.0      0.0      0.0      if S is None:\n",
       "   114                                                   S_parametrization=Surface_Fourier.load_file(path_cws)\n",
       "   115                                                   S=Surface_Fourier(S_parametrization,(ntheta_coil,nzeta_coil),Np)\n",
       "   116         1          0.0      0.0      0.0      if Sp is None:\n",
       "   117                                                   Sp_parametrization=Surface_Fourier.load_file(path_plasma)\n",
       "   118                                                   Sp=Surface_Fourier(Sp_parametrization,(ntheta_plasma,nzeta_plasma),Np)\n",
       "   119                                           \n",
       "   120         1          0.0      0.0      0.0      if cupy:\n",
       "   121                                                   import cupy as cp\n",
       "   122                                                   f= lambda x : x.map_blocks(cp.asarray,dtype=np.float64)\n",
       "   123                                                   f_np= lambda x : cp.asarray(x)\n",
       "   124                                                   get=lambda x : x.get()\n",
       "   125                                               else : \n",
       "   126         1          0.0      0.0      0.0          f,f_np,get = lambda x : x,lambda x : x,lambda x : x\n",
       "   127                                               #tensors computations\n",
       "   128         1          0.0      0.0      0.0      rot_tensor=tools.get_rot_tensor(Np)\n",
       "   129         1          0.3      0.3     10.6      T=tools.get_tensor_distance(S,Sp,rot_tensor)\n",
       "   130         1          0.0      0.0      0.0      rot_tensor=f_np(rot_tensor)\n",
       "   131         1          0.7      0.7     28.2      T=f(da.from_array(T,chunks=(3,chunk_theta_coil,chunk_zeta_coil,chunk_theta_plasma,chunk_zeta_plasma,3), asarray=False))\n",
       "   132         1          0.1      0.1      2.4      matrixd_phi=f(da.from_array(tools.get_matrix_dPhi(phisize,S.grids),chunks={1:chunk_theta_coil,2:chunk_zeta_coil}, asarray=False))\n",
       "   133         1          0.0      0.0      0.0      dpsi= f(da.from_array(S.jac_xyz,chunks=(2,3,chunk_theta_coil,chunk_zeta_coil), asarray=False))\n",
       "   134         1          0.0      0.0      0.0      normalp= f(da.from_array(Sp.n,chunks=(3,chunk_theta_plasma,chunk_zeta_plasma), asarray=False))\n",
       "   135         1          0.0      0.0      0.0      S_dS= f(da.from_array(S.ds,chunks=(chunk_theta_coil,chunk_zeta_coil), asarray=False))\n",
       "   136         1          0.0      0.0      0.5      D=1/(da.linalg.norm(T,axis=-1)**3)\n",
       "   137         1          0.0      0.0      0.4      DD=1/(da.linalg.norm(T,axis=-1)**5)\n",
       "   138         1          0.0      0.0      0.0      eijk= f_np(tools.eijk)\n",
       "   139         1          0.0      0.0      0.8      Qj=tools.compute_Qj(matrixd_phi,dpsi,S_dS)\n",
       "   140         1          0.0      0.0      0.1      K=np.einsum('sijpqa,sijpq->sijpqa',T,D)\n",
       "   141         1          0.0      0.0      1.0      LS=(mu_0/(4*np.pi))*contract('sijpqa,tijh,sbc,hcij,dab,dpq->tpq',K,matrixd_phi,rot_tensor,dpsi,eijk,normalp,optimize=True)/(ntheta_coil*nzeta_coil)\n",
       "   142                                           \n",
       "   143         1          0.1      0.1      3.5      Qj=get(Qj.compute())\n",
       "   144         1          0.7      0.7     29.2      LS=get(LS.compute())\n",
       "   145         1          0.1      0.1      3.9      BT=-curpol*bnorm.get_bnorm(path_bnorm,Sp)\n",
       "   146                                               ### Regcoil:\n",
       "   147         1          0.0      0.0      0.0      EM_cost_output={}\n",
       "   148                                               #WARNING : we restrict our space to hangle a constraint free pb\n",
       "   149         1          0.0      0.0      0.0      LS_R=LS[2:]\n",
       "   150         1          0.0      0.0      0.1      Qj_inv_R=np.linalg.inv(Qj[2:,2:])\n",
       "   151         1          0.3      0.3     11.4      LS_dagger_R=np.einsum('ut,tij,ij->uij',Qj_inv_R,LS_R,Sp.ds/Sp.npts)\n",
       "   152         1          0.2      0.2      7.4      inside_M_lambda_R= lamb*np.eye(LS_R.shape[0])+np.einsum('tpq,upq->tu',LS_dagger_R,LS_R)\n",
       "   153         1          0.0      0.0      0.1      M_lambda_R=np.linalg.inv(inside_M_lambda_R)\n",
       "   154                                               \n",
       "   155                                               # we compute the full Right Hand Side\n",
       "   156         1          0.0      0.0      0.0      B_tilde=BT-np.einsum('tpq,t',LS[:2],[net_poloidal_current_Amperes ,net_toroidal_current_Amperes])\n",
       "   157         1          0.0      0.0      0.0      LS_dagger_B_tilde=np.einsum('hpq,pq->h',LS_dagger_R,B_tilde)\n",
       "   158         1          0.0      0.0      0.0      RHS=LS_dagger_B_tilde-lamb*Qj_inv_R@Qj[2:,:2]@[net_poloidal_current_Amperes ,net_toroidal_current_Amperes]\n",
       "   159         1          0.0      0.0      0.0      j_S_R= M_lambda_R@RHS\n",
       "   160         1          0.0      0.0      0.0      j_S=np.concatenate(([net_poloidal_current_Amperes,net_toroidal_current_Amperes],j_S_R))\n",
       "   161                                               \n",
       "   162                                               # we save the results\n",
       "   163                                           \n",
       "   164         1          0.0      0.0      0.0      B_err= np.einsum('hpq,h',LS,j_S)- BT\n",
       "   165         1          0.0      0.0      0.0      EM_cost_output['err_max_B']=np.max(np.abs(B_err))\n",
       "   166         1          0.0      0.0      0.4      EM_cost_output['max_j']=np.max(np.linalg.norm(np.einsum('oijk,kdij,ij,o->ijd',get(matrixd_phi.compute()),S.jac_xyz,1/S.ds,j_S,optimize=True),axis=2))\n",
       "   167         1          0.0      0.0      0.0      EM_cost_output['cost_B']=Np*np.einsum('pq,pq,pq->',B_err,B_err,Sp.ds/Sp.npts)\n",
       "   168         1          0.0      0.0      0.0      EM_cost_output['cost_J']=Np*np.einsum('i,ij,j->',j_S,Qj,j_S)\n",
       "   169         1          0.0      0.0      0.0      EM_cost_output['cost']=EM_cost_output['cost_B']+lamb*EM_cost_output['cost_J']\n",
       "   170         1          0.0      0.0      0.0      return EM_cost_output"
      ]
     },
     "metadata": {},
     "output_type": "display_data"
    }
   ],
   "source": [
    "%lprun -u 1 -f EM_cost_dask full_grad.cost(init_param)"
   ]
  },
  {
   "cell_type": "code",
   "execution_count": 8,
   "id": "e55d439a",
   "metadata": {},
   "outputs": [
    {
     "name": "stdout",
     "output_type": "stream",
     "text": [
      "2.5 s ± 82.8 ms per loop (mean ± std. dev. of 7 runs, 1 loop each)\n"
     ]
    }
   ],
   "source": [
    "%timeit cost_surface(config)"
   ]
  },
  {
   "cell_type": "code",
   "execution_count": 9,
   "id": "6bef23d0",
   "metadata": {
    "tags": []
   },
   "outputs": [],
   "source": [
    "shape_grad=Shape_gradient(config=config)\n",
    "S_parametrization=shape_grad.S_parametrization"
   ]
  },
  {
   "cell_type": "code",
   "execution_count": 10,
   "id": "116436e2",
   "metadata": {
    "tags": []
   },
   "outputs": [
    {
     "data": {
      "text/plain": [
       "Timer unit: 1 s\n",
       "\n",
       "Total time: 67.7384 s\n",
       "File: main/shape_gradient.py\n",
       "Function: compute_gradient_df at line 161\n",
       "\n",
       "Line #      Hits         Time  Per Hit   % Time  Line Contents\n",
       "==============================================================\n",
       "   161                                               def compute_gradient_df(self,paramS):\n",
       "   162                                                   #compute the shape gradient by a differentiation first method\n",
       "   163         1          0.0      0.0      0.0          result={}\n",
       "   164         1          0.3      0.3      0.5          S=Toroidal_surface(paramS,(self.ntheta_coil,self.nzeta_coil),self.Np)\n",
       "   165         1          2.2      2.2      3.3          theta,dtildetheta,dtheta,dSdtheta=S.get_theta_pertubation()\n",
       "   166         1          0.4      0.4      0.6          T=tools.get_tensor_distance(S,self.Sp,self.rot_tensor)\n",
       "   167                                                   #LS=tools.compute_LS(T,self.matrixd_phi,S.jac_xyz,self.rot_tensor,self.Sp.n)\n",
       "   168         1          0.1      0.1      0.1          Qj=tools.compute_Qj(self.matrixd_phi,S.jac_xyz,S.ds)\n",
       "   169                                                   #shape derivation\n",
       "   170         1          0.0      0.0      0.1          dask_theta=da.from_array(theta,chunks=(self.chunk_theta,self.chunk_theta_coil,self.chunk_zeta_coil,3), asarray=False)\n",
       "   171         1          0.0      0.0      0.0          dask_dpsi=da.from_array(S.jac_xyz,chunks=(2,3,self.chunk_theta_coil,self.chunk_zeta_coil), asarray=False)\n",
       "   172                                                   \n",
       "   173         1          0.0      0.0      0.0          dask_normalp=da.from_array(self.Sp.n,chunks=(3,self.chunk_theta_plasma,self.chunk_zeta_plasma), asarray=False)\n",
       "   174         1          0.7      0.7      1.1          dask_T=da.from_array(T,chunks=(3,self.chunk_theta_coil,self.chunk_zeta_coil,self.chunk_theta_plasma,self.chunk_zeta_plasma,3), asarray=False)\n",
       "   175         1          0.1      0.1      0.1          dask_dtildetheta=da.from_array(dtildetheta,chunks=(self.chunk_theta,self.chunk_theta_coil,self.chunk_zeta_coil,3,3), asarray=False)\n",
       "   176         1          0.1      0.1      0.1          dask_dtheta=da.from_array(dtheta,chunks=(self.chunk_theta,self.chunk_theta_coil,self.chunk_zeta_coil,2,3), asarray=False)\n",
       "   177         1          0.0      0.0      0.0          dask_dSdtheta=da.from_array(dSdtheta,chunks=(self.chunk_theta,self.chunk_theta_coil,self.chunk_zeta_coil), asarray=False)\n",
       "   178         1          0.0      0.0      0.0          dask_dS=da.from_array(S.ds,chunks=(self.chunk_theta_coil,self.chunk_zeta_coil), asarray=False)\n",
       "   179                                                   \n",
       "   180                                                   #dask_D=1/(da.linalg.norm(dask_T,axis=-1)**3)\n",
       "   181                                                   #dask_DD=1/(da.linalg.norm(dask_T,axis=-1)**5)\n",
       "   182         1          1.9      1.9      2.7          D=1/(np.linalg.norm(T,axis=-1)**3)\n",
       "   183         1          1.9      1.9      2.7          DD=1/(np.linalg.norm(T,axis=-1)**5)\n",
       "   184         1          0.2      0.2      0.4          dask_D=da.from_array(D,chunks=(3,self.chunk_theta_coil,self.chunk_zeta_coil,self.chunk_theta_plasma,self.chunk_zeta_plasma), asarray=False)\n",
       "   185         1          0.2      0.2      0.4          dask_DD=da.from_array(DD,chunks=(3,self.chunk_theta_coil,self.chunk_zeta_coil,self.chunk_theta_plasma,self.chunk_zeta_plasma), asarray=False)\n",
       "   186         1          0.0      0.0      0.0          LS_dask=contract('ijklmn,ojkw,ipz,wzjk,qnp,ijklm,qlm->olm',dask_T,self.dask_matrixd_phi,self.dask_rot_tensor,dask_dpsi,self.dask_eijk,dask_D,dask_normalp,optimize=True)\n",
       "   187         1          1.8      1.8      2.7          LS=(mu_0/(4*np.pi))*LS_dask.compute()/(self.ntheta_coil*self.nzeta_coil)\n",
       "   188                                           \n",
       "   189         1          0.1      0.1      0.1          dLS_dask=-contract('inb,ajkb,ojkw,ipz,wzjk,qnp,ijklm,qlm->aolm',self.dask_rot_tensor,dask_theta,self.dask_matrixd_phi,self.dask_rot_tensor,dask_dpsi,self.dask_eijk,dask_D,dask_normalp,optimize=True)\n",
       "   190         1          0.2      0.2      0.2          dLS_dask+=3*contract('ibc,ajkc,ijklmb,ijklmn,ojkw,ipz,wzjk,qnp,ijklm,qlm->aolm',self.dask_rot_tensor,dask_theta,dask_T,dask_T,self.dask_matrixd_phi,self.dask_rot_tensor,dask_dpsi,self.dask_eijk,dask_DD,dask_normalp,optimize=True)\n",
       "   191         1          0.0      0.0      0.1          dLS_dask+=contract('ijklmn,ojkw,ipz,ajkbz,wbjk,qnp,ijklm,qlm->aolm',dask_T,self.dask_matrixd_phi,self.dask_rot_tensor,dask_dtildetheta,dask_dpsi,self.dask_eijk,dask_D,dask_normalp,optimize=True)\n",
       "   192         1         44.7     44.7     66.0          dLSdtheta=(mu_0/(4*np.pi))*dLS_dask.compute()/(self.ntheta_coil*self.nzeta_coil)\n",
       "   193         1          0.1      0.1      0.1          dask_dQj=tools.compute_dQjdtheta(self.dask_matrixd_phi,dask_dpsi,dask_dS,dask_dtheta,dask_dSdtheta)\n",
       "   194         1          5.6      5.6      8.3          dQj=dask_dQj.compute()\n",
       "   195         1          0.0      0.0      0.0          result['Qj']=Qj\n",
       "   196         1          0.0      0.0      0.0          result['dQj']=dQj\n",
       "   197         1          0.0      0.0      0.0          result['dLSdtheta']=dLSdtheta\n",
       "   198         1          0.0      0.0      0.0          result['LS']=LS\n",
       "   199                                           \n",
       "   200                                                   ### matrix versions:\n",
       "   201         1          0.0      0.0      0.0          output={}\n",
       "   202         1          0.0      0.0      0.0          LS_matrix=np.transpose(np.reshape(LS[2:,:,:],(LS.shape[0]-2,-1)))#matrix shape\n",
       "   203         1          0.0      0.0      0.0          BTn=self.net_poloidal_current_Amperes*LS[0]+self.net_toroidal_current_Amperes*LS[1]+self.array_bnorm\n",
       "   204         1          0.0      0.0      0.0          BTn_flat=-BTn.flatten()\n",
       "   205         1          0.0      0.0      0.0          result['array_bnorm']=self.array_bnorm\n",
       "   206                                                   #shape derivative of those matrices\n",
       "   207         1          0.0      0.0      0.0          dLS_matrix_dtheta=np.swapaxes(np.reshape(dLSdtheta[:,2:,:,:],(dLSdtheta.shape[0],dLSdtheta.shape[1]-2,-1)), 1, 2)\n",
       "   208         1          1.8      1.8      2.6          dLS_matrix_dtheta_dask=da.from_array(dLS_matrix_dtheta,chunks={0:1})#for parallelisation\n",
       "   209         1          0.0      0.0      0.0          dBTn_flat_dtheta= - np.reshape(self.net_poloidal_current_Amperes*dLSdtheta[:,0]+self.net_toroidal_current_Amperes*dLSdtheta[:,1],(dLSdtheta.shape[0],-1))\n",
       "   210                                                   \n",
       "   211         1          0.0      0.0      0.0          result['LS_matrix']=LS_matrix\n",
       "   212         1          0.0      0.0      0.0          result['dLS_matrix_dtheta']=dLS_matrix_dtheta\n",
       "   213                                           \n",
       "   214                                                   #we take the adjoint, note that we have to take care of the different innerproduct\n",
       "   215         1          0.0      0.0      0.0          plasma_dS_normalized=self.Sp.ds.flatten()/(self.Sp.nbpts[0]*self.Sp.nbpts[1])\n",
       "   216         2          0.0      0.0      0.0          inside_M_lambda=contract('ij,i,ik->jk',LS_matrix,plasma_dS_normalized,LS_matrix)\\\n",
       "   217         1          0.0      0.0      0.0              +self.lamb*Qj[2:,2:]\n",
       "   218                                                   \n",
       "   219         1          0.0      0.0      0.0          dinside_M_lambda_dtheta_dask=contract('oij,i,ik->ojk',dLS_matrix_dtheta_dask,plasma_dS_normalized,LS_matrix)+contract('ij,i,oik->ojk',LS_matrix,plasma_dS_normalized,dLS_matrix_dtheta_dask)\n",
       "   220         1          4.4      4.4      6.5          dinside_M_lambda_dtheta=dinside_M_lambda_dtheta_dask.compute()+self.lamb*dQj[:,2:,2:]\n",
       "   221                                                   \n",
       "   222         1          0.0      0.0      0.0          RHS=(contract('ij,i,i->j',LS_matrix,plasma_dS_normalized, BTn_flat)-self.lamb*(self.net_poloidal_current_Amperes*Qj[2:,0]+self.net_toroidal_current_Amperes*Qj[2:,1]) )\n",
       "   223         1          0.3      0.3      0.4          dRHS_dtheta=contract('oij,i,i->oj',dLS_matrix_dtheta,plasma_dS_normalized, BTn_flat)+contract('ij,i,oi->oj',LS_matrix,plasma_dS_normalized, dBTn_flat_dtheta)-self.lamb*(self.net_poloidal_current_Amperes*dQj[:,2:,0]+self.net_toroidal_current_Amperes*dQj[:,2:,1])\n",
       "   224         1          0.0      0.0      0.0          result['RHS']=RHS\n",
       "   225         1          0.0      0.0      0.0          result['dRHS_dtheta']=dRHS_dtheta\n",
       "   226         1          0.0      0.0      0.0          j_S_partial= np.linalg.solve(inside_M_lambda, RHS)\n",
       "   227         1          0.0      0.0      0.0          j_S=np.concatenate(([self.net_poloidal_current_Amperes,self.net_toroidal_current_Amperes],j_S_partial))\n",
       "   228         1          0.1      0.1      0.2          dj_S_partial_dtheta= np.linalg.solve(inside_M_lambda[np.newaxis,:,:], dRHS_dtheta)\n",
       "   229         1          0.1      0.1      0.2          dj_S_partial_dtheta-=np.linalg.solve(inside_M_lambda[np.newaxis,:,:],contract('oij,i->oj',dinside_M_lambda_dtheta, np.linalg.solve(inside_M_lambda,RHS)))\n",
       "   230         1          0.0      0.0      0.0          result['j_S_partial']=j_S_partial\n",
       "   231         1          0.0      0.0      0.0          result['dj_S_partial_dtheta']=dj_S_partial_dtheta\n",
       "   232                                                   #cost\n",
       "   233         1          0.0      0.0      0.0          B_err= (LS_matrix @ j_S_partial)- BTn_flat\n",
       "   234                                           \n",
       "   235         1          0.0      0.0      0.0          result['cost_B']=self.Np*contract('i,i,i->',B_err,B_err,plasma_dS_normalized)\n",
       "   236         1          0.0      0.0      0.0          result['cost_J']=self.Np*contract('i,ij,j->',j_S,Qj,j_S)\n",
       "   237         1          0.0      0.0      0.0          result['cost']=result['cost_B']+self.lamb*result['cost_J']\n",
       "   238         1          0.0      0.0      0.0          dcjdj= np.einsum('i,oij,j->o',j_S,dQj,j_S)\n",
       "   239         1          0.0      0.0      0.0          dcjdj+= 2*np.einsum('i,ij,oj->o',j_S,Qj[:,2:],dj_S_partial_dtheta)\n",
       "   240         1          0.0      0.0      0.0          result['dcost_J_dtheta']=self.Np*dcjdj\n",
       "   241                                           \n",
       "   242         2          0.3      0.1      0.4          tmp=np.einsum('oaij,a->oij',dLSdtheta,j_S)\\\n",
       "   243         1          0.1      0.1      0.1              +np.einsum('aij,oa->oij',LS[2:],dj_S_partial_dtheta)\n",
       "   244                                                   \n",
       "   245         1          0.0      0.0      0.0          dcbdj=(2*np.einsum('oi,i,i->o',np.reshape(tmp,(tmp.shape[0],-1)),B_err,plasma_dS_normalized))\n",
       "   246         1          0.0      0.0      0.0          result['dcost_B_dtheta']=self.Np*dcbdj\n",
       "   247         1          0.0      0.0      0.0          result['shape_gradient']=(dcbdj+self.lamb*dcjdj)*self.Np\n",
       "   248                                           \n",
       "   249         1          0.0      0.0      0.0          return result"
      ]
     },
     "metadata": {},
     "output_type": "display_data"
    }
   ],
   "source": [
    "%lprun -u 1 -f shape_grad.compute_gradient_df shape_grad.compute_gradient_df(S_parametrization)"
   ]
  },
  {
   "cell_type": "code",
   "execution_count": 11,
   "id": "57c2e0d4",
   "metadata": {
    "tags": []
   },
   "outputs": [
    {
     "data": {
      "text/plain": [
       "Timer unit: 1 s\n",
       "\n",
       "Total time: 6.16886 s\n",
       "File: main/shape_gradient.py\n",
       "Function: compute_gradient_of at line 59\n",
       "\n",
       "Line #      Hits         Time  Per Hit   % Time  Line Contents\n",
       "==============================================================\n",
       "    59                                               def compute_gradient_of(self,paramS):\n",
       "    60                                                   #compute the shape gradient by a optimization first method\n",
       "    61         1          0.0      0.0      0.0          result={}\n",
       "    62         1          0.3      0.3      5.3          S=Toroidal_surface(paramS,(self.ntheta_coil,self.nzeta_coil),self.Np)\n",
       "    63                                                   # for latter, when we will implement GPU support\n",
       "    64         1          0.0      0.0      0.0          f,f_np,get = lambda x : x,lambda x : x,lambda x : x\n",
       "    65                                                   #tensors computations\n",
       "    66         1          0.4      0.4      5.8          T=tools.get_tensor_distance(S,self.Sp,self.rot_tensor)\n",
       "    67         1          0.0      0.0      0.0          result['T']=T\n",
       "    68         1          0.7      0.7     11.9          T=f(da.from_array(T,chunks=(3,self.chunk_theta_coil,self.chunk_zeta_coil,self.chunk_theta_plasma,self.chunk_zeta_plasma,3), asarray=False))\n",
       "    69         1          0.0      0.0      0.1          matrixd_phi=f(da.from_array(self.matrixd_phi,chunks={1:self.chunk_theta_coil,2:self.chunk_zeta_coil}, asarray=False))\n",
       "    70         1          0.0      0.0      0.0          dpsi= f(da.from_array(S.jac_xyz,chunks=(2,3,self.chunk_theta_coil,self.chunk_zeta_coil), asarray=False))\n",
       "    71         1          0.0      0.0      0.0          normalp= f(da.from_array(self.Sp.n,chunks=(3,self.chunk_theta_plasma,self.chunk_zeta_plasma), asarray=False))\n",
       "    72         1          0.0      0.0      0.0          S_dS= f(da.from_array(S.ds,chunks=(self.chunk_theta_coil,self.chunk_zeta_coil), asarray=False))\n",
       "    73         1          0.0      0.0      0.2          D=1/(da.linalg.norm(T,axis=-1)**3)\n",
       "    74         1          0.0      0.0      0.3          DD=1/(da.linalg.norm(T,axis=-1)**5)\n",
       "    75         1          0.0      0.0      0.4          Qj=tools.compute_Qj(matrixd_phi,dpsi,S_dS)\n",
       "    76         1          0.0      0.0      0.4          LS=(mu_0/(4*np.pi))*contract('ijklmn,ojkw,ipz,wzjk,qnp,ijklm,qlm->olm',T,matrixd_phi,self.rot_tensor,dpsi,self.dask_eijk,D,normalp,optimize=True)/(S.nbpts[0]*S.nbpts[1])\n",
       "    77                                           \n",
       "    78                                                   # We solve the inverse problem\n",
       "    79         1          0.0      0.0      0.0          BT=-self.array_bnorm\n",
       "    80         1          0.0      0.0      0.0          LS_R=LS[2:]\n",
       "    81         1          0.0      0.0      0.5          Qj_inv_R=np.linalg.inv(Qj[2:,2:])\n",
       "    82         1          0.0      0.0      0.1          LS_dagger_R=np.einsum('ut,tij,ij->uij',Qj_inv_R,LS_R,self.Sp.ds/self.Sp.npts)\n",
       "    83         1          0.0      0.0      0.1          inside_M_lambda_R= self.lamb*np.eye(LS_R.shape[0])+np.einsum('tpq,upq->tu',LS_dagger_R,LS_R)\n",
       "    84         1          0.0      0.0      0.1          M_lambda_R=np.linalg.inv(inside_M_lambda_R)\n",
       "    85                                                   \n",
       "    86                                                   # we compute the full Right Hand Side\n",
       "    87         1          0.0      0.0      0.1          B_tilde=BT-np.einsum('tpq,t',LS[:2],[self.net_poloidal_current_Amperes ,self.net_toroidal_current_Amperes])\n",
       "    88         1          0.0      0.0      0.1          LS_dagger_B_tilde=np.einsum('hpq,pq->h',LS_dagger_R,B_tilde)\n",
       "    89         1          0.0      0.0      0.2          RHS=LS_dagger_B_tilde-self.lamb*Qj_inv_R@Qj[2:,:2]@[self.net_poloidal_current_Amperes ,self.net_toroidal_current_Amperes]\n",
       "    90         1          0.0      0.0      0.1          j_S_R= M_lambda_R@RHS\n",
       "    91         1          0.0      0.0      0.0          j_S=np.concatenate(([self.net_poloidal_current_Amperes,self.net_toroidal_current_Amperes],j_S_R))\n",
       "    92                                                   \n",
       "    93                                                   # we save the results\n",
       "    94                                           \n",
       "    95         1          0.0      0.0      0.2          B_err= np.einsum('hpq,h',LS,j_S)- BT\n",
       "    96                                                   # we save the results\n",
       "    97         1          0.0      0.0      0.1          j_space_to_vector=contract('oijk,klij,ij->oijl',matrixd_phi,dpsi,1/S.ds)\n",
       "    98         1          0.0      0.0      0.0          def j_to_vector(j):\n",
       "    99                                                       \"\"\"from the space of divergence free vector field to 3d vector field on T\"\"\"\n",
       "   100                                                       if len(j)==len(j_space_to_vector):\n",
       "   101                                                           return np.einsum('o,oijl->ijl',j,j_space_to_vector)\n",
       "   102                                                       elif len(j)==len(j_space_to_vector)-2:\n",
       "   103                                                           return np.einsum('o,oijl->ijl',j,j_space_to_vector[2:])\n",
       "   104                                                       else:\n",
       "   105                                                            raise Exception('dimension error in j_to_vector')\n",
       "   106         1          0.0      0.0      0.1          B_err=np.einsum('opq,o->pq',LS,j_S)-BT\n",
       "   107         1          0.0      0.0      0.0          j_S_vector=contract('o,oijl->ijl',j_S,j_space_to_vector)\n",
       "   108                                           \n",
       "   109                                                   #We start to compute the shape gradient\n",
       "   110                                                   \n",
       "   111         1          0.0      0.0      0.0          K=np.einsum('sijpql,sijpq->sijpql',T,D)\n",
       "   112         1          0.0      0.0      0.2          DxK= -(np.einsum('sijpq,sab->sijpqab',D,self.rot_tensor)-3*np.einsum('sijpq,sijpqa,sijpqb,sbc->sijpqac',DD,T,T,self.rot_tensor))\n",
       "   113         1          0.0      0.0      0.3          Zp_aux= -(mu_0/(4*np.pi))*contract('sijpqa,sbe,abd,dpq,pq->ijpqe',K,self.rot_tensor,self.dask_eijk,normalp,self.Sp.ds/self.Sp.npts,optimize=True)\n",
       "   114         1          0.0      0.0      0.0          def Zp(k,j):\n",
       "   115                                                       return contract('ijpqe,pq,ija->ijae',Zp_aux,k,j)\n",
       "   116         1          0.0      0.0      0.0          def Z_p_hat(k,j):\n",
       "   117                                                       return (mu_0/(4*np.pi))*contract('saf,sijpqad,sce,pq,cpq,ebd,ijb,pq->ijf',self.dask_rot_tensor,DxK,self.dask_rot_tensor,k,normalp,self.dask_eijk,j,self.Sp.ds/self.Sp.npts)\n",
       "   118         1          0.0      0.0      0.0          def dLdtheta(k,j):\n",
       "   119                                                       return (-1*Z_p_hat(k,j),-1*Zp(k,j))\n",
       "   120         1          0.0      0.0      0.0          def dQdtheta(j1,j2):\n",
       "   121                                                       return (contract('ijl,ijk->ijlk',j1,j2)+contract('ijl,ijk->ijlk',j2,j1)+np.einsum('ijk,ijk,ijab->ijab',j1,j2,-np.eye(3)+np.einsum('aij,bij->ijab',S.n,S.n)))\n",
       "   122         1          0.0      0.0      0.7          I1_vector,I1_matrix =dLdtheta(2*B_err,j_S_vector)\n",
       "   123         1          0.0      0.0      0.3          I1_matrix2=self.lamb*dQdtheta(j_S_vector,j_S_vector)\n",
       "   124         1          0.1      0.1      2.0          x, y = dask.optimize(I1_vector, I1_matrix+I1_matrix2)\n",
       "   125         1          4.3      4.3     70.3          result['I1']=da.compute(x,y)\n",
       "   126                                                   # h=self.lamb*np.ones(len(LS_R)) + LS_dagger_B_tilde+ self.lamb*Qj_inv_R@Qj[2:,:2]@[self.net_poloidal_current_Amperes ,self.net_toroidal_current_Amperes]\n",
       "   127                                                   # result['h']=h.compute()\n",
       "   128                                                   # LS_j_S_hat=np.einsum('oij,o',LS_R,j_S_R)\n",
       "   129                                                   # I2_vector,I2_matrix =dLdtheta(-2*LS_j_S_hat,j_to_vector(M_lambda_R@h))\n",
       "   130                                                   # tmp_vec,tmp_mat= dLdtheta(-2*np.einsum('opq,o',LS_dagger_R,M_lambda_R@h),j_to_vector(h))\n",
       "   131                                                   # I2_vector+=tmp_vec\n",
       "   132                                                   # I2_matrix+=tmp_mat\n",
       "   133                                                   # I2_matrix+=dQdtheta(-2*self.lamb*j_to_vector(j_S_R),j_to_vector(M_lambda_R@h))\n",
       "   134                                                   # # we start the dRHS/dtheta\n",
       "   135                                                   # I3_vector,I3_matrix =dLdtheta(2*B_tilde,j_to_vector(M_lambda_R@h))\n",
       "   136                                                   # tmp_vec3,tmp_mat3= dLdtheta(np.einsum('tpq,t',LS_R,M_lambda_R@h), np.einsum('tijl,t->ijl',j_space_to_vector[:2],[self.net_poloidal_current_Amperes ,self.net_toroidal_current_Amperes]))\n",
       "   137                                                   # # the tricky part with derivative of Q\n",
       "   138                                                   # flag1=j_to_vector(-2*self.lamb*Qj_inv_R@M_lambda_R@h)\n",
       "   139                                                   # flag2=j_to_vector(np.concatenate(([self.net_poloidal_current_Amperes ,self.net_toroidal_current_Amperes],Qj_inv_R@Qj[2:,:2]@[self.net_poloidal_current_Amperes ,self.net_toroidal_current_Amperes])))\n",
       "   140                                                   # tmp_mat4=dQdtheta(flag1,flag2)\n",
       "   141                                                   # I3_vector=I3_vector+tmp_vec3\n",
       "   142                                                   # I3_matrix=I3_matrix+tmp_mat3+tmp_mat4\n",
       "   143                                                   # result['I2']=da.compute(I2_vector,I2_matrix)\n",
       "   144                                           \n",
       "   145                                                   #DEBUG\n",
       "   146                                                   # j1=np.random.random(129)\n",
       "   147                                                   # j2=np.random.random(129)\n",
       "   148                                                   # tmp1=contract('oth,t,h->o',dQj,j1,j2)\n",
       "   149                                                   # I1_matrix =dQdtheta(j_to_vector(j1),j_to_vector(j2))\n",
       "   150                                                   # tmp2=(0*np.einsum('ija,oija,ij->o',I1_vector,theta,S.ds/S.npts)+np.einsum('ijab,oijab,ij->o',I1_matrix,dtildetheta,S.ds/S.npts)).compute()\n",
       "   151                                                   # I2_matrix =dQdtheta(j_to_vector(j2),j_to_vector(j1))\n",
       "   152                                                   # tmp3=(0*np.einsum('ija,oija,ij->o',I1_vector,theta,S.ds/S.npts)+np.einsum('ijab,oijab,ij->o',I2_matrix,dtildetheta,S.ds/S.npts)).compute()\n",
       "   153                                                   # np.max(np.abs(tmp2-tmp1))\n",
       "   154                                                   \n",
       "   155                                           \n",
       "   156                                           \n",
       "   157                                           \n",
       "   158                                                   \n",
       "   159                                           \n",
       "   160         1          0.0      0.0      0.0          return result"
      ]
     },
     "metadata": {},
     "output_type": "display_data"
    }
   ],
   "source": [
    "%lprun -u 1 -f shape_grad.compute_gradient_of shape_grad.compute_gradient_of(S_parametrization)"
   ]
  },
  {
   "cell_type": "code",
   "execution_count": 12,
   "id": "002fa27e",
   "metadata": {},
   "outputs": [
    {
     "ename": "KeyboardInterrupt",
     "evalue": "",
     "output_type": "error",
     "traceback": [
      "\u001b[0;31m---------------------------------------------------------------------------\u001b[0m",
      "\u001b[0;31mKeyboardInterrupt\u001b[0m                         Traceback (most recent call last)",
      "\u001b[0;32m<ipython-input-12-ae0119d18ae9>\u001b[0m in \u001b[0;36m<module>\u001b[0;34m\u001b[0m\n\u001b[0;32m----> 1\u001b[0;31m \u001b[0mget_ipython\u001b[0m\u001b[0;34m(\u001b[0m\u001b[0;34m)\u001b[0m\u001b[0;34m.\u001b[0m\u001b[0mrun_line_magic\u001b[0m\u001b[0;34m(\u001b[0m\u001b[0;34m'timeit'\u001b[0m\u001b[0;34m,\u001b[0m \u001b[0;34m'shape_grad.compute_gradient_of(S_parametrization)'\u001b[0m\u001b[0;34m)\u001b[0m\u001b[0;34m\u001b[0m\u001b[0;34m\u001b[0m\u001b[0m\n\u001b[0m",
      "\u001b[0;32m~/miniconda3/envs/shape_opti/lib/python3.9/site-packages/IPython/core/interactiveshell.py\u001b[0m in \u001b[0;36mrun_line_magic\u001b[0;34m(self, magic_name, line, _stack_depth)\u001b[0m\n\u001b[1;32m   2342\u001b[0m                 \u001b[0mkwargs\u001b[0m\u001b[0;34m[\u001b[0m\u001b[0;34m'local_ns'\u001b[0m\u001b[0;34m]\u001b[0m \u001b[0;34m=\u001b[0m \u001b[0mself\u001b[0m\u001b[0;34m.\u001b[0m\u001b[0mget_local_scope\u001b[0m\u001b[0;34m(\u001b[0m\u001b[0mstack_depth\u001b[0m\u001b[0;34m)\u001b[0m\u001b[0;34m\u001b[0m\u001b[0;34m\u001b[0m\u001b[0m\n\u001b[1;32m   2343\u001b[0m             \u001b[0;32mwith\u001b[0m \u001b[0mself\u001b[0m\u001b[0;34m.\u001b[0m\u001b[0mbuiltin_trap\u001b[0m\u001b[0;34m:\u001b[0m\u001b[0;34m\u001b[0m\u001b[0;34m\u001b[0m\u001b[0m\n\u001b[0;32m-> 2344\u001b[0;31m                 \u001b[0mresult\u001b[0m \u001b[0;34m=\u001b[0m \u001b[0mfn\u001b[0m\u001b[0;34m(\u001b[0m\u001b[0;34m*\u001b[0m\u001b[0margs\u001b[0m\u001b[0;34m,\u001b[0m \u001b[0;34m**\u001b[0m\u001b[0mkwargs\u001b[0m\u001b[0;34m)\u001b[0m\u001b[0;34m\u001b[0m\u001b[0;34m\u001b[0m\u001b[0m\n\u001b[0m\u001b[1;32m   2345\u001b[0m             \u001b[0;32mreturn\u001b[0m \u001b[0mresult\u001b[0m\u001b[0;34m\u001b[0m\u001b[0;34m\u001b[0m\u001b[0m\n\u001b[1;32m   2346\u001b[0m \u001b[0;34m\u001b[0m\u001b[0m\n",
      "\u001b[0;32m~/miniconda3/envs/shape_opti/lib/python3.9/site-packages/decorator.py\u001b[0m in \u001b[0;36mfun\u001b[0;34m(*args, **kw)\u001b[0m\n\u001b[1;32m    229\u001b[0m             \u001b[0;32mif\u001b[0m \u001b[0;32mnot\u001b[0m \u001b[0mkwsyntax\u001b[0m\u001b[0;34m:\u001b[0m\u001b[0;34m\u001b[0m\u001b[0;34m\u001b[0m\u001b[0m\n\u001b[1;32m    230\u001b[0m                 \u001b[0margs\u001b[0m\u001b[0;34m,\u001b[0m \u001b[0mkw\u001b[0m \u001b[0;34m=\u001b[0m \u001b[0mfix\u001b[0m\u001b[0;34m(\u001b[0m\u001b[0margs\u001b[0m\u001b[0;34m,\u001b[0m \u001b[0mkw\u001b[0m\u001b[0;34m,\u001b[0m \u001b[0msig\u001b[0m\u001b[0;34m)\u001b[0m\u001b[0;34m\u001b[0m\u001b[0;34m\u001b[0m\u001b[0m\n\u001b[0;32m--> 231\u001b[0;31m             \u001b[0;32mreturn\u001b[0m \u001b[0mcaller\u001b[0m\u001b[0;34m(\u001b[0m\u001b[0mfunc\u001b[0m\u001b[0;34m,\u001b[0m \u001b[0;34m*\u001b[0m\u001b[0;34m(\u001b[0m\u001b[0mextras\u001b[0m \u001b[0;34m+\u001b[0m \u001b[0margs\u001b[0m\u001b[0;34m)\u001b[0m\u001b[0;34m,\u001b[0m \u001b[0;34m**\u001b[0m\u001b[0mkw\u001b[0m\u001b[0;34m)\u001b[0m\u001b[0;34m\u001b[0m\u001b[0;34m\u001b[0m\u001b[0m\n\u001b[0m\u001b[1;32m    232\u001b[0m     \u001b[0mfun\u001b[0m\u001b[0;34m.\u001b[0m\u001b[0m__name__\u001b[0m \u001b[0;34m=\u001b[0m \u001b[0mfunc\u001b[0m\u001b[0;34m.\u001b[0m\u001b[0m__name__\u001b[0m\u001b[0;34m\u001b[0m\u001b[0;34m\u001b[0m\u001b[0m\n\u001b[1;32m    233\u001b[0m     \u001b[0mfun\u001b[0m\u001b[0;34m.\u001b[0m\u001b[0m__doc__\u001b[0m \u001b[0;34m=\u001b[0m \u001b[0mfunc\u001b[0m\u001b[0;34m.\u001b[0m\u001b[0m__doc__\u001b[0m\u001b[0;34m\u001b[0m\u001b[0;34m\u001b[0m\u001b[0m\n",
      "\u001b[0;32m~/miniconda3/envs/shape_opti/lib/python3.9/site-packages/IPython/core/magic.py\u001b[0m in \u001b[0;36m<lambda>\u001b[0;34m(f, *a, **k)\u001b[0m\n\u001b[1;32m    185\u001b[0m     \u001b[0;31m# but it's overkill for just that one bit of state.\u001b[0m\u001b[0;34m\u001b[0m\u001b[0;34m\u001b[0m\u001b[0;34m\u001b[0m\u001b[0m\n\u001b[1;32m    186\u001b[0m     \u001b[0;32mdef\u001b[0m \u001b[0mmagic_deco\u001b[0m\u001b[0;34m(\u001b[0m\u001b[0marg\u001b[0m\u001b[0;34m)\u001b[0m\u001b[0;34m:\u001b[0m\u001b[0;34m\u001b[0m\u001b[0;34m\u001b[0m\u001b[0m\n\u001b[0;32m--> 187\u001b[0;31m         \u001b[0mcall\u001b[0m \u001b[0;34m=\u001b[0m \u001b[0;32mlambda\u001b[0m \u001b[0mf\u001b[0m\u001b[0;34m,\u001b[0m \u001b[0;34m*\u001b[0m\u001b[0ma\u001b[0m\u001b[0;34m,\u001b[0m \u001b[0;34m**\u001b[0m\u001b[0mk\u001b[0m\u001b[0;34m:\u001b[0m \u001b[0mf\u001b[0m\u001b[0;34m(\u001b[0m\u001b[0;34m*\u001b[0m\u001b[0ma\u001b[0m\u001b[0;34m,\u001b[0m \u001b[0;34m**\u001b[0m\u001b[0mk\u001b[0m\u001b[0;34m)\u001b[0m\u001b[0;34m\u001b[0m\u001b[0;34m\u001b[0m\u001b[0m\n\u001b[0m\u001b[1;32m    188\u001b[0m \u001b[0;34m\u001b[0m\u001b[0m\n\u001b[1;32m    189\u001b[0m         \u001b[0;32mif\u001b[0m \u001b[0mcallable\u001b[0m\u001b[0;34m(\u001b[0m\u001b[0marg\u001b[0m\u001b[0;34m)\u001b[0m\u001b[0;34m:\u001b[0m\u001b[0;34m\u001b[0m\u001b[0;34m\u001b[0m\u001b[0m\n",
      "\u001b[0;32m~/miniconda3/envs/shape_opti/lib/python3.9/site-packages/IPython/core/magics/execution.py\u001b[0m in \u001b[0;36mtimeit\u001b[0;34m(self, line, cell, local_ns)\u001b[0m\n\u001b[1;32m   1171\u001b[0m                     \u001b[0;32mbreak\u001b[0m\u001b[0;34m\u001b[0m\u001b[0;34m\u001b[0m\u001b[0m\n\u001b[1;32m   1172\u001b[0m \u001b[0;34m\u001b[0m\u001b[0m\n\u001b[0;32m-> 1173\u001b[0;31m         \u001b[0mall_runs\u001b[0m \u001b[0;34m=\u001b[0m \u001b[0mtimer\u001b[0m\u001b[0;34m.\u001b[0m\u001b[0mrepeat\u001b[0m\u001b[0;34m(\u001b[0m\u001b[0mrepeat\u001b[0m\u001b[0;34m,\u001b[0m \u001b[0mnumber\u001b[0m\u001b[0;34m)\u001b[0m\u001b[0;34m\u001b[0m\u001b[0;34m\u001b[0m\u001b[0m\n\u001b[0m\u001b[1;32m   1174\u001b[0m         \u001b[0mbest\u001b[0m \u001b[0;34m=\u001b[0m \u001b[0mmin\u001b[0m\u001b[0;34m(\u001b[0m\u001b[0mall_runs\u001b[0m\u001b[0;34m)\u001b[0m \u001b[0;34m/\u001b[0m \u001b[0mnumber\u001b[0m\u001b[0;34m\u001b[0m\u001b[0;34m\u001b[0m\u001b[0m\n\u001b[1;32m   1175\u001b[0m         \u001b[0mworst\u001b[0m \u001b[0;34m=\u001b[0m \u001b[0mmax\u001b[0m\u001b[0;34m(\u001b[0m\u001b[0mall_runs\u001b[0m\u001b[0;34m)\u001b[0m \u001b[0;34m/\u001b[0m \u001b[0mnumber\u001b[0m\u001b[0;34m\u001b[0m\u001b[0;34m\u001b[0m\u001b[0m\n",
      "\u001b[0;32m~/miniconda3/envs/shape_opti/lib/python3.9/timeit.py\u001b[0m in \u001b[0;36mrepeat\u001b[0;34m(self, repeat, number)\u001b[0m\n\u001b[1;32m    203\u001b[0m         \u001b[0mr\u001b[0m \u001b[0;34m=\u001b[0m \u001b[0;34m[\u001b[0m\u001b[0;34m]\u001b[0m\u001b[0;34m\u001b[0m\u001b[0;34m\u001b[0m\u001b[0m\n\u001b[1;32m    204\u001b[0m         \u001b[0;32mfor\u001b[0m \u001b[0mi\u001b[0m \u001b[0;32min\u001b[0m \u001b[0mrange\u001b[0m\u001b[0;34m(\u001b[0m\u001b[0mrepeat\u001b[0m\u001b[0;34m)\u001b[0m\u001b[0;34m:\u001b[0m\u001b[0;34m\u001b[0m\u001b[0;34m\u001b[0m\u001b[0m\n\u001b[0;32m--> 205\u001b[0;31m             \u001b[0mt\u001b[0m \u001b[0;34m=\u001b[0m \u001b[0mself\u001b[0m\u001b[0;34m.\u001b[0m\u001b[0mtimeit\u001b[0m\u001b[0;34m(\u001b[0m\u001b[0mnumber\u001b[0m\u001b[0;34m)\u001b[0m\u001b[0;34m\u001b[0m\u001b[0;34m\u001b[0m\u001b[0m\n\u001b[0m\u001b[1;32m    206\u001b[0m             \u001b[0mr\u001b[0m\u001b[0;34m.\u001b[0m\u001b[0mappend\u001b[0m\u001b[0;34m(\u001b[0m\u001b[0mt\u001b[0m\u001b[0;34m)\u001b[0m\u001b[0;34m\u001b[0m\u001b[0;34m\u001b[0m\u001b[0m\n\u001b[1;32m    207\u001b[0m         \u001b[0;32mreturn\u001b[0m \u001b[0mr\u001b[0m\u001b[0;34m\u001b[0m\u001b[0;34m\u001b[0m\u001b[0m\n",
      "\u001b[0;32m~/miniconda3/envs/shape_opti/lib/python3.9/site-packages/IPython/core/magics/execution.py\u001b[0m in \u001b[0;36mtimeit\u001b[0;34m(self, number)\u001b[0m\n\u001b[1;32m    167\u001b[0m         \u001b[0mgc\u001b[0m\u001b[0;34m.\u001b[0m\u001b[0mdisable\u001b[0m\u001b[0;34m(\u001b[0m\u001b[0;34m)\u001b[0m\u001b[0;34m\u001b[0m\u001b[0;34m\u001b[0m\u001b[0m\n\u001b[1;32m    168\u001b[0m         \u001b[0;32mtry\u001b[0m\u001b[0;34m:\u001b[0m\u001b[0;34m\u001b[0m\u001b[0;34m\u001b[0m\u001b[0m\n\u001b[0;32m--> 169\u001b[0;31m             \u001b[0mtiming\u001b[0m \u001b[0;34m=\u001b[0m \u001b[0mself\u001b[0m\u001b[0;34m.\u001b[0m\u001b[0minner\u001b[0m\u001b[0;34m(\u001b[0m\u001b[0mit\u001b[0m\u001b[0;34m,\u001b[0m \u001b[0mself\u001b[0m\u001b[0;34m.\u001b[0m\u001b[0mtimer\u001b[0m\u001b[0;34m)\u001b[0m\u001b[0;34m\u001b[0m\u001b[0;34m\u001b[0m\u001b[0m\n\u001b[0m\u001b[1;32m    170\u001b[0m         \u001b[0;32mfinally\u001b[0m\u001b[0;34m:\u001b[0m\u001b[0;34m\u001b[0m\u001b[0;34m\u001b[0m\u001b[0m\n\u001b[1;32m    171\u001b[0m             \u001b[0;32mif\u001b[0m \u001b[0mgcold\u001b[0m\u001b[0;34m:\u001b[0m\u001b[0;34m\u001b[0m\u001b[0;34m\u001b[0m\u001b[0m\n",
      "\u001b[0;32m<magic-timeit>\u001b[0m in \u001b[0;36minner\u001b[0;34m(_it, _timer)\u001b[0m\n",
      "\u001b[0;32m~/stellacage_code/main/shape_gradient.py\u001b[0m in \u001b[0;36mcompute_gradient_of\u001b[0;34m(self, paramS)\u001b[0m\n\u001b[1;32m     66\u001b[0m         \u001b[0mT\u001b[0m\u001b[0;34m=\u001b[0m\u001b[0mtools\u001b[0m\u001b[0;34m.\u001b[0m\u001b[0mget_tensor_distance\u001b[0m\u001b[0;34m(\u001b[0m\u001b[0mS\u001b[0m\u001b[0;34m,\u001b[0m\u001b[0mself\u001b[0m\u001b[0;34m.\u001b[0m\u001b[0mSp\u001b[0m\u001b[0;34m,\u001b[0m\u001b[0mself\u001b[0m\u001b[0;34m.\u001b[0m\u001b[0mrot_tensor\u001b[0m\u001b[0;34m)\u001b[0m\u001b[0;34m\u001b[0m\u001b[0;34m\u001b[0m\u001b[0m\n\u001b[1;32m     67\u001b[0m         \u001b[0mresult\u001b[0m\u001b[0;34m[\u001b[0m\u001b[0;34m'T'\u001b[0m\u001b[0;34m]\u001b[0m\u001b[0;34m=\u001b[0m\u001b[0mT\u001b[0m\u001b[0;34m\u001b[0m\u001b[0;34m\u001b[0m\u001b[0m\n\u001b[0;32m---> 68\u001b[0;31m         \u001b[0mT\u001b[0m\u001b[0;34m=\u001b[0m\u001b[0mf\u001b[0m\u001b[0;34m(\u001b[0m\u001b[0mda\u001b[0m\u001b[0;34m.\u001b[0m\u001b[0mfrom_array\u001b[0m\u001b[0;34m(\u001b[0m\u001b[0mT\u001b[0m\u001b[0;34m,\u001b[0m\u001b[0mchunks\u001b[0m\u001b[0;34m=\u001b[0m\u001b[0;34m(\u001b[0m\u001b[0;36m3\u001b[0m\u001b[0;34m,\u001b[0m\u001b[0mself\u001b[0m\u001b[0;34m.\u001b[0m\u001b[0mchunk_theta_coil\u001b[0m\u001b[0;34m,\u001b[0m\u001b[0mself\u001b[0m\u001b[0;34m.\u001b[0m\u001b[0mchunk_zeta_coil\u001b[0m\u001b[0;34m,\u001b[0m\u001b[0mself\u001b[0m\u001b[0;34m.\u001b[0m\u001b[0mchunk_theta_plasma\u001b[0m\u001b[0;34m,\u001b[0m\u001b[0mself\u001b[0m\u001b[0;34m.\u001b[0m\u001b[0mchunk_zeta_plasma\u001b[0m\u001b[0;34m,\u001b[0m\u001b[0;36m3\u001b[0m\u001b[0;34m)\u001b[0m\u001b[0;34m,\u001b[0m \u001b[0masarray\u001b[0m\u001b[0;34m=\u001b[0m\u001b[0;32mFalse\u001b[0m\u001b[0;34m)\u001b[0m\u001b[0;34m)\u001b[0m\u001b[0;34m\u001b[0m\u001b[0;34m\u001b[0m\u001b[0m\n\u001b[0m\u001b[1;32m     69\u001b[0m         \u001b[0mmatrixd_phi\u001b[0m\u001b[0;34m=\u001b[0m\u001b[0mf\u001b[0m\u001b[0;34m(\u001b[0m\u001b[0mda\u001b[0m\u001b[0;34m.\u001b[0m\u001b[0mfrom_array\u001b[0m\u001b[0;34m(\u001b[0m\u001b[0mself\u001b[0m\u001b[0;34m.\u001b[0m\u001b[0mmatrixd_phi\u001b[0m\u001b[0;34m,\u001b[0m\u001b[0mchunks\u001b[0m\u001b[0;34m=\u001b[0m\u001b[0;34m{\u001b[0m\u001b[0;36m1\u001b[0m\u001b[0;34m:\u001b[0m\u001b[0mself\u001b[0m\u001b[0;34m.\u001b[0m\u001b[0mchunk_theta_coil\u001b[0m\u001b[0;34m,\u001b[0m\u001b[0;36m2\u001b[0m\u001b[0;34m:\u001b[0m\u001b[0mself\u001b[0m\u001b[0;34m.\u001b[0m\u001b[0mchunk_zeta_coil\u001b[0m\u001b[0;34m}\u001b[0m\u001b[0;34m,\u001b[0m \u001b[0masarray\u001b[0m\u001b[0;34m=\u001b[0m\u001b[0;32mFalse\u001b[0m\u001b[0;34m)\u001b[0m\u001b[0;34m)\u001b[0m\u001b[0;34m\u001b[0m\u001b[0;34m\u001b[0m\u001b[0m\n\u001b[1;32m     70\u001b[0m         \u001b[0mdpsi\u001b[0m\u001b[0;34m=\u001b[0m \u001b[0mf\u001b[0m\u001b[0;34m(\u001b[0m\u001b[0mda\u001b[0m\u001b[0;34m.\u001b[0m\u001b[0mfrom_array\u001b[0m\u001b[0;34m(\u001b[0m\u001b[0mS\u001b[0m\u001b[0;34m.\u001b[0m\u001b[0mdpsi\u001b[0m\u001b[0;34m,\u001b[0m\u001b[0mchunks\u001b[0m\u001b[0;34m=\u001b[0m\u001b[0;34m(\u001b[0m\u001b[0;36m2\u001b[0m\u001b[0;34m,\u001b[0m\u001b[0;36m3\u001b[0m\u001b[0;34m,\u001b[0m\u001b[0mself\u001b[0m\u001b[0;34m.\u001b[0m\u001b[0mchunk_theta_coil\u001b[0m\u001b[0;34m,\u001b[0m\u001b[0mself\u001b[0m\u001b[0;34m.\u001b[0m\u001b[0mchunk_zeta_coil\u001b[0m\u001b[0;34m)\u001b[0m\u001b[0;34m,\u001b[0m \u001b[0masarray\u001b[0m\u001b[0;34m=\u001b[0m\u001b[0;32mFalse\u001b[0m\u001b[0;34m)\u001b[0m\u001b[0;34m)\u001b[0m\u001b[0;34m\u001b[0m\u001b[0;34m\u001b[0m\u001b[0m\n",
      "\u001b[0;32m~/miniconda3/envs/shape_opti/lib/python3.9/site-packages/dask/array/core.py\u001b[0m in \u001b[0;36mfrom_array\u001b[0;34m(x, chunks, name, lock, asarray, fancy, getitem, meta, inline_array)\u001b[0m\n\u001b[1;32m   3111\u001b[0m \u001b[0;34m\u001b[0m\u001b[0m\n\u001b[1;32m   3112\u001b[0m     \u001b[0;32mif\u001b[0m \u001b[0mname\u001b[0m \u001b[0;32min\u001b[0m \u001b[0;34m(\u001b[0m\u001b[0;32mNone\u001b[0m\u001b[0;34m,\u001b[0m \u001b[0;32mTrue\u001b[0m\u001b[0;34m)\u001b[0m\u001b[0;34m:\u001b[0m\u001b[0;34m\u001b[0m\u001b[0;34m\u001b[0m\u001b[0m\n\u001b[0;32m-> 3113\u001b[0;31m         \u001b[0mtoken\u001b[0m \u001b[0;34m=\u001b[0m \u001b[0mtokenize\u001b[0m\u001b[0;34m(\u001b[0m\u001b[0mx\u001b[0m\u001b[0;34m,\u001b[0m \u001b[0mchunks\u001b[0m\u001b[0;34m)\u001b[0m\u001b[0;34m\u001b[0m\u001b[0;34m\u001b[0m\u001b[0m\n\u001b[0m\u001b[1;32m   3114\u001b[0m         \u001b[0moriginal_name\u001b[0m \u001b[0;34m=\u001b[0m \u001b[0;34m\"array-original-\"\u001b[0m \u001b[0;34m+\u001b[0m \u001b[0mtoken\u001b[0m\u001b[0;34m\u001b[0m\u001b[0;34m\u001b[0m\u001b[0m\n\u001b[1;32m   3115\u001b[0m         \u001b[0mname\u001b[0m \u001b[0;34m=\u001b[0m \u001b[0mname\u001b[0m \u001b[0;32mor\u001b[0m \u001b[0;34m\"array-\"\u001b[0m \u001b[0;34m+\u001b[0m \u001b[0mtoken\u001b[0m\u001b[0;34m\u001b[0m\u001b[0;34m\u001b[0m\u001b[0m\n",
      "\u001b[0;32m~/miniconda3/envs/shape_opti/lib/python3.9/site-packages/dask/base.py\u001b[0m in \u001b[0;36mtokenize\u001b[0;34m(*args, **kwargs)\u001b[0m\n\u001b[1;32m    792\u001b[0m     \u001b[0;32mif\u001b[0m \u001b[0mkwargs\u001b[0m\u001b[0;34m:\u001b[0m\u001b[0;34m\u001b[0m\u001b[0;34m\u001b[0m\u001b[0m\n\u001b[1;32m    793\u001b[0m         \u001b[0margs\u001b[0m \u001b[0;34m=\u001b[0m \u001b[0margs\u001b[0m \u001b[0;34m+\u001b[0m \u001b[0;34m(\u001b[0m\u001b[0mkwargs\u001b[0m\u001b[0;34m,\u001b[0m\u001b[0;34m)\u001b[0m\u001b[0;34m\u001b[0m\u001b[0;34m\u001b[0m\u001b[0m\n\u001b[0;32m--> 794\u001b[0;31m     \u001b[0;32mreturn\u001b[0m \u001b[0mmd5\u001b[0m\u001b[0;34m(\u001b[0m\u001b[0mstr\u001b[0m\u001b[0;34m(\u001b[0m\u001b[0mtuple\u001b[0m\u001b[0;34m(\u001b[0m\u001b[0mmap\u001b[0m\u001b[0;34m(\u001b[0m\u001b[0mnormalize_token\u001b[0m\u001b[0;34m,\u001b[0m \u001b[0margs\u001b[0m\u001b[0;34m)\u001b[0m\u001b[0;34m)\u001b[0m\u001b[0;34m)\u001b[0m\u001b[0;34m.\u001b[0m\u001b[0mencode\u001b[0m\u001b[0;34m(\u001b[0m\u001b[0;34m)\u001b[0m\u001b[0;34m)\u001b[0m\u001b[0;34m.\u001b[0m\u001b[0mhexdigest\u001b[0m\u001b[0;34m(\u001b[0m\u001b[0;34m)\u001b[0m\u001b[0;34m\u001b[0m\u001b[0;34m\u001b[0m\u001b[0m\n\u001b[0m\u001b[1;32m    795\u001b[0m \u001b[0;34m\u001b[0m\u001b[0m\n\u001b[1;32m    796\u001b[0m \u001b[0;34m\u001b[0m\u001b[0m\n",
      "\u001b[0;32m~/miniconda3/envs/shape_opti/lib/python3.9/site-packages/dask/utils.py\u001b[0m in \u001b[0;36m__call__\u001b[0;34m(self, arg, *args, **kwargs)\u001b[0m\n\u001b[1;32m    510\u001b[0m         \"\"\"\n\u001b[1;32m    511\u001b[0m         \u001b[0mmeth\u001b[0m \u001b[0;34m=\u001b[0m \u001b[0mself\u001b[0m\u001b[0;34m.\u001b[0m\u001b[0mdispatch\u001b[0m\u001b[0;34m(\u001b[0m\u001b[0mtype\u001b[0m\u001b[0;34m(\u001b[0m\u001b[0marg\u001b[0m\u001b[0;34m)\u001b[0m\u001b[0;34m)\u001b[0m\u001b[0;34m\u001b[0m\u001b[0;34m\u001b[0m\u001b[0m\n\u001b[0;32m--> 512\u001b[0;31m         \u001b[0;32mreturn\u001b[0m \u001b[0mmeth\u001b[0m\u001b[0;34m(\u001b[0m\u001b[0marg\u001b[0m\u001b[0;34m,\u001b[0m \u001b[0;34m*\u001b[0m\u001b[0margs\u001b[0m\u001b[0;34m,\u001b[0m \u001b[0;34m**\u001b[0m\u001b[0mkwargs\u001b[0m\u001b[0;34m)\u001b[0m\u001b[0;34m\u001b[0m\u001b[0;34m\u001b[0m\u001b[0m\n\u001b[0m\u001b[1;32m    513\u001b[0m \u001b[0;34m\u001b[0m\u001b[0m\n\u001b[1;32m    514\u001b[0m     \u001b[0;34m@\u001b[0m\u001b[0mproperty\u001b[0m\u001b[0;34m\u001b[0m\u001b[0;34m\u001b[0m\u001b[0m\n",
      "\u001b[0;32m~/miniconda3/envs/shape_opti/lib/python3.9/site-packages/dask/base.py\u001b[0m in \u001b[0;36mnormalize_array\u001b[0;34m(x)\u001b[0m\n\u001b[1;32m   1009\u001b[0m         \u001b[0;32melse\u001b[0m\u001b[0;34m:\u001b[0m\u001b[0;34m\u001b[0m\u001b[0;34m\u001b[0m\u001b[0m\n\u001b[1;32m   1010\u001b[0m             \u001b[0;32mtry\u001b[0m\u001b[0;34m:\u001b[0m\u001b[0;34m\u001b[0m\u001b[0;34m\u001b[0m\u001b[0m\n\u001b[0;32m-> 1011\u001b[0;31m                 \u001b[0mdata\u001b[0m \u001b[0;34m=\u001b[0m \u001b[0mhash_buffer_hex\u001b[0m\u001b[0;34m(\u001b[0m\u001b[0mx\u001b[0m\u001b[0;34m.\u001b[0m\u001b[0mravel\u001b[0m\u001b[0;34m(\u001b[0m\u001b[0morder\u001b[0m\u001b[0;34m=\u001b[0m\u001b[0;34m\"K\"\u001b[0m\u001b[0;34m)\u001b[0m\u001b[0;34m.\u001b[0m\u001b[0mview\u001b[0m\u001b[0;34m(\u001b[0m\u001b[0;34m\"i1\"\u001b[0m\u001b[0;34m)\u001b[0m\u001b[0;34m)\u001b[0m\u001b[0;34m\u001b[0m\u001b[0;34m\u001b[0m\u001b[0m\n\u001b[0m\u001b[1;32m   1012\u001b[0m             \u001b[0;32mexcept\u001b[0m \u001b[0;34m(\u001b[0m\u001b[0mBufferError\u001b[0m\u001b[0;34m,\u001b[0m \u001b[0mAttributeError\u001b[0m\u001b[0;34m,\u001b[0m \u001b[0mValueError\u001b[0m\u001b[0;34m)\u001b[0m\u001b[0;34m:\u001b[0m\u001b[0;34m\u001b[0m\u001b[0;34m\u001b[0m\u001b[0m\n\u001b[1;32m   1013\u001b[0m                 \u001b[0mdata\u001b[0m \u001b[0;34m=\u001b[0m \u001b[0mhash_buffer_hex\u001b[0m\u001b[0;34m(\u001b[0m\u001b[0mx\u001b[0m\u001b[0;34m.\u001b[0m\u001b[0mcopy\u001b[0m\u001b[0;34m(\u001b[0m\u001b[0;34m)\u001b[0m\u001b[0;34m.\u001b[0m\u001b[0mravel\u001b[0m\u001b[0;34m(\u001b[0m\u001b[0morder\u001b[0m\u001b[0;34m=\u001b[0m\u001b[0;34m\"K\"\u001b[0m\u001b[0;34m)\u001b[0m\u001b[0;34m.\u001b[0m\u001b[0mview\u001b[0m\u001b[0;34m(\u001b[0m\u001b[0;34m\"i1\"\u001b[0m\u001b[0;34m)\u001b[0m\u001b[0;34m)\u001b[0m\u001b[0;34m\u001b[0m\u001b[0;34m\u001b[0m\u001b[0m\n",
      "\u001b[0;32m~/miniconda3/envs/shape_opti/lib/python3.9/site-packages/dask/hashing.py\u001b[0m in \u001b[0;36mhash_buffer_hex\u001b[0;34m(buf, hasher)\u001b[0m\n\u001b[1;32m     94\u001b[0m     \u001b[0mSame\u001b[0m \u001b[0;32mas\u001b[0m \u001b[0mhash_buffer\u001b[0m\u001b[0;34m,\u001b[0m \u001b[0mbut\u001b[0m \u001b[0mreturns\u001b[0m \u001b[0mits\u001b[0m \u001b[0mresult\u001b[0m \u001b[0;32min\u001b[0m \u001b[0mhex\u001b[0m\u001b[0;34m-\u001b[0m\u001b[0mencoded\u001b[0m \u001b[0mform\u001b[0m\u001b[0;34m.\u001b[0m\u001b[0;34m\u001b[0m\u001b[0;34m\u001b[0m\u001b[0m\n\u001b[1;32m     95\u001b[0m     \"\"\"\n\u001b[0;32m---> 96\u001b[0;31m     \u001b[0mh\u001b[0m \u001b[0;34m=\u001b[0m \u001b[0mhash_buffer\u001b[0m\u001b[0;34m(\u001b[0m\u001b[0mbuf\u001b[0m\u001b[0;34m,\u001b[0m \u001b[0mhasher\u001b[0m\u001b[0;34m)\u001b[0m\u001b[0;34m\u001b[0m\u001b[0;34m\u001b[0m\u001b[0m\n\u001b[0m\u001b[1;32m     97\u001b[0m     \u001b[0ms\u001b[0m \u001b[0;34m=\u001b[0m \u001b[0mbinascii\u001b[0m\u001b[0;34m.\u001b[0m\u001b[0mb2a_hex\u001b[0m\u001b[0;34m(\u001b[0m\u001b[0mh\u001b[0m\u001b[0;34m)\u001b[0m\u001b[0;34m\u001b[0m\u001b[0;34m\u001b[0m\u001b[0m\n\u001b[1;32m     98\u001b[0m     \u001b[0;32mreturn\u001b[0m \u001b[0ms\u001b[0m\u001b[0;34m.\u001b[0m\u001b[0mdecode\u001b[0m\u001b[0;34m(\u001b[0m\u001b[0;34m)\u001b[0m\u001b[0;34m\u001b[0m\u001b[0;34m\u001b[0m\u001b[0m\n",
      "\u001b[0;32m~/miniconda3/envs/shape_opti/lib/python3.9/site-packages/dask/hashing.py\u001b[0m in \u001b[0;36mhash_buffer\u001b[0;34m(buf, hasher)\u001b[0m\n\u001b[1;32m     84\u001b[0m     \u001b[0;32mfor\u001b[0m \u001b[0mhasher\u001b[0m \u001b[0;32min\u001b[0m \u001b[0mhashers\u001b[0m\u001b[0;34m:\u001b[0m\u001b[0;34m\u001b[0m\u001b[0;34m\u001b[0m\u001b[0m\n\u001b[1;32m     85\u001b[0m         \u001b[0;32mtry\u001b[0m\u001b[0;34m:\u001b[0m\u001b[0;34m\u001b[0m\u001b[0;34m\u001b[0m\u001b[0m\n\u001b[0;32m---> 86\u001b[0;31m             \u001b[0;32mreturn\u001b[0m \u001b[0mhasher\u001b[0m\u001b[0;34m(\u001b[0m\u001b[0mbuf\u001b[0m\u001b[0;34m)\u001b[0m\u001b[0;34m\u001b[0m\u001b[0;34m\u001b[0m\u001b[0m\n\u001b[0m\u001b[1;32m     87\u001b[0m         \u001b[0;32mexcept\u001b[0m \u001b[0;34m(\u001b[0m\u001b[0mTypeError\u001b[0m\u001b[0;34m,\u001b[0m \u001b[0mOverflowError\u001b[0m\u001b[0;34m)\u001b[0m\u001b[0;34m:\u001b[0m\u001b[0;34m\u001b[0m\u001b[0;34m\u001b[0m\u001b[0m\n\u001b[1;32m     88\u001b[0m             \u001b[0;32mpass\u001b[0m\u001b[0;34m\u001b[0m\u001b[0;34m\u001b[0m\u001b[0m\n",
      "\u001b[0;32m~/miniconda3/envs/shape_opti/lib/python3.9/site-packages/dask/hashing.py\u001b[0m in \u001b[0;36m_hash_sha1\u001b[0;34m(buf)\u001b[0m\n\u001b[1;32m     63\u001b[0m     \u001b[0mProduce\u001b[0m \u001b[0ma\u001b[0m \u001b[0;36m20\u001b[0m\u001b[0;34m-\u001b[0m\u001b[0mbytes\u001b[0m \u001b[0mhash\u001b[0m \u001b[0mof\u001b[0m \u001b[0;34m*\u001b[0m\u001b[0mbuf\u001b[0m\u001b[0;34m*\u001b[0m \u001b[0musing\u001b[0m \u001b[0mSHA1\u001b[0m\u001b[0;34m.\u001b[0m\u001b[0;34m\u001b[0m\u001b[0;34m\u001b[0m\u001b[0m\n\u001b[1;32m     64\u001b[0m     \"\"\"\n\u001b[0;32m---> 65\u001b[0;31m     \u001b[0;32mreturn\u001b[0m \u001b[0mhashlib\u001b[0m\u001b[0;34m.\u001b[0m\u001b[0msha1\u001b[0m\u001b[0;34m(\u001b[0m\u001b[0mbuf\u001b[0m\u001b[0;34m)\u001b[0m\u001b[0;34m.\u001b[0m\u001b[0mdigest\u001b[0m\u001b[0;34m(\u001b[0m\u001b[0;34m)\u001b[0m\u001b[0;34m\u001b[0m\u001b[0;34m\u001b[0m\u001b[0m\n\u001b[0m\u001b[1;32m     66\u001b[0m \u001b[0;34m\u001b[0m\u001b[0m\n\u001b[1;32m     67\u001b[0m \u001b[0;34m\u001b[0m\u001b[0m\n",
      "\u001b[0;31mKeyboardInterrupt\u001b[0m: "
     ]
    }
   ],
   "source": [
    "%timeit shape_grad.compute_gradient_of(S_parametrization)"
   ]
  }
 ],
 "metadata": {
  "kernelspec": {
   "display_name": "Python 3",
   "language": "python",
   "name": "python3"
  },
  "language_info": {
   "codemirror_mode": {
    "name": "ipython",
    "version": 3
   },
   "file_extension": ".py",
   "mimetype": "text/x-python",
   "name": "python",
   "nbconvert_exporter": "python",
   "pygments_lexer": "ipython3",
   "version": "3.9.4"
  }
 },
 "nbformat": 4,
 "nbformat_minor": 5
}
